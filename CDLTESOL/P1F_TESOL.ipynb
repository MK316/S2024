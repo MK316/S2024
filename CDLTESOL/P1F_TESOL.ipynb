{
  "nbformat": 4,
  "nbformat_minor": 0,
  "metadata": {
    "colab": {
      "private_outputs": true,
      "provenance": [],
      "authorship_tag": "ABX9TyMqu4IoslpVPlgSvDT3mfaR",
      "include_colab_link": true
    },
    "kernelspec": {
      "name": "python3",
      "display_name": "Python 3"
    },
    "language_info": {
      "name": "python"
    }
  },
  "cells": [
    {
      "cell_type": "markdown",
      "metadata": {
        "id": "view-in-github",
        "colab_type": "text"
      },
      "source": [
        "<a href=\"https://colab.research.google.com/github/MK316/Spring2024/blob/main/CDLTESOL/P1F_TESOL.ipynb\" target=\"_parent\"><img src=\"https://colab.research.google.com/assets/colab-badge.svg\" alt=\"Open In Colab\"/></a>"
      ]
    },
    {
      "cell_type": "code",
      "source": [
        "import pandas as pd"
      ],
      "metadata": {
        "id": "VWnUVDhe2iA7"
      },
      "execution_count": null,
      "outputs": []
    },
    {
      "cell_type": "code",
      "execution_count": null,
      "metadata": {
        "id": "SetGhCC51nLp"
      },
      "outputs": [],
      "source": [
        "url = \"https://raw.githubusercontent.com/MK316/Spring2024/main/DLTESOL/data/MP1-TESOL.csv\"\n",
        "\n",
        "df = pd.read_csv(url)\n",
        "\n",
        "df.head()"
      ]
    },
    {
      "cell_type": "code",
      "source": [
        "import matplotlib.pyplot as plt\n",
        "\n",
        "# Assuming the dataframe 'df' is already loaded and has the structure as mentioned\n",
        "# First, let's ensure the questions Q1 to Q5 are of numeric type\n",
        "df[['Q1', 'Q2', 'Q3', 'Q4', 'Q5']] = df[['Q1', 'Q2', 'Q3', 'Q4', 'Q5']].apply(pd.to_numeric, errors='coerce')\n",
        "\n",
        "# Calculate mean scores for each group and question\n",
        "group_means = df.groupby('Group')[['Q1', 'Q2', 'Q3', 'Q4', 'Q5']].mean()\n",
        "\n",
        "# Plotting\n",
        "fig, axes = plt.subplots(nrows=1, ncols=4, figsize=(20, 5))  # Adjust the number of rows and columns based on the number of groups\n",
        "\n",
        "for i, (group, data) in enumerate(group_means.iterrows()):\n",
        "    ax = axes[i]\n",
        "    data.plot(kind='bar', ax=ax, color=['blue', 'orange', 'green', 'red', 'purple'])\n",
        "    ax.set_title(f'Average Scores for {group}')\n",
        "    ax.set_ylim(0, 5)  # Assuming the scores range from 1 to 5\n",
        "    ax.set_ylabel('Average Score')\n",
        "    ax.set_xlabel('Questions')\n",
        "\n",
        "plt.tight_layout()\n",
        "plt.show()\n"
      ],
      "metadata": {
        "id": "kGsavnm_Lvx5"
      },
      "execution_count": null,
      "outputs": []
    },
    {
      "cell_type": "markdown",
      "source": [
        "# By questions"
      ],
      "metadata": {
        "id": "cqq5vCfTNDF5"
      }
    },
    {
      "cell_type": "code",
      "source": [
        "import matplotlib.pyplot as plt\n",
        "import seaborn as sns\n",
        "\n",
        "# Assuming the dataframe 'df' is already loaded and has the correct structure\n",
        "# Make sure the questions Q1 to Q5 are of numeric type\n",
        "# df[['Q1', 'Q2', 'Q3', 'Q4', 'Q5']] = df[['Q1', 'Q2', 'Q3', 'Q4', 'Q5']].apply(pd.to_numeric, errors='coerce')\n",
        "\n",
        "# Plotting box plots for each question\n",
        "fig, axes = plt.subplots(nrows=1, ncols=5, figsize=(20, 5))  # Adjust ncols to the number of questions\n",
        "\n",
        "# List of questions\n",
        "questions = ['Q1', 'Q2', 'Q3', 'Q4', 'Q5']\n",
        "\n",
        "# Determine global y limits by finding the overall min and max across all question columns\n",
        "y_min = df[['Q1', 'Q2', 'Q3', 'Q4', 'Q5']].min().min()\n",
        "y_max = df[['Q1', 'Q2', 'Q3', 'Q4', 'Q5']].max().max()\n",
        "\n",
        "for i, question in enumerate(questions):\n",
        "    ax = axes[i]\n",
        "    sns.boxplot(x='Group', y=question, data=df, ax=ax)\n",
        "    ax.set_title(f'Box Plot for {question}')\n",
        "    ax.set_ylim(y_min - 0.5, y_max + 0.5)  # Adjust y-axis limits with a small margin\n",
        "    ax.set_ylabel('Scores')\n",
        "    ax.set_xlabel('Group')\n",
        "\n",
        "plt.tight_layout()\n",
        "plt.show()\n"
      ],
      "metadata": {
        "id": "cVEd6mx4NT0t"
      },
      "execution_count": null,
      "outputs": []
    },
    {
      "cell_type": "markdown",
      "source": [
        "# Radar chart"
      ],
      "metadata": {
        "id": "glXmbTh9OdbP"
      }
    },
    {
      "cell_type": "code",
      "source": [
        "import matplotlib.pyplot as plt\n",
        "import pandas as pd\n",
        "import numpy as np\n",
        "from math import pi\n",
        "\n",
        "# Assuming 'df' is your DataFrame and already loaded\n",
        "df[['Q1', 'Q2', 'Q3', 'Q4', 'Q5']] = df[['Q1', 'Q2', 'Q3', 'Q4', 'Q5']].apply(pd.to_numeric, errors='coerce')\n",
        "\n",
        "# Get the mean scores for each group\n",
        "group_means = df.groupby('Group')[['Q1', 'Q2', 'Q3', 'Q4', 'Q5']].mean()\n",
        "\n",
        "# Number of variables we're plotting.\n",
        "categories = list(group_means.columns)\n",
        "N = len(categories)\n",
        "\n",
        "# What will be the angle of each axis in the plot? (divide the plot / number of variable)\n",
        "angles = [n / float(N) * 2 * pi for n in range(N)]\n",
        "angles += angles[:1]\n",
        "\n",
        "# Initialize the spider plot\n",
        "fig, axes = plt.subplots(figsize=(8, 8), nrows=2, ncols=2, subplot_kw=dict(polar=True))\n",
        "axes = axes.flatten()  # Flatten the array to iterate easily\n",
        "\n",
        "for ax, (group, row) in zip(axes, group_means.iterrows()):\n",
        "    data = row.tolist()\n",
        "    data += data[:1]  # complete the loop\n",
        "\n",
        "    # Draw one axe per group with a color and linestyle\n",
        "    ax.set_theta_offset(pi / 2)\n",
        "    ax.set_theta_direction(-1)\n",
        "\n",
        "    # Draw one axe per variable and add labels\n",
        "    plt.xticks(angles[:-1], categories, color='grey', size=8)\n",
        "\n",
        "    # Draw ylabels\n",
        "    ax.set_rlabel_position(0)\n",
        "    ax.set_ylim(0, 5)  # Assuming score scale is 0-5\n",
        "\n",
        "    # Plot data\n",
        "    ax.plot(angles, data, linewidth=2, linestyle='solid', label=group)\n",
        "    ax.fill(angles, data, alpha=0.4)\n",
        "\n",
        "    # Add a title\n",
        "    ax.set_title(group, size=11, color=ax.get_lines()[-1].get_color(), y=1.1)\n",
        "\n",
        "# Adjust layout\n",
        "plt.tight_layout()\n",
        "plt.show()\n"
      ],
      "metadata": {
        "id": "FJ7h46jrOe8H"
      },
      "execution_count": null,
      "outputs": []
    },
    {
      "cell_type": "code",
      "source": [
        "import matplotlib.pyplot as plt\n",
        "import pandas as pd\n",
        "import numpy as np\n",
        "from math import pi\n",
        "\n",
        "# Assuming 'df' is your DataFrame and already loaded\n",
        "df[['Q1', 'Q2', 'Q3', 'Q4', 'Q5']] = df[['Q1', 'Q2', 'Q3', 'Q4', 'Q5']].apply(pd.to_numeric, errors='coerce')\n",
        "\n",
        "# Get the mean scores for each group\n",
        "group_means = df.groupby('Group')[['Q1', 'Q2', 'Q3', 'Q4', 'Q5']].mean()\n",
        "\n",
        "# Number of variables (i.e., questions)\n",
        "categories = list(group_means.columns)\n",
        "N = len(categories)\n",
        "\n",
        "# Calculate angle for each category\n",
        "angles = [n / float(N) * 2 * pi for n in range(N)]\n",
        "angles += angles[:1]  # Complete the loop for the radar chart\n",
        "\n",
        "# Initialize the spider plot\n",
        "fig, axes = plt.subplots(figsize=(10, 10), nrows=2, ncols=2, subplot_kw=dict(polar=True))\n",
        "axes = axes.flatten()  # Flatten the array to iterate easily\n",
        "\n",
        "for ax, (group, row) in zip(axes, group_means.iterrows()):\n",
        "    data = row.tolist()\n",
        "    data += data[:1]  # Complete the loop\n",
        "\n",
        "    # Draw one axe per variable and add labels\n",
        "    ax.set_theta_offset(pi / 2)\n",
        "    ax.set_theta_direction(-1)\n",
        "    plt.xticks(angles[:-1], categories, color='grey', size=8)\n",
        "\n",
        "    # Draw ylabels\n",
        "    ax.set_rlabel_position(0)\n",
        "    ax.set_ylim(0, 5)  # Assuming score scale is 0-5\n",
        "\n",
        "    # Plot data\n",
        "    ax.plot(angles, data, linewidth=2, linestyle='solid', label=group)\n",
        "    ax.fill(angles, data, alpha=0.4)\n",
        "\n",
        "    # Add a title\n",
        "    ax.set_title(group, size=11, color=ax.get_lines()[-1].get_color(), y=1.1)\n",
        "\n",
        "# Adjust layout\n",
        "plt.tight_layout()\n",
        "plt.show()\n"
      ],
      "metadata": {
        "id": "uTwfV0ypPMnN"
      },
      "execution_count": null,
      "outputs": []
    },
    {
      "cell_type": "code",
      "source": [
        "import matplotlib.pyplot as plt\n",
        "import pandas as pd\n",
        "import numpy as np\n",
        "from math import pi\n",
        "\n",
        "# Assuming 'df' is your DataFrame and already loaded\n",
        "df[['Q1', 'Q2', 'Q3', 'Q4', 'Q5']] = df[['Q1', 'Q2', 'Q3', 'Q4', 'Q5']].apply(pd.to_numeric, errors='coerce')\n",
        "\n",
        "# Get the mean scores for each group\n",
        "group_means = df.groupby('Group')[['Q1', 'Q2', 'Q3', 'Q4', 'Q5']].mean()\n",
        "\n",
        "# Number of variables (i.e., questions)\n",
        "categories = ['Q1-Inform', 'Q2-UseDT', 'Q3-Integration', 'Q4-Engagement', 'Q5-Clarity']\n",
        "N = len(categories)\n",
        "\n",
        "# Calculate angle for each category\n",
        "angles = [n / float(N) * 2 * pi for n in range(N)]\n",
        "angles += angles[:1]  # Complete the loop for the radar chart\n",
        "\n",
        "# Initialize the spider plot\n",
        "fig, axes = plt.subplots(figsize=(10, 10), nrows=2, ncols=2, subplot_kw=dict(polar=True))\n",
        "axes = axes.flatten()  # Flatten the array to iterate easily\n",
        "\n",
        "for ax, (group, row) in zip(axes, group_means.iterrows()):\n",
        "    data = row.tolist()\n",
        "    data += data[:1]  # Complete the loop\n",
        "\n",
        "    # Draw one axe per variable and add labels\n",
        "    ax.set_theta_offset(pi / 2)\n",
        "    ax.set_theta_direction(-1)\n",
        "\n",
        "    # Draw ylabels\n",
        "    ax.set_rlabel_position(0)\n",
        "    ax.set_ylim(0, 5)  # Assuming score scale is 0-5\n",
        "\n",
        "    # Setting the labels for questions\n",
        "    ax.set_xticks(angles[:-1])\n",
        "    ax.set_xticklabels(categories)\n",
        "\n",
        "    # Plot data\n",
        "    ax.plot(angles, data, linewidth=2, linestyle='solid', label=group)\n",
        "    ax.fill(angles, data, alpha=0.4)\n",
        "\n",
        "    # Add a title\n",
        "    ax.set_title(group, size=11, color=ax.get_lines()[-1].get_color(), y=1.1)\n",
        "\n",
        "# Adjust layout\n",
        "plt.tight_layout()\n",
        "plt.show()\n"
      ],
      "metadata": {
        "id": "zXxrXuxmPh5O"
      },
      "execution_count": null,
      "outputs": []
    },
    {
      "cell_type": "code",
      "source": [
        "import matplotlib.pyplot as plt\n",
        "import pandas as pd\n",
        "import numpy as np\n",
        "from math import pi\n",
        "\n",
        "# Assuming 'df' is your DataFrame and already loaded\n",
        "df[['Q1', 'Q2', 'Q3', 'Q4', 'Q5']] = df[['Q1', 'Q2', 'Q3', 'Q4', 'Q5']].apply(pd.to_numeric, errors='coerce')\n",
        "\n",
        "# Get the mean scores for each group\n",
        "group_means = df.groupby('Group')[['Q1', 'Q2', 'Q3', 'Q4', 'Q5']].mean()\n",
        "\n",
        "# Number of variables (i.e., questions)\n",
        "categories = ['Q1-Informativeness', 'Q2-UseDT', 'Q3-Integration', 'Q4-Engagement', 'Q5-Clarity']\n",
        "N = len(categories)\n",
        "\n",
        "# Calculate angle for each category\n",
        "angles = [n / float(N) * 2 * pi for n in range(N)]\n",
        "angles += angles[:1]  # Complete the loop for the radar chart\n",
        "\n",
        "# Initialize the spider plot\n",
        "fig, ax = plt.subplots(figsize=(8, 8), subplot_kw=dict(polar=True))\n",
        "\n",
        "# Define colors for each group\n",
        "colors = ['b', 'g', 'r', 'c']  # Blue, Green, Red, Cyan for G1, G2, G3, G4\n",
        "\n",
        "for (group, data), color in zip(group_means.iterrows(), colors):\n",
        "    values = data.tolist()\n",
        "    values += values[:1]  # complete the loop\n",
        "\n",
        "    # Plot data\n",
        "    ax.plot(angles, values, linewidth=2, linestyle='solid', label=group, color=color)\n",
        "    ax.fill(angles, values, alpha=0.25, color=color)  # Adjust transparency here\n",
        "\n",
        "    # Draw one axe per variable and add labels\n",
        "    ax.set_theta_offset(pi / 2)\n",
        "    ax.set_theta_direction(-1)\n",
        "\n",
        "    # Draw ylabels\n",
        "    ax.set_rlabel_position(0)\n",
        "    ax.set_ylim(0, 5)  # Assuming score scale is 0-5\n",
        "\n",
        "# Setting the labels for questions\n",
        "ax.set_xticks(angles[:-1])\n",
        "ax.set_xticklabels(categories)\n",
        "\n",
        "# Add legend\n",
        "ax.legend(loc='upper right', bbox_to_anchor=(1.2, 1.2))\n",
        "\n",
        "# Show plot\n",
        "plt.show()\n"
      ],
      "metadata": {
        "id": "0v9_IZYBQeNZ"
      },
      "execution_count": null,
      "outputs": []
    }
  ]
}