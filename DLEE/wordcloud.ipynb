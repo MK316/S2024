{
  "nbformat": 4,
  "nbformat_minor": 0,
  "metadata": {
    "colab": {
      "private_outputs": true,
      "provenance": [],
      "authorship_tag": "ABX9TyNqhiBMsJzZ7bqw3rWA73pb",
      "include_colab_link": true
    },
    "kernelspec": {
      "name": "python3",
      "display_name": "Python 3"
    },
    "language_info": {
      "name": "python"
    }
  },
  "cells": [
    {
      "cell_type": "markdown",
      "metadata": {
        "id": "view-in-github",
        "colab_type": "text"
      },
      "source": [
        "<a href=\"https://colab.research.google.com/github/MK316/Spring2024/blob/main/DLEE/wordcloud.ipynb\" target=\"_parent\"><img src=\"https://colab.research.google.com/assets/colab-badge.svg\" alt=\"Open In Colab\"/></a>"
      ]
    },
    {
      "cell_type": "markdown",
      "source": [
        "# 🌱 Wordcloud with your text"
      ],
      "metadata": {
        "id": "4azpD8zhJF2q"
      }
    },
    {
      "cell_type": "markdown",
      "source": [
        "## [1] Package installation"
      ],
      "metadata": {
        "id": "KNjIbkCrNrPm"
      }
    },
    {
      "cell_type": "markdown",
      "source": [
        "Note: To hide the installation process, you can do:\n",
        "```\n",
        "%%capture\n",
        "!pip install wordcloud matplotlib\n",
        "```"
      ],
      "metadata": {
        "id": "ZNbX7-OmiX2R"
      }
    },
    {
      "cell_type": "code",
      "execution_count": null,
      "metadata": {
        "id": "nrMn895UJDEP"
      },
      "outputs": [],
      "source": [
        "!pip install wordcloud matplotlib"
      ]
    },
    {
      "cell_type": "markdown",
      "source": [
        "## [2] Text to use"
      ],
      "metadata": {
        "id": "JH-WErN-Dlif"
      }
    },
    {
      "cell_type": "code",
      "source": [
        "# text = \"your text\"\n",
        "# text=input()\n",
        "text = \"In the ever-evolving world of technology, the importance of digital literacy cannot be overstated. It is the cornerstone of modern education, enabling learners to navigate and thrive in a digital landscape. At the heart of this digital revolution is coding – a skill that has become essential in various fields. Python, known for its simplicity and versatility, stands out as a preferred language for beginners and experts alike. Teaching Python offers a unique opportunity to blend coding with language learning. This approach not only equips students with technical skills but also enhances their cognitive abilities, akin to learning a new spoken language. The process of learning Python, much like any language, involves understanding syntax, grammar, and vocabulary. However, it extends beyond mere language acquisition; it fosters logical thinking and problem-solving skills. Incorporating Python into educational curriculums revolutionizes the way we think about teaching and learning. It opens doors to innovative teaching methods, where instructors can blend traditional language teaching techniques with the interactive, engaging nature of coding. This synergy enhances digital literacy, preparing students for a future where technology is ubiquitous. Furthermore, language learning principles can be effectively applied to teaching Python. Techniques such as spaced repetition, immersive learning, and contextual usage are not only beneficial in acquiring new languages but are equally effective in mastering programming languages. By integrating these methodologies, educators can create a more holistic and engaging learning experience. In conclusion, the intersection of Python, coding, language learning, teaching, and digital literacy represents a significant shift in educational paradigms. It emphasizes the need for a comprehensive understanding of digital tools and languages, preparing learners for the challenges of a digital future.\""
      ],
      "metadata": {
        "id": "CHIoUOENJKrX"
      },
      "execution_count": null,
      "outputs": []
    },
    {
      "cell_type": "markdown",
      "source": [
        "## [3] Generate Wordcloud image with the given text"
      ],
      "metadata": {
        "id": "Uwjr9KxeDox0"
      }
    },
    {
      "cell_type": "code",
      "source": [
        "from wordcloud import WordCloud\n",
        "import matplotlib.pyplot as plt\n",
        "\n",
        "# Generate word cloud\n",
        "\n",
        "wordcloud = WordCloud(width = 600, height = 400,\n",
        "                      background_color ='white',\n",
        "                      min_font_size = 10).generate(text)\n",
        "\n",
        "# Display the word cloud using matplotlib\n",
        "plt.figure(figsize = (8, 8), facecolor = None) # e.g., facecolor = \"gray\"\n",
        "plt.imshow(wordcloud)\n",
        "plt.axis(\"off\")\n",
        "plt.tight_layout(pad = 0)\n",
        "\n",
        "plt.show()\n",
        "\n",
        "plt.savefig('myimage.png')"
      ],
      "metadata": {
        "id": "LDFNfDA7JN0h"
      },
      "execution_count": null,
      "outputs": []
    },
    {
      "cell_type": "markdown",
      "source": [
        "## [4] Image to save"
      ],
      "metadata": {
        "id": "Er3NiA8rDueD"
      }
    },
    {
      "cell_type": "code",
      "source": [
        "# Save the image to the Colab files system\n",
        "wordcloud.to_file(\"/content/my_wordcloud.png\")\n"
      ],
      "metadata": {
        "id": "-C-DW9Ejngsx"
      },
      "execution_count": null,
      "outputs": []
    },
    {
      "cell_type": "markdown",
      "source": [
        "---\n",
        "+ If you want to download the file directly to your local device, you can use the following code:\n",
        "\n",
        "```\n",
        "from google.colab import files\n",
        "files.download(\"/content/my_wordcloud.png\")\n",
        "```\n",
        "---"
      ],
      "metadata": {
        "id": "TqUpXCb7CdVm"
      }
    },
    {
      "cell_type": "markdown",
      "source": [
        "## [5] Circle shape for wordcloud\n",
        "\n",
        "\n",
        "+ If you want to use your own mask for wordcloud image, refer to [here](https://amueller.github.io/word_cloud/auto_examples/masked.html)"
      ],
      "metadata": {
        "id": "mltjC3tjl-bh"
      }
    },
    {
      "cell_type": "code",
      "source": [
        "from wordcloud import WordCloud\n",
        "import matplotlib.pyplot as plt\n",
        "import numpy as np\n",
        "from PIL import Image\n",
        "\n",
        "# Create a circular mask\n",
        "x, y = np.ogrid[:800, :800]\n",
        "mask = (x - 400) ** 2 + (y - 400) ** 2 > 400 ** 2\n",
        "mask = 255 * mask.astype(int)\n",
        "\n",
        "# Generate word cloud with the circular mask\n",
        "wordcloud = WordCloud(width=800, height=800,\n",
        "                      background_color='white',\n",
        "                      mask=mask,\n",
        "                      contour_width=0,\n",
        "                      contour_color='steelblue',\n",
        "                      min_font_size=10).generate(text)\n",
        "\n",
        "# Display the word cloud using matplotlib\n",
        "plt.figure(figsize=(8, 8), facecolor=None)\n",
        "plt.imshow(wordcloud, interpolation='bilinear')\n",
        "plt.axis(\"off\")\n",
        "plt.tight_layout(pad=0)\n",
        "\n",
        "plt.show()"
      ],
      "metadata": {
        "id": "RuEGkU1lmApE"
      },
      "execution_count": null,
      "outputs": []
    },
    {
      "cell_type": "markdown",
      "source": [
        "## [6] 🚩 Gradio implemenetation (This doesn't work currently due to a bug in gradio updates)\n",
        "\n",
        "🌲[gradio site](https://www.gradio.app/guides/quickstart)"
      ],
      "metadata": {
        "id": "MnOo9Xz1JnZU"
      }
    },
    {
      "cell_type": "code",
      "source": [
        "# Gradio installation\n",
        "\n",
        "!pip install gradio"
      ],
      "metadata": {
        "id": "lqPFI8bsJqdK"
      },
      "execution_count": null,
      "outputs": []
    },
    {
      "cell_type": "code",
      "source": [
        "# Web-interface application\n",
        "import gradio as gr\n",
        "from wordcloud import WordCloud\n",
        "import matplotlib.pyplot as plt\n",
        "from PIL import Image\n",
        "import io  # Ensure this import is active\n",
        "\n",
        "def generate_wordcloud(text):\n",
        "    # Create a word cloud\n",
        "    wordcloud = WordCloud(width=800, height=800, background_color='white', min_font_size=10).generate(text)\n",
        "\n",
        "    # Convert word cloud to an image using BytesIO to handle image in memory\n",
        "    plt.figure(figsize=(8, 8), facecolor=None)\n",
        "    plt.imshow(wordcloud)\n",
        "    plt.axis(\"off\")\n",
        "    plt.tight_layout(pad=0)\n",
        "\n",
        "    buf = io.BytesIO()  # Make sure this line is uncommented\n",
        "    plt.savefig(buf, format='png')\n",
        "    plt.close()\n",
        "    buf.seek(0)\n",
        "    image = Image.open(buf)\n",
        "\n",
        "    return image\n",
        "\n",
        "# Create a Gradio interface\n",
        "interface = gr.Interface(fn=generate_wordcloud,\n",
        "                          inputs=\"text\",\n",
        "                          outputs=\"image\")\n",
        "\n",
        "interface.launch(debug=True)\n"
      ],
      "metadata": {
        "id": "VppiVXJoJo6z"
      },
      "execution_count": null,
      "outputs": []
    },
    {
      "cell_type": "markdown",
      "source": [
        "---\n",
        "The end"
      ],
      "metadata": {
        "id": "TVKZw0k1mSeu"
      }
    }
  ]
}