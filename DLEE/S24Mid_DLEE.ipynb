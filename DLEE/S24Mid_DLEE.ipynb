{
  "nbformat": 4,
  "nbformat_minor": 0,
  "metadata": {
    "colab": {
      "private_outputs": true,
      "provenance": [],
      "authorship_tag": "ABX9TyPAYLLaTor7kkFLxJlpWQZH",
      "include_colab_link": true
    },
    "kernelspec": {
      "name": "python3",
      "display_name": "Python 3"
    },
    "language_info": {
      "name": "python"
    }
  },
  "cells": [
    {
      "cell_type": "markdown",
      "metadata": {
        "id": "view-in-github",
        "colab_type": "text"
      },
      "source": [
        "<a href=\"https://colab.research.google.com/github/MK316/Spring2024/blob/main/DLEE/S24Mid_DLEE.ipynb\" target=\"_parent\"><img src=\"https://colab.research.google.com/assets/colab-badge.svg\" alt=\"Open In Colab\"/></a>"
      ]
    },
    {
      "cell_type": "markdown",
      "source": [
        "# 💦 S24 DLEE Midterm grade check"
      ],
      "metadata": {
        "id": "A1VTXsJBBLqU"
      }
    },
    {
      "cell_type": "code",
      "source": [
        "%%capture\n",
        "!pip install gradio\n",
        "# !pip uninstall spacy weasel -y"
      ],
      "metadata": {
        "id": "R_dV878mJHnX"
      },
      "execution_count": null,
      "outputs": []
    },
    {
      "cell_type": "code",
      "source": [
        "# Step 1: Mount Google Drive\n",
        "from google.colab import drive\n",
        "drive.mount('/content/drive')"
      ],
      "metadata": {
        "id": "BVukW3l8Epm3"
      },
      "execution_count": null,
      "outputs": []
    },
    {
      "cell_type": "code",
      "source": [
        "import pandas as pd\n",
        "\n",
        "file_path = '/content/drive/My Drive/2024Spring/DLEE/dlee24mid.csv'\n",
        "\n",
        "# Getting the column names\n",
        "column_names = df.columns.tolist()  # Converts the Index object to a list for easier use\n",
        "\n",
        "# Print the column names\n",
        "print(column_names)"
      ],
      "metadata": {
        "id": "9_Kzudd4Dau8"
      },
      "execution_count": null,
      "outputs": []
    },
    {
      "cell_type": "code",
      "source": [
        "#@markdown Check your grade (using Gmail-account without @gmail.com)\n",
        "import pandas as pd\n",
        "import gradio as gr\n",
        "\n",
        "# # Example DataFrame creation, replace this with loading your actual DataFrame\n",
        "# data = {\n",
        "#     'Gmail-ID': ['gmailaccount'],\n",
        "#     'SID': [202301008],\n",
        "#     'Names': ['홍길동'],\n",
        "#     'Multiple': [7],\n",
        "#     'image': [1],\n",
        "#     'audio': [0],\n",
        "#     'pdf': [1],\n",
        "#     'collaborator': [1],\n",
        "#     'Multi-total': [10],\n",
        "#     'Coding': [6],\n",
        "#     'Total': [16]\n",
        "# }\n",
        "# df = pd.DataFrame(data)\n",
        "\n",
        "def search_gmail(gmail_id):\n",
        "    # Filter the DataFrame for the provided Gmail-ID\n",
        "    result = df[df['Gmail-ID'] == gmail_id]\n",
        "    if result.empty:\n",
        "        return [\"No Data\"] * 10  # Return 'No Data' if no match found\n",
        "\n",
        "    # Prepare the output with YES/NO conversion\n",
        "    def yes_no(value):\n",
        "        return \"YES\" if value == 1 else \"NO\"\n",
        "\n",
        "    return [\n",
        "        result['SID'].values[0],\n",
        "        result['Names'].values[0],\n",
        "        result['Multiple'].values[0],\n",
        "        yes_no(result['image'].values[0]),\n",
        "        yes_no(result['audio'].values[0]),\n",
        "        yes_no(result['pdf'].values[0]),\n",
        "        yes_no(result['collaborator'].values[0]),\n",
        "        result['Multi-total'].values[0],\n",
        "        result['Coding'].values[0],\n",
        "        result['Total'].values[0]\n",
        "    ]\n",
        "\n",
        "# Gradio interface\n",
        "interface = gr.Interface(\n",
        "    fn=search_gmail,\n",
        "    inputs=[gr.Textbox(label=\"Enter Gmail-ID (Gmail-ID@gmail.com)\")],\n",
        "    outputs=[gr.Textbox(label=\"Student ID\"),\n",
        "             gr.Textbox(label=\"Name\"),\n",
        "             gr.Textbox(label=\"Multiple Choice (10 points)\"),\n",
        "             gr.Textbox(label=\"Image (1 point)\"),\n",
        "             gr.Textbox(label=\"Audio (1 point)\"),\n",
        "             gr.Textbox(label=\"PDF (1 point)\"),\n",
        "             gr.Textbox(label=\"Adding me as Collaborator (1 point)\"),\n",
        "             gr.Textbox(label=\"Multi-total (14 points)\"),\n",
        "             gr.Textbox(label=\"Coding (25 points)\"),\n",
        "             gr.Textbox(label=\"Total (39 points)\")],\n",
        "    title=\"Search by Gmail-ID\",\n",
        "    description=\"Enter a Gmail-ID to search and retrieve details.\"\n",
        ")\n",
        "\n",
        "interface.launch()\n"
      ],
      "metadata": {
        "cellView": "form",
        "id": "DpN4P1nmH1Vm"
      },
      "execution_count": null,
      "outputs": []
    },
    {
      "cell_type": "markdown",
      "source": [
        "[QR code app](https://mrkim21.github.io/appfolder/qrcode.html)"
      ],
      "metadata": {
        "id": "ORW-h8CbJP-t"
      }
    },
    {
      "cell_type": "code",
      "source": [
        "# from google.colab import drive\n",
        "# drive.flush_and_unmount()"
      ],
      "metadata": {
        "id": "TZN8mnjzFfgD"
      },
      "execution_count": null,
      "outputs": []
    }
  ]
}