{
  "nbformat": 4,
  "nbformat_minor": 0,
  "metadata": {
    "colab": {
      "private_outputs": true,
      "provenance": [],
      "authorship_tag": "ABX9TyP2qThGSw7xcpKye8xoMWZe",
      "include_colab_link": true
    },
    "kernelspec": {
      "name": "python3",
      "display_name": "Python 3"
    },
    "language_info": {
      "name": "python"
    }
  },
  "cells": [
    {
      "cell_type": "markdown",
      "metadata": {
        "id": "view-in-github",
        "colab_type": "text"
      },
      "source": [
        "<a href=\"https://colab.research.google.com/github/MK316/Spring2024/blob/main/DLTESOL/YouTubePlay.ipynb\" target=\"_parent\"><img src=\"https://colab.research.google.com/assets/colab-badge.svg\" alt=\"Open In Colab\"/></a>"
      ]
    },
    {
      "cell_type": "markdown",
      "source": [
        "# Video play\n",
        "\n",
        "+ Link example to paste\n",
        "\n",
        "```\n",
        "https://www.youtube.com/watch?v=L77IDc1kJBc\n",
        "\n",
        "# v=L77IDc1kJBc (video ID)\n",
        "```\n",
        "\n",
        "+ [sample](https://www.youtube.com/watch?v=L77IDc1kJBc)"
      ],
      "metadata": {
        "id": "-YC8od3c8229"
      }
    },
    {
      "cell_type": "code",
      "source": [
        "from IPython.display import YouTubeVideo\n",
        "\n",
        "YouTubeVideo('L77IDc1kJBc', width=600, height=400)  # This is an example video ID"
      ],
      "metadata": {
        "id": "or9RlEz9_Aff"
      },
      "execution_count": null,
      "outputs": []
    },
    {
      "cell_type": "markdown",
      "source": [
        "# [Option] If you want to play multiple videos in a class\n",
        "\n",
        "+ [video 1](https://www.youtube.com/watch?v=L77IDc1kJBc)\n",
        "+ [video 2](https://www.youtube.com/watch?v=bCsS0FeTUUs)\n",
        "+ [video 3](https://www.youtube.com/watch?v=E7tvOtt1itA)"
      ],
      "metadata": {
        "id": "fYlkkf4yAdO6"
      }
    },
    {
      "cell_type": "markdown",
      "source": [
        "data.split(): split string by space\n",
        "\n",
        "data.split(\"string\"): split string by \"string\""
      ],
      "metadata": {
        "id": "P2AqUe_RBcoP"
      }
    },
    {
      "cell_type": "code",
      "source": [
        "video = \"2_Hungry Caterpillar\" #@param = [\"1_Goodnight Ocean\",\"2_Hungry Caterpillar\",\"3_Brown Bear\"]\n",
        "\n",
        "temp = video.split(\"_\")[0]\n",
        "vid=int(temp)-1\n",
        "\n",
        "\n",
        "vids = [\"L77IDc1kJBc\",\"bCsS0FeTUUs\",\"E7tvOtt1itA\"]\n",
        "\n",
        "from IPython.display import YouTubeVideo\n",
        "\n",
        "YouTubeVideo(vids[vid], width=600, height=400)  # This is an example video ID"
      ],
      "metadata": {
        "cellView": "form",
        "id": "qE1ABuUAAf-F"
      },
      "execution_count": null,
      "outputs": []
    },
    {
      "cell_type": "markdown",
      "source": [
        "# Gradio implementation"
      ],
      "metadata": {
        "id": "cBA8EwmFCzf8"
      }
    },
    {
      "cell_type": "markdown",
      "source": [
        "+ Install gradio"
      ],
      "metadata": {
        "id": "wUxts32fFCGU"
      }
    },
    {
      "cell_type": "code",
      "execution_count": null,
      "metadata": {
        "id": "yMN554TH82Ay"
      },
      "outputs": [],
      "source": [
        "%%capture\n",
        "!pip install gradio"
      ]
    },
    {
      "cell_type": "code",
      "source": [
        "import gradio as gr\n",
        "\n",
        "# Function to display the YouTube video based on selected video and resolution\n",
        "def display_video(video, resolution):\n",
        "    import re\n",
        "\n",
        "    # Dictionary mapping video titles to YouTube IDs\n",
        "    video_ids = {\n",
        "        \"1_Goodnight Ocean\": \"L77IDc1kJBc\",\n",
        "        \"2_Hungry Caterpillar\": \"bCsS0FeTUUs\",\n",
        "        \"3_Brown Bear\": \"E7tvOtt1itA\"\n",
        "    }\n",
        "\n",
        "    # Extract the video ID based on the selected title\n",
        "    video_id = video_ids[video]\n",
        "\n",
        "    # Split the resolution string to get width and height\n",
        "    width, height = map(int, resolution.split('*'))\n",
        "\n",
        "    # Create the HTML code to embed the YouTube video\n",
        "    embed_code = f'<iframe width=\"{width}\" height=\"{height}\" src=\"https://www.youtube.com/embed/{video_id}\" frameborder=\"0\" allow=\"accelerometer; autoplay; clipboard-write; encrypted-media; gyroscope; picture-in-picture\" allowfullscreen></iframe>'\n",
        "    return embed_code\n",
        "\n",
        "# List of video titles for the dropdown\n",
        "video_options = [\"1_Goodnight Ocean\", \"2_Hungry Caterpillar\", \"3_Brown Bear\"]\n",
        "\n",
        "# List of resolutions for the dropdown\n",
        "resolution_options = [\"400*300\", \"600*400\"]\n",
        "\n",
        "# Setup the Gradio interface\n",
        "iface = gr.Interface(\n",
        "    fn=display_video,\n",
        "    inputs=[\n",
        "        gr.Dropdown(choices=video_options, label=\"Choose a Video\"),\n",
        "        gr.Dropdown(choices=resolution_options, label=\"Select Resolution\")\n",
        "    ],\n",
        "    outputs=\"html\",\n",
        "    title=\"YouTube Video Player\",\n",
        "    description=\"Select a video and its resolution to play.\"\n",
        ")\n",
        "\n",
        "# Launch the Gradio app\n",
        "iface.launch()\n"
      ],
      "metadata": {
        "id": "7an0uEkCC1m6"
      },
      "execution_count": null,
      "outputs": []
    },
    {
      "cell_type": "markdown",
      "source": [
        "# Sharing via QR"
      ],
      "metadata": {
        "id": "v4vSz_XVGD-8"
      }
    },
    {
      "cell_type": "code",
      "source": [
        "%%capture\n",
        "!pip install pyqrcode pypng"
      ],
      "metadata": {
        "id": "Gm5-3vSkGGQ2"
      },
      "execution_count": null,
      "outputs": []
    },
    {
      "cell_type": "code",
      "source": [
        "import pyqrcode\n",
        "import png\n",
        "from IPython.display import Image\n",
        "\n",
        "# Text or URL you want to encode in the QR code\n",
        "input_data = \"https://670e352b55327d5080.gradio.live\"\n",
        "\n",
        "# Generate the QR code\n",
        "qr_code = pyqrcode.create(input_data)\n",
        "\n",
        "# Save the QR code as a PNG file\n",
        "qr_code.png('qr_code.png', scale=10)\n",
        "\n",
        "# Display the QR code image\n",
        "display(Image('qr_code.png'))\n"
      ],
      "metadata": {
        "id": "5iYWL_n8G6Wp"
      },
      "execution_count": null,
      "outputs": []
    }
  ]
}