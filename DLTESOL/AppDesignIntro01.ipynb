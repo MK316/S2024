{
  "nbformat": 4,
  "nbformat_minor": 0,
  "metadata": {
    "colab": {
      "private_outputs": true,
      "provenance": [],
      "authorship_tag": "ABX9TyNJB7aTwkVqRZy+ZhWP16Q+",
      "include_colab_link": true
    },
    "kernelspec": {
      "name": "python3",
      "display_name": "Python 3"
    },
    "language_info": {
      "name": "python"
    }
  },
  "cells": [
    {
      "cell_type": "markdown",
      "metadata": {
        "id": "view-in-github",
        "colab_type": "text"
      },
      "source": [
        "<a href=\"https://colab.research.google.com/github/MK316/Spring2024/blob/main/DLTESOL/AppDesignIntro01.ipynb\" target=\"_parent\"><img src=\"https://colab.research.google.com/assets/colab-badge.svg\" alt=\"Open In Colab\"/></a>"
      ]
    },
    {
      "cell_type": "markdown",
      "source": [
        "## 1. Setting up the environment\n",
        "\n",
        "Ensure you have Python (installed on your computer or Colab platform). You can download it from the official Python website. Once Python is installed, use pip (Python's package manager) to install the necessary libraries: Gradio and Hugging Face's Transformers library.\n",
        "\n",
        "* Hugging Face's Transformers library: 🌀 [Hugging Face](https://huggingface.co/), 🌀 [example 1: text-to-image](https://huggingface.co/stabilityai/stable-diffusion-xl-base-1.0), 🌀[example 2: cartoon tyle image](https://huggingface.co/spaces/jbilcke-hf/ai-comic-factory)"
      ],
      "metadata": {
        "id": "30S_zndUqnDw"
      }
    },
    {
      "cell_type": "code",
      "execution_count": null,
      "metadata": {
        "id": "byDgDkZxp_1g"
      },
      "outputs": [],
      "source": [
        "!pip install gradio transformers\n"
      ]
    },
    {
      "cell_type": "markdown",
      "source": [
        "## [2] Understanding the basics\n",
        "\n",
        "+ Python: A powerful programming language used for various applications.\n",
        "+ Gradio: A library that helps you quickly create UIs for your machine learning models.\n",
        "+ Hugging Face's Transformers: A library that provides pre-trained models and pipelines for natural language processing tasks."
      ],
      "metadata": {
        "id": "Y-N_o7dZq0Mx"
      }
    },
    {
      "cell_type": "markdown",
      "source": [
        "##[3] Designing the APP"
      ],
      "metadata": {
        "id": "EhhaIrG3q_1_"
      }
    },
    {
      "cell_type": "markdown",
      "source": [
        "Import Necessary Libraries: Start your Python script by importing the required libraries:"
      ],
      "metadata": {
        "id": "_zoA7wZSrJdv"
      }
    },
    {
      "cell_type": "code",
      "source": [
        "import gradio as gr\n",
        "from transformers import pipeline\n"
      ],
      "metadata": {
        "id": "oDPYRkXCqBpE"
      },
      "execution_count": null,
      "outputs": []
    },
    {
      "cell_type": "markdown",
      "source": [
        "+ Load a Pre-trained Model: We'll use a pre-trained model for language translation.\n",
        "+ For example, let's use the MarianMT model for translation."
      ],
      "metadata": {
        "id": "iX6K-I_arGSc"
      }
    },
    {
      "cell_type": "code",
      "source": [
        "translator = pipeline(\"translation_en_to_fr\")\n"
      ],
      "metadata": {
        "id": "Zg5p5eE8qN6s"
      },
      "execution_count": null,
      "outputs": []
    },
    {
      "cell_type": "markdown",
      "source": [
        "+ Define Your User Interface: Use Gradio to define your app's interface. You can create a simple UI with an input text box for the user to enter text and an output text box to display the translated text."
      ],
      "metadata": {
        "id": "qnaZaNb7rRRk"
      }
    },
    {
      "cell_type": "markdown",
      "source": [
        "### Update after getting the recommendation message (from ChatGPT)\n",
        "```\n",
        "translator = pipeline(\"translation_en_to_fr\", model=\"Helsinki-NLP/opus-mt-en-fr\")\n",
        "```"
      ],
      "metadata": {
        "id": "QDcVjZz6zWw2"
      }
    },
    {
      "cell_type": "code",
      "source": [
        "def translate_text(text):\n",
        "    translated_text = translator(text)[0]['translation_text']\n",
        "    return translated_text\n",
        "\n",
        "input_text = gr.Textbox(lines=5, label=\"Enter English Text\")\n",
        "output_text = gr.Textbox(lines=5, label=\"Translated French Text\")\n",
        "\n",
        "gr.Interface(fn=translate_text, inputs=input_text, outputs=output_text).launch()\n"
      ],
      "metadata": {
        "id": "FlrI5Mi4qXEk"
      },
      "execution_count": null,
      "outputs": []
    },
    {
      "cell_type": "markdown",
      "source": [
        "##[4] Testing and improving\n",
        "\n",
        "+ Once your app is running, try entering different English texts to see how well it translates to French. You can also explore other pre-trained models provided by Hugging Face and customize your app according to your needs."
      ],
      "metadata": {
        "id": "6j_fLsvnrauq"
      }
    },
    {
      "cell_type": "markdown",
      "source": [
        "## [5] Deploying your app (optional)\n",
        "\n",
        "+ If you want to share your app with others, you can deploy it on platforms like Heroku or PythonAnywhere. Gradio provides easy-to-use deployment options to streamline this process."
      ],
      "metadata": {
        "id": "3E_2cLASrgjL"
      }
    },
    {
      "cell_type": "markdown",
      "source": [
        "---\n",
        "The end"
      ],
      "metadata": {
        "id": "yerL9d0cr7eo"
      }
    }
  ]
}