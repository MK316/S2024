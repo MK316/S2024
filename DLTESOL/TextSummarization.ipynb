{
  "nbformat": 4,
  "nbformat_minor": 0,
  "metadata": {
    "colab": {
      "private_outputs": true,
      "provenance": [],
      "authorship_tag": "ABX9TyMU6wPhdECKr54YTNqeQXrV",
      "include_colab_link": true
    },
    "kernelspec": {
      "name": "python3",
      "display_name": "Python 3"
    },
    "language_info": {
      "name": "python"
    }
  },
  "cells": [
    {
      "cell_type": "markdown",
      "metadata": {
        "id": "view-in-github",
        "colab_type": "text"
      },
      "source": [
        "<a href=\"https://colab.research.google.com/github/MK316/Spring2024/blob/main/DLTESOL/TextSummarization.ipynb\" target=\"_parent\"><img src=\"https://colab.research.google.com/assets/colab-badge.svg\" alt=\"Open In Colab\"/></a>"
      ]
    },
    {
      "cell_type": "markdown",
      "source": [
        "# Huggingface model: example\n",
        "\n",
        "### Text Summarization"
      ],
      "metadata": {
        "id": "Q_fdGpbc2VZP"
      }
    },
    {
      "cell_type": "code",
      "source": [
        "# Step 1: Install Gradio\n",
        "!pip install gradio"
      ],
      "metadata": {
        "id": "njSaJz8N16CH"
      },
      "execution_count": null,
      "outputs": []
    },
    {
      "cell_type": "markdown",
      "source": [
        "# Code from Huggingface model\n",
        "\n",
        "[sample text](https://raw.githubusercontent.com/MK316/Class_Spring2022/main/Ch02_Livinglight.txt)"
      ],
      "metadata": {
        "id": "I25AiXgR2LHB"
      }
    },
    {
      "cell_type": "code",
      "source": [
        "from transformers import pipeline\n",
        "\n",
        "summarizer = pipeline(\"summarization\", model=\"Falconsai/text_summarization\")\n",
        "\n",
        "ARTICLE = input()\n",
        "print(summarizer(ARTICLE, max_length=1000, min_length=30, do_sample=False))"
      ],
      "metadata": {
        "id": "su7eClKwu4dy"
      },
      "execution_count": null,
      "outputs": []
    },
    {
      "cell_type": "markdown",
      "source": [
        "# Gradio implementation"
      ],
      "metadata": {
        "id": "3PxNqtxB2SO9"
      }
    },
    {
      "cell_type": "code",
      "execution_count": null,
      "metadata": {
        "id": "lPp3YY9wuHiW"
      },
      "outputs": [],
      "source": [
        "# Step 2: Import necessary libraries\n",
        "import gradio as gr\n",
        "from transformers import pipeline\n",
        "\n",
        "# Step 3: Load the summarization pipeline\n",
        "summarizer = pipeline(\"summarization\", model=\"Falconsai/text_summarization\")\n",
        "\n",
        "# Step 4: Define a function to use the summarizer\n",
        "def summarize_article(article):\n",
        "    # Using the model to summarize the article\n",
        "    summary = summarizer(article, max_length=1000, min_length=30, do_sample=False)\n",
        "    return summary[0]['summary_text']\n",
        "\n",
        "# Step 5: Set up Gradio interface\n",
        "iface = gr.Interface(\n",
        "    fn=summarize_article,  # function to call\n",
        "    inputs=\"text\",  # input type\n",
        "    outputs=\"text\",  # output type\n",
        "    title=\"Text Summarization\",  # title of the app\n",
        "    description=\"Enter text to summarize using a machine learning model.\"  # description of the app\n",
        ")\n",
        "\n",
        "# Step 6: Launch the interface\n",
        "iface.launch()\n"
      ]
    }
  ]
}