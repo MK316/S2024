{
  "nbformat": 4,
  "nbformat_minor": 0,
  "metadata": {
    "colab": {
      "private_outputs": true,
      "provenance": [],
      "authorship_tag": "ABX9TyOF4cKjJ6Zkbj+Rp1YLxI49",
      "include_colab_link": true
    },
    "kernelspec": {
      "name": "python3",
      "display_name": "Python 3"
    },
    "language_info": {
      "name": "python"
    }
  },
  "cells": [
    {
      "cell_type": "markdown",
      "metadata": {
        "id": "view-in-github",
        "colab_type": "text"
      },
      "source": [
        "<a href=\"https://colab.research.google.com/github/MK316/Spring2024/blob/main/DLTESOL/PronunciationFeedbackApp.ipynb\" target=\"_parent\"><img src=\"https://colab.research.google.com/assets/colab-badge.svg\" alt=\"Open In Colab\"/></a>"
      ]
    },
    {
      "cell_type": "markdown",
      "source": [
        "# **Simple Language Application [3]: Prononciation Feedback (Accuracy)**\n",
        "\n",
        "Using Levenshtein distance"
      ],
      "metadata": {
        "id": "6gpUeq3xarKl"
      }
    },
    {
      "cell_type": "code",
      "source": [
        "%%capture\n",
        "!pip install gradio speechrecognition python-Levenshtein soundfile"
      ],
      "metadata": {
        "id": "7DEUGbJWa7VY"
      },
      "execution_count": null,
      "outputs": []
    },
    {
      "cell_type": "code",
      "source": [
        "import gradio as gr\n",
        "import speech_recognition as sr\n",
        "from Levenshtein import ratio\n",
        "import tempfile\n",
        "import numpy as np\n",
        "import soundfile as sf\n",
        "import pandas as pd\n",
        "\n",
        "# Sample dataframe with sentences\n",
        "data = {\n",
        "    \"Sentences\": [\n",
        "        \"The quick brown fox jumps over the lazy dog.\",\n",
        "        \"An apple a day keeps the doctor away.\",\n",
        "        \"To be or not to be, that is the question.\",\n",
        "        \"All human beings are born free and equal in dignity and rights.\",\n",
        "        \"She sells sea shells by the sea shore.\",\n",
        "        \"How much wood would a woodchuck chuck if a woodchuck could chuck wood?\",\n",
        "        \"A stitch in time saves nine.\",\n",
        "        \"Good things come to those who wait.\",\n",
        "        \"Time flies like an arrow; fruit flies like a banana.\",\n",
        "        \"You can't judge a book by its cover.\"\n",
        "    ]\n",
        "}\n",
        "df = pd.DataFrame(data)\n",
        "\n",
        "def transcribe_audio(file_info):\n",
        "    r = sr.Recognizer()\n",
        "    with tempfile.NamedTemporaryFile(delete=True, suffix=\".wav\") as tmpfile:\n",
        "        sf.write(file=tmpfile.name, data=file_info[1], samplerate=44100, format='WAV')\n",
        "        tmpfile.seek(0)\n",
        "        with sr.AudioFile(tmpfile.name) as source:\n",
        "            audio_data = r.record(source)\n",
        "    try:\n",
        "        text = r.recognize_google(audio_data)\n",
        "        return text\n",
        "    except sr.UnknownValueError:\n",
        "        return \"Could not understand audio\"\n",
        "    except sr.RequestError as e:\n",
        "        return f\"Could not request results; {e}\"\n",
        "\n",
        "def pronunciation_correction(selected_sentence, file_info):\n",
        "    expected_text = selected_sentence\n",
        "    user_spoken_text = transcribe_audio(file_info)\n",
        "    similarity = ratio(expected_text.lower(), user_spoken_text.lower())\n",
        "    description = f\"{similarity:.2f}\"  # Formats the float to 2 decimal places\n",
        "\n",
        "    if similarity >= 0.9:\n",
        "        feedback = \"Excellent pronunciation!\"\n",
        "    elif similarity >= 0.7:\n",
        "        feedback = \"Good pronunciation!\"\n",
        "    elif similarity >= 0.5:\n",
        "        feedback = \"Needs improvement.\"\n",
        "    else:\n",
        "        feedback = \"Poor pronunciation, try to focus more on clarity.\"\n",
        "\n",
        "    return feedback, description\n",
        "\n",
        "\n",
        "iface = gr.Interface(\n",
        "    fn=pronunciation_correction,\n",
        "    inputs=[\n",
        "        gr.Dropdown(choices=df['Sentences'].tolist(), label=\"Select a Sentence\"),\n",
        "        gr.Audio(label=\"Upload Audio File\", type=\"numpy\")\n",
        "    ],\n",
        "    outputs=[\n",
        "        gr.Textbox(label=\"Pronunciation Feedback\"),  # Custom label for the text output\n",
        "        gr.Number(label=\"Pronunciation Accuracy Score: 0 (No Match) ~ 1 (Perfect)\")  # Custom label for the numerical output\n",
        "    ],\n",
        "    title=\"🌀 Pronunciation Feedback Tool\"\n",
        ")\n",
        "\n",
        "\n",
        "iface.launch(debug=True)\n"
      ],
      "metadata": {
        "id": "z3rZFX5Ia6QX"
      },
      "execution_count": null,
      "outputs": []
    }
  ]
}