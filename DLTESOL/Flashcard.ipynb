{
  "cells": [
    {
      "cell_type": "markdown",
      "metadata": {
        "id": "view-in-github",
        "colab_type": "text"
      },
      "source": [
        "<a href=\"https://colab.research.google.com/github/MK316/Spring2024/blob/main/DLTESOL/Flashcard.ipynb\" target=\"_parent\"><img src=\"https://colab.research.google.com/assets/colab-badge.svg\" alt=\"Open In Colab\"/></a>"
      ]
    },
    {
      "cell_type": "markdown",
      "metadata": {
        "id": "OAAlvW8xZWwH"
      },
      "source": [
        "1. vibrant (adj)\n",
        "2. achievement (n)\n",
        "3. depicting (v)\n",
        "4. admired (v)\n",
        "5. anxious (adj)\n",
        "6. thrilled (adj)\n",
        "7. skeptics (n)"
      ]
    },
    {
      "cell_type": "code",
      "execution_count": 1,
      "metadata": {
        "id": "e4_SH3m1Zmj1"
      },
      "outputs": [],
      "source": [
        "%%capture\n",
        "!pip install nltk\n",
        "!pip install textblob\n",
        "!pip install ipywidgets\n",
        "\n",
        "import nltk\n",
        "nltk.download('punkt')\n",
        "nltk.download('wordnet')"
      ]
    },
    {
      "cell_type": "markdown",
      "source": [
        "## Miran message: The following lines are removed since it is already installed in the above code. Also, %%capture means \"hide the output\", so you can't use it to get the output in the code below.\n",
        "```\n",
        "%%capture\n",
        "!pip install ipywidgets\n",
        "```"
      ],
      "metadata": {
        "id": "MTDBc-sMy55Z"
      }
    },
    {
      "cell_type": "code",
      "execution_count": 3,
      "metadata": {
        "id": "Bd3wPt5ZZrVC",
        "colab": {
          "base_uri": "https://localhost:8080/",
          "height": 315,
          "referenced_widgets": [
            "770901b263a44444afaf5702b2d9f233",
            "f0ae7c1e34f4436fbfd7a0db024b1172",
            "b06c441a327c48efaf86870951f6f932",
            "904d9f21c72b453bb0c72cce5857b0e2",
            "ca7674e84cb847b7989c93a7caa74bf6",
            "4152c557937b40b0a32d0ebf8dde6fd6",
            "69c61dc4819048b7817f4b9d29cef4d6",
            "0d7541258bcf4a0eb89c36338b52adcb",
            "149d511203cd42c9b40a571168dab51e",
            "28b73082a1f445288b833dc4f6d1a74f",
            "fbf7b5e467554c64a04225a88a2584dd",
            "c04e8b68c2e043828a9de64b10180a88"
          ]
        },
        "outputId": "c22dfce5-e682-4cbd-fba5-5d50c90ef571"
      },
      "outputs": [
        {
          "output_type": "display_data",
          "data": {
            "text/plain": [
              "Label(value='Flashcard 1 of 8')"
            ],
            "application/vnd.jupyter.widget-view+json": {
              "version_major": 2,
              "version_minor": 0,
              "model_id": "770901b263a44444afaf5702b2d9f233"
            }
          },
          "metadata": {}
        },
        {
          "output_type": "display_data",
          "data": {
            "text/plain": [
              "Textarea(value='Word: vibrant\\nDefinition: Full of energy, colorful .', layout=Layout(height='200px', width='5…"
            ],
            "application/vnd.jupyter.widget-view+json": {
              "version_major": 2,
              "version_minor": 0,
              "model_id": "904d9f21c72b453bb0c72cce5857b0e2"
            }
          },
          "metadata": {}
        },
        {
          "output_type": "display_data",
          "data": {
            "text/plain": [
              "Button(description='Previous', style=ButtonStyle())"
            ],
            "application/vnd.jupyter.widget-view+json": {
              "version_major": 2,
              "version_minor": 0,
              "model_id": "69c61dc4819048b7817f4b9d29cef4d6"
            }
          },
          "metadata": {}
        },
        {
          "output_type": "display_data",
          "data": {
            "text/plain": [
              "Button(description='Next', style=ButtonStyle())"
            ],
            "application/vnd.jupyter.widget-view+json": {
              "version_major": 2,
              "version_minor": 0,
              "model_id": "28b73082a1f445288b833dc4f6d1a74f"
            }
          },
          "metadata": {}
        }
      ],
      "source": [
        "import ipywidgets as widgets\n",
        "from IPython.display import display\n",
        "\n",
        "# Manually add definitions\n",
        "word_definitions = {\n",
        "    \"vibrant\": \"Full of energy, colorful\",\n",
        "    \"dismissed\": \"Sent away\", \"rejected\"\n",
        "    \"depicting\": \"Showing or representing\",\n",
        "    \"admired\": \"Regarded with respect.\",\n",
        "    \"anxious\": \"worried or nervous.\",\n",
        "    \"skeptics\": \"people who question or doubt.\",\n",
        "    \"achievement\": \"success.\",\n",
        "    \"thrilled\": \"excitement and happiness.\"\n",
        "}\n",
        "\n",
        "# Create flashcards\n",
        "flashcards = []\n",
        "for word, definition in word_definitions.items():\n",
        "    flashcard = f\"Word: {word}\\nDefinition: {definition}\"\n",
        "    flashcards.append(flashcard)\n",
        "\n",
        "# Widgets to display flashcards\n",
        "word_label = widgets.Label(value='')\n",
        "flashcard_area = widgets.Textarea(value='', layout=widgets.Layout(width='500px', height='200px'))\n",
        "next_button = widgets.Button(description='Next')\n",
        "prev_button = widgets.Button(description='Previous')\n",
        "\n",
        "# Display the first flashcard\n",
        "current_index = 0\n",
        "flashcard_area.value = flashcards[current_index]\n",
        "word_label.value = f\"Flashcard {current_index + 1} of {len(flashcards)}\"\n",
        "\n",
        "# Function to update flashcard display\n",
        "def update_flashcard(index):\n",
        "    flashcard_area.value = flashcards[index]\n",
        "    word_label.value = f\"Flashcard {index + 1} of {len(flashcards)}\"\n",
        "\n",
        "# Button click handlers\n",
        "def on_next_button_clicked(b):\n",
        "    global current_index\n",
        "    if current_index < len(flashcards) - 1:\n",
        "        current_index += 1\n",
        "        update_flashcard(current_index)\n",
        "\n",
        "def on_prev_button_clicked(b):\n",
        "    global current_index\n",
        "    if current_index > 0:\n",
        "        current_index -= 1\n",
        "        update_flashcard(current_index)\n",
        "\n",
        "next_button.on_click(on_next_button_clicked)\n",
        "prev_button.on_click(on_prev_button_clicked)\n",
        "\n",
        "# Display widgets\n",
        "display(word_label, flashcard_area, prev_button, next_button)"
      ]
    },
    {
      "cell_type": "markdown",
      "source": [
        "## Miran's code"
      ],
      "metadata": {
        "id": "vXftYh9k0CLU"
      }
    },
    {
      "cell_type": "code",
      "source": [
        "%%capture\n",
        "!pip install gradio"
      ],
      "metadata": {
        "id": "SAxErAWx0G1m"
      },
      "execution_count": 5,
      "outputs": []
    },
    {
      "cell_type": "code",
      "source": [
        "import gradio as gr\n",
        "\n",
        "# Manually add definitions\n",
        "word_definitions = {\n",
        "    \"vibrant\": \"Full of energy, colorful\",\n",
        "    \"dismissed\": \"Sent away, rejected\",\n",
        "    \"depicting\": \"Showing or representing\",\n",
        "    \"admired\": \"Regarded with respect\",\n",
        "    \"anxious\": \"Worried or nervous\",\n",
        "    \"skeptics\": \"People who question or doubt\",\n",
        "    \"achievement\": \"Success\",\n",
        "    \"thrilled\": \"Excitement and happiness\"\n",
        "}\n",
        "\n",
        "# Create flashcards\n",
        "flashcards = []\n",
        "for word, definition in word_definitions.items():\n",
        "    flashcard = f\"Word: {word}\\nDefinition: {definition}\"\n",
        "    flashcards.append(flashcard)\n",
        "\n",
        "# Function to update flashcard display\n",
        "def update_flashcard(index):\n",
        "    index = int(index)\n",
        "    if 0 <= index < len(flashcards):\n",
        "        return flashcards[index], f\"Flashcard {index + 1} of {len(flashcards)}\"\n",
        "    else:\n",
        "        return flashcards[0], f\"Flashcard 1 of {len(flashcards)}\"\n",
        "\n",
        "# Create Gradio interface\n",
        "def interface():\n",
        "    with gr.Blocks() as app:\n",
        "        index = gr.State(0)\n",
        "\n",
        "        with gr.Row():\n",
        "            word_label = gr.Markdown(value=f\"Flashcard 1 of {len(flashcards)}\")\n",
        "        with gr.Row():\n",
        "            flashcard_area = gr.Textbox(value=flashcards[0], label=\"Flashcard\", lines=5, interactive=False)\n",
        "        with gr.Row():\n",
        "            prev_button = gr.Button(\"Previous\")\n",
        "            next_button = gr.Button(\"Next\")\n",
        "\n",
        "        def on_next_button_clicked():\n",
        "            current_index = index.value\n",
        "            if current_index < len(flashcards) - 1:\n",
        "                current_index += 1\n",
        "            index.value = current_index\n",
        "            flashcard, label = update_flashcard(current_index)\n",
        "            return flashcard, label\n",
        "\n",
        "        def on_prev_button_clicked():\n",
        "            current_index = index.value\n",
        "            if current_index > 0:\n",
        "                current_index -= 1\n",
        "            index.value = current_index\n",
        "            flashcard, label = update_flashcard(current_index)\n",
        "            return flashcard, label\n",
        "\n",
        "        next_button.click(on_next_button_clicked, outputs=[flashcard_area, word_label])\n",
        "        prev_button.click(on_prev_button_clicked, outputs=[flashcard_area, word_label])\n",
        "\n",
        "    return app\n",
        "\n",
        "interface().launch(share=True)\n"
      ],
      "metadata": {
        "colab": {
          "base_uri": "https://localhost:8080/",
          "height": 614
        },
        "id": "zrpleczM0ERW",
        "outputId": "a5fbbab9-a41b-4964-d95c-28b0a59b9156"
      },
      "execution_count": 6,
      "outputs": [
        {
          "output_type": "stream",
          "name": "stdout",
          "text": [
            "Colab notebook detected. To show errors in colab notebook, set debug=True in launch()\n",
            "Running on public URL: https://ade473f8c6bfd18ec2.gradio.live\n",
            "\n",
            "This share link expires in 72 hours. For free permanent hosting and GPU upgrades, run `gradio deploy` from Terminal to deploy to Spaces (https://huggingface.co/spaces)\n"
          ]
        },
        {
          "output_type": "display_data",
          "data": {
            "text/plain": [
              "<IPython.core.display.HTML object>"
            ],
            "text/html": [
              "<div><iframe src=\"https://ade473f8c6bfd18ec2.gradio.live\" width=\"100%\" height=\"500\" allow=\"autoplay; camera; microphone; clipboard-read; clipboard-write;\" frameborder=\"0\" allowfullscreen></iframe></div>"
            ]
          },
          "metadata": {}
        },
        {
          "output_type": "execute_result",
          "data": {
            "text/plain": []
          },
          "metadata": {},
          "execution_count": 6
        }
      ]
    }
  ],
  "metadata": {
    "colab": {
      "provenance": [],
      "include_colab_link": true
    },
    "kernelspec": {
      "display_name": "Python 3",
      "name": "python3"
    },
    "language_info": {
      "name": "python"
    },
    "widgets": {
      "application/vnd.jupyter.widget-state+json": {
        "770901b263a44444afaf5702b2d9f233": {
          "model_module": "@jupyter-widgets/controls",
          "model_name": "LabelModel",
          "model_module_version": "1.5.0",
          "state": {
            "_dom_classes": [],
            "_model_module": "@jupyter-widgets/controls",
            "_model_module_version": "1.5.0",
            "_model_name": "LabelModel",
            "_view_count": null,
            "_view_module": "@jupyter-widgets/controls",
            "_view_module_version": "1.5.0",
            "_view_name": "LabelView",
            "description": "",
            "description_tooltip": null,
            "layout": "IPY_MODEL_f0ae7c1e34f4436fbfd7a0db024b1172",
            "placeholder": "​",
            "style": "IPY_MODEL_b06c441a327c48efaf86870951f6f932",
            "value": "Flashcard 3 of 8"
          }
        },
        "f0ae7c1e34f4436fbfd7a0db024b1172": {
          "model_module": "@jupyter-widgets/base",
          "model_name": "LayoutModel",
          "model_module_version": "1.2.0",
          "state": {
            "_model_module": "@jupyter-widgets/base",
            "_model_module_version": "1.2.0",
            "_model_name": "LayoutModel",
            "_view_count": null,
            "_view_module": "@jupyter-widgets/base",
            "_view_module_version": "1.2.0",
            "_view_name": "LayoutView",
            "align_content": null,
            "align_items": null,
            "align_self": null,
            "border": null,
            "bottom": null,
            "display": null,
            "flex": null,
            "flex_flow": null,
            "grid_area": null,
            "grid_auto_columns": null,
            "grid_auto_flow": null,
            "grid_auto_rows": null,
            "grid_column": null,
            "grid_gap": null,
            "grid_row": null,
            "grid_template_areas": null,
            "grid_template_columns": null,
            "grid_template_rows": null,
            "height": null,
            "justify_content": null,
            "justify_items": null,
            "left": null,
            "margin": null,
            "max_height": null,
            "max_width": null,
            "min_height": null,
            "min_width": null,
            "object_fit": null,
            "object_position": null,
            "order": null,
            "overflow": null,
            "overflow_x": null,
            "overflow_y": null,
            "padding": null,
            "right": null,
            "top": null,
            "visibility": null,
            "width": null
          }
        },
        "b06c441a327c48efaf86870951f6f932": {
          "model_module": "@jupyter-widgets/controls",
          "model_name": "DescriptionStyleModel",
          "model_module_version": "1.5.0",
          "state": {
            "_model_module": "@jupyter-widgets/controls",
            "_model_module_version": "1.5.0",
            "_model_name": "DescriptionStyleModel",
            "_view_count": null,
            "_view_module": "@jupyter-widgets/base",
            "_view_module_version": "1.2.0",
            "_view_name": "StyleView",
            "description_width": ""
          }
        },
        "904d9f21c72b453bb0c72cce5857b0e2": {
          "model_module": "@jupyter-widgets/controls",
          "model_name": "TextareaModel",
          "model_module_version": "1.5.0",
          "state": {
            "_dom_classes": [],
            "_model_module": "@jupyter-widgets/controls",
            "_model_module_version": "1.5.0",
            "_model_name": "TextareaModel",
            "_view_count": null,
            "_view_module": "@jupyter-widgets/controls",
            "_view_module_version": "1.5.0",
            "_view_name": "TextareaView",
            "continuous_update": true,
            "description": "",
            "description_tooltip": null,
            "disabled": false,
            "layout": "IPY_MODEL_ca7674e84cb847b7989c93a7caa74bf6",
            "placeholder": "​",
            "rows": null,
            "style": "IPY_MODEL_4152c557937b40b0a32d0ebf8dde6fd6",
            "value": "Word: depicting\nDefinition: Showing or representing."
          }
        },
        "ca7674e84cb847b7989c93a7caa74bf6": {
          "model_module": "@jupyter-widgets/base",
          "model_name": "LayoutModel",
          "model_module_version": "1.2.0",
          "state": {
            "_model_module": "@jupyter-widgets/base",
            "_model_module_version": "1.2.0",
            "_model_name": "LayoutModel",
            "_view_count": null,
            "_view_module": "@jupyter-widgets/base",
            "_view_module_version": "1.2.0",
            "_view_name": "LayoutView",
            "align_content": null,
            "align_items": null,
            "align_self": null,
            "border": null,
            "bottom": null,
            "display": null,
            "flex": null,
            "flex_flow": null,
            "grid_area": null,
            "grid_auto_columns": null,
            "grid_auto_flow": null,
            "grid_auto_rows": null,
            "grid_column": null,
            "grid_gap": null,
            "grid_row": null,
            "grid_template_areas": null,
            "grid_template_columns": null,
            "grid_template_rows": null,
            "height": "200px",
            "justify_content": null,
            "justify_items": null,
            "left": null,
            "margin": null,
            "max_height": null,
            "max_width": null,
            "min_height": null,
            "min_width": null,
            "object_fit": null,
            "object_position": null,
            "order": null,
            "overflow": null,
            "overflow_x": null,
            "overflow_y": null,
            "padding": null,
            "right": null,
            "top": null,
            "visibility": null,
            "width": "500px"
          }
        },
        "4152c557937b40b0a32d0ebf8dde6fd6": {
          "model_module": "@jupyter-widgets/controls",
          "model_name": "DescriptionStyleModel",
          "model_module_version": "1.5.0",
          "state": {
            "_model_module": "@jupyter-widgets/controls",
            "_model_module_version": "1.5.0",
            "_model_name": "DescriptionStyleModel",
            "_view_count": null,
            "_view_module": "@jupyter-widgets/base",
            "_view_module_version": "1.2.0",
            "_view_name": "StyleView",
            "description_width": ""
          }
        },
        "69c61dc4819048b7817f4b9d29cef4d6": {
          "model_module": "@jupyter-widgets/controls",
          "model_name": "ButtonModel",
          "model_module_version": "1.5.0",
          "state": {
            "_dom_classes": [],
            "_model_module": "@jupyter-widgets/controls",
            "_model_module_version": "1.5.0",
            "_model_name": "ButtonModel",
            "_view_count": null,
            "_view_module": "@jupyter-widgets/controls",
            "_view_module_version": "1.5.0",
            "_view_name": "ButtonView",
            "button_style": "",
            "description": "Previous",
            "disabled": false,
            "icon": "",
            "layout": "IPY_MODEL_0d7541258bcf4a0eb89c36338b52adcb",
            "style": "IPY_MODEL_149d511203cd42c9b40a571168dab51e",
            "tooltip": ""
          }
        },
        "0d7541258bcf4a0eb89c36338b52adcb": {
          "model_module": "@jupyter-widgets/base",
          "model_name": "LayoutModel",
          "model_module_version": "1.2.0",
          "state": {
            "_model_module": "@jupyter-widgets/base",
            "_model_module_version": "1.2.0",
            "_model_name": "LayoutModel",
            "_view_count": null,
            "_view_module": "@jupyter-widgets/base",
            "_view_module_version": "1.2.0",
            "_view_name": "LayoutView",
            "align_content": null,
            "align_items": null,
            "align_self": null,
            "border": null,
            "bottom": null,
            "display": null,
            "flex": null,
            "flex_flow": null,
            "grid_area": null,
            "grid_auto_columns": null,
            "grid_auto_flow": null,
            "grid_auto_rows": null,
            "grid_column": null,
            "grid_gap": null,
            "grid_row": null,
            "grid_template_areas": null,
            "grid_template_columns": null,
            "grid_template_rows": null,
            "height": null,
            "justify_content": null,
            "justify_items": null,
            "left": null,
            "margin": null,
            "max_height": null,
            "max_width": null,
            "min_height": null,
            "min_width": null,
            "object_fit": null,
            "object_position": null,
            "order": null,
            "overflow": null,
            "overflow_x": null,
            "overflow_y": null,
            "padding": null,
            "right": null,
            "top": null,
            "visibility": null,
            "width": null
          }
        },
        "149d511203cd42c9b40a571168dab51e": {
          "model_module": "@jupyter-widgets/controls",
          "model_name": "ButtonStyleModel",
          "model_module_version": "1.5.0",
          "state": {
            "_model_module": "@jupyter-widgets/controls",
            "_model_module_version": "1.5.0",
            "_model_name": "ButtonStyleModel",
            "_view_count": null,
            "_view_module": "@jupyter-widgets/base",
            "_view_module_version": "1.2.0",
            "_view_name": "StyleView",
            "button_color": null,
            "font_weight": ""
          }
        },
        "28b73082a1f445288b833dc4f6d1a74f": {
          "model_module": "@jupyter-widgets/controls",
          "model_name": "ButtonModel",
          "model_module_version": "1.5.0",
          "state": {
            "_dom_classes": [],
            "_model_module": "@jupyter-widgets/controls",
            "_model_module_version": "1.5.0",
            "_model_name": "ButtonModel",
            "_view_count": null,
            "_view_module": "@jupyter-widgets/controls",
            "_view_module_version": "1.5.0",
            "_view_name": "ButtonView",
            "button_style": "",
            "description": "Next",
            "disabled": false,
            "icon": "",
            "layout": "IPY_MODEL_fbf7b5e467554c64a04225a88a2584dd",
            "style": "IPY_MODEL_c04e8b68c2e043828a9de64b10180a88",
            "tooltip": ""
          }
        },
        "fbf7b5e467554c64a04225a88a2584dd": {
          "model_module": "@jupyter-widgets/base",
          "model_name": "LayoutModel",
          "model_module_version": "1.2.0",
          "state": {
            "_model_module": "@jupyter-widgets/base",
            "_model_module_version": "1.2.0",
            "_model_name": "LayoutModel",
            "_view_count": null,
            "_view_module": "@jupyter-widgets/base",
            "_view_module_version": "1.2.0",
            "_view_name": "LayoutView",
            "align_content": null,
            "align_items": null,
            "align_self": null,
            "border": null,
            "bottom": null,
            "display": null,
            "flex": null,
            "flex_flow": null,
            "grid_area": null,
            "grid_auto_columns": null,
            "grid_auto_flow": null,
            "grid_auto_rows": null,
            "grid_column": null,
            "grid_gap": null,
            "grid_row": null,
            "grid_template_areas": null,
            "grid_template_columns": null,
            "grid_template_rows": null,
            "height": null,
            "justify_content": null,
            "justify_items": null,
            "left": null,
            "margin": null,
            "max_height": null,
            "max_width": null,
            "min_height": null,
            "min_width": null,
            "object_fit": null,
            "object_position": null,
            "order": null,
            "overflow": null,
            "overflow_x": null,
            "overflow_y": null,
            "padding": null,
            "right": null,
            "top": null,
            "visibility": null,
            "width": null
          }
        },
        "c04e8b68c2e043828a9de64b10180a88": {
          "model_module": "@jupyter-widgets/controls",
          "model_name": "ButtonStyleModel",
          "model_module_version": "1.5.0",
          "state": {
            "_model_module": "@jupyter-widgets/controls",
            "_model_module_version": "1.5.0",
            "_model_name": "ButtonStyleModel",
            "_view_count": null,
            "_view_module": "@jupyter-widgets/base",
            "_view_module_version": "1.2.0",
            "_view_name": "StyleView",
            "button_color": null,
            "font_weight": ""
          }
        }
      }
    }
  },
  "nbformat": 4,
  "nbformat_minor": 0
}