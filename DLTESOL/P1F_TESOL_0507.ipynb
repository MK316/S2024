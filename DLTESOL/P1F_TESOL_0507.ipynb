{
  "nbformat": 4,
  "nbformat_minor": 0,
  "metadata": {
    "colab": {
      "private_outputs": true,
      "provenance": [],
      "authorship_tag": "ABX9TyO023LPvPW0HbrPM2mr3yJy",
      "include_colab_link": true
    },
    "kernelspec": {
      "name": "python3",
      "display_name": "Python 3"
    },
    "language_info": {
      "name": "python"
    }
  },
  "cells": [
    {
      "cell_type": "markdown",
      "metadata": {
        "id": "view-in-github",
        "colab_type": "text"
      },
      "source": [
        "<a href=\"https://colab.research.google.com/github/MK316/Spring2024/blob/main/DLTESOL/P1F_TESOL_0507.ipynb\" target=\"_parent\"><img src=\"https://colab.research.google.com/assets/colab-badge.svg\" alt=\"Open In Colab\"/></a>"
      ]
    },
    {
      "cell_type": "code",
      "source": [
        "import pandas as pd"
      ],
      "metadata": {
        "id": "VWnUVDhe2iA7"
      },
      "execution_count": null,
      "outputs": []
    },
    {
      "cell_type": "code",
      "execution_count": null,
      "metadata": {
        "id": "SetGhCC51nLp"
      },
      "outputs": [],
      "source": [
        "url = \"https://raw.githubusercontent.com/MK316/Spring2024/main/DLTESOL/data/MP1-TESOL.csv\"\n",
        "\n",
        "df = pd.read_csv(url)\n",
        "\n",
        "df.head()"
      ]
    },
    {
      "cell_type": "code",
      "source": [
        "import matplotlib.pyplot as plt\n",
        "\n",
        "# Assuming the dataframe 'df' is already loaded and has the structure as mentioned\n",
        "# First, let's ensure the questions Q1 to Q5 are of numeric type\n",
        "df[['Q1', 'Q2', 'Q3', 'Q4', 'Q5']] = df[['Q1', 'Q2', 'Q3', 'Q4', 'Q5']].apply(pd.to_numeric, errors='coerce')\n",
        "\n",
        "# Calculate mean scores for each group and question\n",
        "group_means = df.groupby('Group')[['Q1', 'Q2', 'Q3', 'Q4', 'Q5']].mean()\n",
        "\n",
        "# Plotting\n",
        "fig, axes = plt.subplots(nrows=1, ncols=4, figsize=(20, 5))  # Adjust the number of rows and columns based on the number of groups\n",
        "\n",
        "for i, (group, data) in enumerate(group_means.iterrows()):\n",
        "    ax = axes[i]\n",
        "    data.plot(kind='bar', ax=ax, color=['blue', 'orange', 'green', 'red', 'purple'])\n",
        "    ax.set_title(f'Average Scores for {group}')\n",
        "    ax.set_ylim(3, 5)  # Assuming the scores range from 1 to 5\n",
        "    ax.set_ylabel('Average Score')\n",
        "    ax.set_xlabel('Questions')\n",
        "\n",
        "plt.tight_layout()\n",
        "plt.show()\n"
      ],
      "metadata": {
        "id": "kGsavnm_Lvx5"
      },
      "execution_count": null,
      "outputs": []
    },
    {
      "cell_type": "markdown",
      "source": [
        "# By questions"
      ],
      "metadata": {
        "id": "cqq5vCfTNDF5"
      }
    },
    {
      "cell_type": "code",
      "source": [
        "import matplotlib.pyplot as plt\n",
        "import pandas as pd\n",
        "\n",
        "# Assuming the dataframe 'df' is already loaded and has the structure as mentioned\n",
        "# Ensure the questions Q1 to Q5 are of numeric type\n",
        "df[['Q1', 'Q2', 'Q3', 'Q4', 'Q5']] = df[['Q1', 'Q2', 'Q3', 'Q4', 'Q5']].apply(pd.to_numeric, errors='coerce')\n",
        "\n",
        "# Transpose the data to make questions the columns and groups the rows\n",
        "group_means = df.groupby('Group')[['Q1', 'Q2', 'Q3', 'Q4', 'Q5']].mean().transpose()\n",
        "\n",
        "# Plotting\n",
        "fig, axes = plt.subplots(nrows=1, ncols=5, figsize=(20, 5))  # Adjust the number of columns based on the number of questions\n",
        "\n",
        "questions = ['Q1', 'Q2', 'Q3', 'Q4', 'Q5']  # List of questions\n",
        "\n",
        "for i, question in enumerate(questions):\n",
        "    ax = axes[i]\n",
        "    group_means.loc[question].plot(kind='bar', ax=ax, color=['blue', 'orange', 'green', 'red', 'purple'])\n",
        "    ax.set_title(f'Group Comparison for {question}')\n",
        "    ax.set_ylim(3, 5)  # Assuming the scores range from 1 to 5\n",
        "    ax.set_ylabel('Average Score')\n",
        "    ax.set_xlabel('Groups')\n",
        "\n",
        "plt.tight_layout()\n",
        "plt.show()\n"
      ],
      "metadata": {
        "id": "cVEd6mx4NT0t"
      },
      "execution_count": null,
      "outputs": []
    },
    {
      "cell_type": "markdown",
      "source": [
        "# Radar chart"
      ],
      "metadata": {
        "id": "glXmbTh9OdbP"
      }
    },
    {
      "cell_type": "code",
      "source": [
        "import matplotlib.pyplot as plt\n",
        "import pandas as pd\n",
        "import numpy as np\n",
        "from math import pi\n",
        "\n",
        "# Assuming 'df' is your DataFrame and already loaded\n",
        "df[['Q1', 'Q2', 'Q3', 'Q4', 'Q5']] = df[['Q1', 'Q2', 'Q3', 'Q4', 'Q5']].apply(pd.to_numeric, errors='coerce')\n",
        "\n",
        "# Get the mean scores for each group\n",
        "group_means = df.groupby('Group')[['Q1', 'Q2', 'Q3', 'Q4', 'Q5']].mean()\n",
        "\n",
        "# Number of variables we're plotting.\n",
        "categories = list(group_means.columns)\n",
        "N = len(categories)\n",
        "\n",
        "# What will be the angle of each axis in the plot? (divide the plot / number of variable)\n",
        "angles = [n / float(N) * 2 * pi for n in range(N)]\n",
        "angles += angles[:1]\n",
        "\n",
        "# Initialize the spider plot\n",
        "fig, axes = plt.subplots(figsize=(8, 8), nrows=2, ncols=2, subplot_kw=dict(polar=True))\n",
        "axes = axes.flatten()  # Flatten the array to iterate easily\n",
        "\n",
        "for ax, (group, row) in zip(axes, group_means.iterrows()):\n",
        "    data = row.tolist()\n",
        "    data += data[:1]  # complete the loop\n",
        "\n",
        "    # Draw one axe per group with a color and linestyle\n",
        "    ax.set_theta_offset(pi / 2)\n",
        "    ax.set_theta_direction(-1)\n",
        "\n",
        "    # Draw one axe per variable and add labels\n",
        "    plt.xticks(angles[:-1], categories, color='grey', size=8)\n",
        "\n",
        "    # Draw ylabels\n",
        "    ax.set_rlabel_position(0)\n",
        "    ax.set_ylim(0, 5)  # Assuming score scale is 0-5\n",
        "\n",
        "    # Plot data\n",
        "    ax.plot(angles, data, linewidth=2, linestyle='solid', label=group)\n",
        "    ax.fill(angles, data, alpha=0.4)\n",
        "\n",
        "    # Add a title\n",
        "    ax.set_title(group, size=11, color=ax.get_lines()[-1].get_color(), y=1.1)\n",
        "\n",
        "# Adjust layout\n",
        "plt.tight_layout()\n",
        "plt.show()\n"
      ],
      "metadata": {
        "id": "FJ7h46jrOe8H"
      },
      "execution_count": null,
      "outputs": []
    },
    {
      "cell_type": "code",
      "source": [
        "import matplotlib.pyplot as plt\n",
        "import pandas as pd\n",
        "import numpy as np\n",
        "from math import pi\n",
        "\n",
        "# Assuming 'df' is your DataFrame and already loaded\n",
        "df[['Q1', 'Q2', 'Q3', 'Q4', 'Q5']] = df[['Q1', 'Q2', 'Q3', 'Q4', 'Q5']].apply(pd.to_numeric, errors='coerce')\n",
        "\n",
        "# Get the mean scores for each group\n",
        "group_means = df.groupby('Group')[['Q1', 'Q2', 'Q3', 'Q4', 'Q5']].mean()\n",
        "\n",
        "# Number of variables (i.e., questions)\n",
        "categories = ['Q1-Inform', 'Q2-UseDT', 'Q3-Integration', 'Q4-Engagement', 'Q5-Clarity']\n",
        "N = len(categories)\n",
        "\n",
        "# Calculate angle for each category\n",
        "angles = [n / float(N) * 2 * pi for n in range(N)]\n",
        "angles += angles[:1]  # Complete the loop for the radar chart\n",
        "\n",
        "# Initialize the spider plot\n",
        "fig, axes = plt.subplots(figsize=(10, 10), nrows=2, ncols=2, subplot_kw=dict(polar=True))\n",
        "axes = axes.flatten()  # Flatten the array to iterate easily\n",
        "\n",
        "for ax, (group, row) in zip(axes, group_means.iterrows()):\n",
        "    data = row.tolist()\n",
        "    data += data[:1]  # Complete the loop\n",
        "\n",
        "    # Draw one axe per variable and add labels\n",
        "    ax.set_theta_offset(pi / 2)\n",
        "    ax.set_theta_direction(-1)\n",
        "\n",
        "    # Draw ylabels\n",
        "    ax.set_rlabel_position(0)\n",
        "    ax.set_ylim(0, 5)  # Assuming score scale is 0-5\n",
        "\n",
        "    # Setting the labels for questions\n",
        "    ax.set_xticks(angles[:-1])\n",
        "    ax.set_xticklabels(categories)\n",
        "\n",
        "    # Plot data\n",
        "    ax.plot(angles, data, linewidth=2, linestyle='solid', label=group)\n",
        "    ax.fill(angles, data, alpha=0.4)\n",
        "\n",
        "    # Add a title\n",
        "    ax.set_title(group, size=11, color=ax.get_lines()[-1].get_color(), y=1.1)\n",
        "\n",
        "# Adjust layout\n",
        "plt.tight_layout()\n",
        "plt.show()\n"
      ],
      "metadata": {
        "id": "zXxrXuxmPh5O"
      },
      "execution_count": null,
      "outputs": []
    },
    {
      "cell_type": "code",
      "source": [
        "import matplotlib.pyplot as plt\n",
        "import pandas as pd\n",
        "import numpy as np\n",
        "from math import pi\n",
        "\n",
        "# Assuming 'df' is your DataFrame and already loaded\n",
        "df[['Q1', 'Q2', 'Q3', 'Q4', 'Q5']] = df[['Q1', 'Q2', 'Q3', 'Q4', 'Q5']].apply(pd.to_numeric, errors='coerce')\n",
        "\n",
        "# Get the mean scores for each group\n",
        "group_means = df.groupby('Group')[['Q1', 'Q2', 'Q3', 'Q4', 'Q5']].mean()\n",
        "\n",
        "# Number of variables (i.e., questions)\n",
        "categories = ['Q1-Inform', 'Q2-UseDT', 'Q3-Integration', 'Q4-Engagement', 'Q5-Clarity']\n",
        "N = len(categories)\n",
        "\n",
        "# Calculate angle for each category\n",
        "angles = [n / float(N) * 2 * pi for n in range(N)]\n",
        "angles += angles[:1]  # Complete the loop for the radar chart\n",
        "\n",
        "# Initialize the spider plot\n",
        "fig, axes = plt.subplots(figsize=(10, 10), nrows=2, ncols=2, subplot_kw=dict(polar=True))\n",
        "axes = axes.flatten()  # Flatten the array to iterate easily\n",
        "\n",
        "for ax, (group, row) in zip(axes, group_means.iterrows()):\n",
        "    data = row.tolist()\n",
        "    data += data[:1]  # Complete the loop\n",
        "\n",
        "    # Draw one axe per variable and add labels\n",
        "    ax.set_theta_offset(pi / 2)\n",
        "    ax.set_theta_direction(-1)\n",
        "\n",
        "    # Draw ylabels and set y-axis limits from 3 to 5\n",
        "    ax.set_rlabel_position(0)\n",
        "    ax.set_ylim(3, 5)\n",
        "\n",
        "    # Setting the labels for questions\n",
        "    ax.set_xticks(angles[:-1])\n",
        "    ax.set_xticklabels(categories)\n",
        "\n",
        "    # Plot data\n",
        "    ax.plot(angles, data, linewidth=2, linestyle='solid', label=group)\n",
        "    ax.fill(angles, data, alpha=0.4)\n",
        "\n",
        "    # Add a title\n",
        "    ax.set_title(group, size=11, color=ax.get_lines()[-1].get_color(), y=1.1)\n",
        "\n",
        "# Adjust layout\n",
        "plt.tight_layout()\n",
        "plt.show()\n"
      ],
      "metadata": {
        "id": "s5UuYAJ2dXWq"
      },
      "execution_count": null,
      "outputs": []
    },
    {
      "cell_type": "code",
      "source": [
        "import matplotlib.pyplot as plt\n",
        "import pandas as pd\n",
        "import numpy as np\n",
        "from math import pi\n",
        "\n",
        "# Assuming 'df' is your DataFrame and already loaded\n",
        "df[['Q1', 'Q2', 'Q3', 'Q4', 'Q5']] = df[['Q1', 'Q2', 'Q3', 'Q4', 'Q5']].apply(pd.to_numeric, errors='coerce')\n",
        "\n",
        "# Get the mean scores for each group, excluding Q2\n",
        "group_means = df.groupby('Group')[['Q1', 'Q3', 'Q4', 'Q5']].mean()\n",
        "\n",
        "# Number of variables (i.e., questions), excluding Q2\n",
        "categories = ['Q1-Inform', 'Q3-Integration', 'Q4-Engagement', 'Q5-Clarity']\n",
        "N = len(categories)\n",
        "\n",
        "# Calculate angle for each category\n",
        "angles = [n / float(N) * 2 * pi for n in range(N)]\n",
        "angles += angles[:1]  # Complete the loop for the radar chart\n",
        "\n",
        "# Initialize the spider plot\n",
        "fig, axes = plt.subplots(figsize=(10, 10), nrows=2, ncols=2, subplot_kw=dict(polar=True))\n",
        "axes = axes.flatten()  # Flatten the array to iterate easily\n",
        "\n",
        "for ax, (group, row) in zip(axes, group_means.iterrows()):\n",
        "    data = row.tolist()\n",
        "    data += data[:1]  # Complete the loop\n",
        "\n",
        "    # Draw one axe per variable and add labels\n",
        "    ax.set_theta_offset(pi / 2)\n",
        "    ax.set_theta_direction(-1)\n",
        "\n",
        "    # Draw ylabels and set y-axis limits from 3 to 5\n",
        "    ax.set_rlabel_position(0)\n",
        "    ax.set_ylim(3, 5)\n",
        "\n",
        "    # Setting the labels for questions\n",
        "    ax.set_xticks(angles[:-1])\n",
        "    ax.set_xticklabels(categories)\n",
        "\n",
        "    # Plot data\n",
        "    ax.plot(angles, data, linewidth=2, linestyle='solid', label=group)\n",
        "    ax.fill(angles, data, alpha=0.4)\n",
        "\n",
        "    # Add a title\n",
        "    ax.set_title(group, size=11, color=ax.get_lines()[-1].get_color(), y=1.1)\n",
        "\n",
        "# Adjust layout\n",
        "plt.tight_layout()\n",
        "plt.show()\n"
      ],
      "metadata": {
        "id": "dNX8yFwpd13Q"
      },
      "execution_count": null,
      "outputs": []
    },
    {
      "cell_type": "code",
      "source": [
        "import matplotlib.pyplot as plt\n",
        "import pandas as pd\n",
        "import numpy as np\n",
        "from math import pi\n",
        "\n",
        "# Assuming 'df' is your DataFrame and already loaded\n",
        "df[['Q1', 'Q2', 'Q3', 'Q4', 'Q5']] = df[['Q1', 'Q2', 'Q3', 'Q4', 'Q5']].apply(pd.to_numeric, errors='coerce')\n",
        "\n",
        "# Get the mean scores for each group\n",
        "group_means = df.groupby('Group')[['Q1', 'Q2', 'Q3', 'Q4', 'Q5']].mean()\n",
        "\n",
        "# Number of variables (i.e., questions)\n",
        "categories = ['Q1-Informativeness', 'Q2-UseDT', 'Q3-Integration', 'Q4-Engagement', 'Q5-Clarity']\n",
        "N = len(categories)\n",
        "\n",
        "# Calculate angle for each category\n",
        "angles = [n / float(N) * 2 * pi for n in range(N)]\n",
        "angles += angles[:1]  # Complete the loop for the radar chart\n",
        "\n",
        "# Initialize the spider plot\n",
        "fig, ax = plt.subplots(figsize=(8, 8), subplot_kw=dict(polar=True))\n",
        "\n",
        "# Define colors for each group\n",
        "colors = ['b', 'g', 'r', 'c']  # Blue, Green, Red, Cyan for G1, G2, G3, G4\n",
        "\n",
        "for (group, data), color in zip(group_means.iterrows(), colors):\n",
        "    values = data.tolist()\n",
        "    values += values[:1]  # complete the loop\n",
        "\n",
        "    # Plot data\n",
        "    ax.plot(angles, values, linewidth=2, linestyle='solid', label=group, color=color)\n",
        "    ax.fill(angles, values, alpha=0.25, color=color)  # Adjust transparency here\n",
        "\n",
        "    # Draw one axe per variable and add labels\n",
        "    ax.set_theta_offset(pi / 2)\n",
        "    ax.set_theta_direction(-1)\n",
        "\n",
        "    # Draw ylabels\n",
        "    ax.set_rlabel_position(0)\n",
        "    ax.set_ylim(3, 5)  # Assuming score scale is 0-5\n",
        "\n",
        "# Setting the labels for questions\n",
        "ax.set_xticks(angles[:-1])\n",
        "ax.set_xticklabels(categories)\n",
        "\n",
        "# Add legend\n",
        "ax.legend(loc='upper right', bbox_to_anchor=(1.2, 1.2))\n",
        "\n",
        "# Show plot\n",
        "plt.show()\n"
      ],
      "metadata": {
        "id": "0v9_IZYBQeNZ"
      },
      "execution_count": null,
      "outputs": []
    },
    {
      "cell_type": "markdown",
      "source": [
        "# Sentiment Analysis"
      ],
      "metadata": {
        "id": "pyv-mH76eENh"
      }
    },
    {
      "cell_type": "code",
      "source": [
        "import pandas as pd\n",
        "from textblob import TextBlob\n",
        "\n",
        "# Sample data loading or assuming df is already loaded\n",
        "# df = pd.read_csv('path_to_your_file.csv')\n",
        "\n",
        "# Combine comments for each group\n",
        "df['Comments'] = df['Comments'].astype(str)  # Ensure comments are all strings\n",
        "grouped_comments = df.groupby('Group')['Comments'].apply(' '.join).reset_index()\n",
        "\n",
        "# Define a function to get both polarity and subjectivity\n",
        "def get_sentiment(text):\n",
        "    analysis = TextBlob(text)\n",
        "    return analysis.sentiment.polarity, analysis.sentiment.subjectivity\n",
        "\n",
        "# Apply sentiment analysis to get both scores\n",
        "grouped_comments['Polarity'], grouped_comments['Subjectivity'] = zip(*grouped_comments['Comments'].apply(get_sentiment))\n",
        "\n",
        "# Display the results\n",
        "print(grouped_comments[['Group', 'Polarity', 'Subjectivity']])\n"
      ],
      "metadata": {
        "id": "W_Lx9ob1eGfl"
      },
      "execution_count": null,
      "outputs": []
    },
    {
      "cell_type": "markdown",
      "source": [
        "Polarity column to add"
      ],
      "metadata": {
        "id": "qmOVp3umgAG2"
      }
    },
    {
      "cell_type": "code",
      "source": [
        "from textblob import TextBlob\n",
        "\n",
        "# Assuming 'df' is your DataFrame and 'Comments' column contains the text comments\n",
        "# First, ensure comments are string\n",
        "df['Comments'] = df['Comments'].astype(str)\n",
        "\n",
        "# Calculate polarity for each comment\n",
        "df['Polarity'] = df['Comments'].apply(lambda comment: TextBlob(comment).sentiment.polarity)\n"
      ],
      "metadata": {
        "id": "9Hky8Cynf-kM"
      },
      "execution_count": null,
      "outputs": []
    },
    {
      "cell_type": "code",
      "source": [
        "\n",
        "# Define a function to categorize sentiment based on polarity\n",
        "def categorize_sentiment(polarity):\n",
        "    if polarity < -0.1:\n",
        "        return 'Negative'\n",
        "    elif polarity > 0.1:\n",
        "        return 'Positive'\n",
        "    else:\n",
        "        return 'Neutral'\n",
        "\n",
        "# Apply the categorization function\n",
        "df['Sentiment_Category'] = df['Polarity'].apply(categorize_sentiment)\n"
      ],
      "metadata": {
        "id": "is4xViWagCA4"
      },
      "execution_count": null,
      "outputs": []
    },
    {
      "cell_type": "code",
      "source": [
        "# Group data by Group and Sentiment_Category and count occurrences\n",
        "sentiment_counts = df.groupby(['Group', 'Sentiment_Category']).size().unstack(fill_value=0)\n",
        "\n",
        "# Plotting the data\n",
        "sentiment_counts.plot(kind='bar', stacked=True, color=['red', 'gray', 'green'])\n",
        "plt.title('Sentiment Distribution per Group')\n",
        "plt.xlabel('Group')\n",
        "plt.ylabel('Number of Comments')\n",
        "plt.xticks(rotation=0)  # Ensure group labels are horizontal for readability\n",
        "plt.show()\n"
      ],
      "metadata": {
        "id": "oCMKyjV8gHJx"
      },
      "execution_count": null,
      "outputs": []
    },
    {
      "cell_type": "markdown",
      "source": [
        "wordcloud"
      ],
      "metadata": {
        "id": "O1XzNan5gXKg"
      }
    },
    {
      "cell_type": "code",
      "source": [
        "!pip install wordcloud\n"
      ],
      "metadata": {
        "id": "hIaYNh_KgYQP"
      },
      "execution_count": null,
      "outputs": []
    },
    {
      "cell_type": "code",
      "source": [
        "import matplotlib.pyplot as plt\n",
        "from wordcloud import WordCloud\n",
        "import pandas as pd\n"
      ],
      "metadata": {
        "id": "0u17wjEwgtbz"
      },
      "execution_count": null,
      "outputs": []
    },
    {
      "cell_type": "code",
      "source": [
        "# Assuming df is your DataFrame and 'Comments' column contains text comments\n",
        "df['Comments'] = df['Comments'].astype(str)  # Ensure all comments are string type\n",
        "grouped_comments = df.groupby('Group')['Comments'].apply(' '.join).reset_index()\n",
        "\n"
      ],
      "metadata": {
        "id": "Mnx8ThtIgvf9"
      },
      "execution_count": null,
      "outputs": []
    },
    {
      "cell_type": "code",
      "source": [
        "# Set up the plot with subplots\n",
        "fig, axes = plt.subplots(nrows=2, ncols=2, figsize=(10, 10))  # Adjust nrows and ncols based on the number of groups\n",
        "axes = axes.flatten()  # Flatten the array to make it easier to iterate\n",
        "\n",
        "for i, row in grouped_comments.iterrows():\n",
        "    ax = axes[i]\n",
        "    # Generate word cloud\n",
        "    wordcloud = WordCloud(width=800, height=400, background_color ='white').generate(row['Comments'])\n",
        "\n",
        "    # Display the word cloud\n",
        "    ax.imshow(wordcloud, interpolation='bilinear')\n",
        "    ax.axis('off')  # Turn off axis\n",
        "    ax.set_title(f\"Group {row['Group']}\")\n",
        "\n",
        "plt.tight_layout()\n",
        "plt.show()\n"
      ],
      "metadata": {
        "id": "LSISQ3g0gyJV"
      },
      "execution_count": null,
      "outputs": []
    },
    {
      "cell_type": "code",
      "source": [
        "import pandas as pd\n",
        "\n",
        "# Assuming 'df' is your DataFrame and is already loaded\n",
        "df[['Q1', 'Q2', 'Q3', 'Q4', 'Q5']] = df[['Q1', 'Q2', 'Q3', 'Q4', 'Q5']].apply(pd.to_numeric, errors='coerce')\n"
      ],
      "metadata": {
        "id": "ukaklzTxkoP5"
      },
      "execution_count": null,
      "outputs": []
    },
    {
      "cell_type": "code",
      "source": [
        "# Group the data by 'Group' and describe each group's statistics for Q1 to Q5\n",
        "group_stats = df.groupby('Group')[['Q1', 'Q2', 'Q3', 'Q4', 'Q5']].describe()\n",
        "\n",
        "# Print the statistics for each group\n",
        "print(group_stats)\n"
      ],
      "metadata": {
        "id": "iLQ1GUaKjhwy"
      },
      "execution_count": null,
      "outputs": []
    },
    {
      "cell_type": "code",
      "source": [
        "# Extract mean and std deviation only\n",
        "group_mean_std = df.groupby('Group')[['Q1', 'Q2', 'Q3', 'Q4', 'Q5']].agg(['mean', 'std'])\n",
        "print(group_mean_std)\n"
      ],
      "metadata": {
        "id": "YKXbqwp-kqU9"
      },
      "execution_count": null,
      "outputs": []
    },
    {
      "cell_type": "code",
      "source": [
        "import pandas as pd\n",
        "\n",
        "# Assuming df is your DataFrame and it is already loaded\n",
        "# Make sure that Q1 to Q5 are numeric\n",
        "df[['Q1', 'Q2', 'Q3', 'Q4', 'Q5']] = df[['Q1', 'Q2', 'Q3', 'Q4', 'Q5']].apply(pd.to_numeric, errors='coerce')\n",
        "\n",
        "# Calculate the mean of Q1 to Q5 for each group\n",
        "group_means = df.groupby('Group')[['Q1', 'Q2', 'Q3', 'Q4', 'Q5']].mean()\n",
        "\n",
        "# Print the calculated means for checking\n",
        "print(group_means)\n"
      ],
      "metadata": {
        "id": "Vr5qQ8tvk5NC"
      },
      "execution_count": null,
      "outputs": []
    },
    {
      "cell_type": "code",
      "source": [
        "import matplotlib.pyplot as plt\n",
        "\n",
        "# Create a bar plot for the means of each question\n",
        "group_means.plot(kind='bar', figsize=(12, 6))\n",
        "plt.title('Average Scores for Q1 to Q5 Across Groups')\n",
        "plt.xlabel('Group')\n",
        "plt.ylabel('Average Scores')\n",
        "plt.xticks(rotation=0)  # Keep the group labels horizontal for better readability\n",
        "plt.legend(title='Questions')\n",
        "plt.show()\n"
      ],
      "metadata": {
        "id": "Vnjk82Xd3aba"
      },
      "execution_count": null,
      "outputs": []
    },
    {
      "cell_type": "code",
      "source": [
        "import pandas as pd\n",
        "\n",
        "# Assuming df is your DataFrame and it is already loaded\n",
        "# Ensure that Q1 to Q5 are numeric\n",
        "df[['Q1', 'Q2', 'Q3', 'Q4', 'Q5']] = df[['Q1', 'Q2', 'Q3', 'Q4', 'Q5']].apply(pd.to_numeric, errors='coerce')\n",
        "\n",
        "# Calculate the mean of Q1 to Q5 for each group\n",
        "group_means = df.groupby('Group')[['Q1', 'Q2', 'Q3', 'Q4', 'Q5']].mean()\n",
        "\n",
        "# Compute the mean of the mean scores across all questions for each group\n",
        "group_means['Overall Mean'] = group_means.mean(axis=1)\n",
        "\n",
        "# Print the overall means for checking\n",
        "print(group_means['Overall Mean'])\n"
      ],
      "metadata": {
        "id": "AR0Kqsoi3qY6"
      },
      "execution_count": null,
      "outputs": []
    },
    {
      "cell_type": "code",
      "source": [
        "import matplotlib.pyplot as plt\n",
        "\n",
        "# Create a bar plot for the overall mean scores\n",
        "group_means['Overall Mean'].plot(kind='bar', color='skyblue', figsize=(10, 6))\n",
        "plt.title('Overall Average Score of Q1 to Q5 for Each Group')\n",
        "plt.xlabel('Group')\n",
        "plt.ylabel('Overall Average Score')\n",
        "plt.ylim(3,5)\n",
        "plt.xticks(rotation=0)  # Keep the group labels horizontal for better readability\n",
        "plt.show()\n"
      ],
      "metadata": {
        "id": "6EuyibEq3vpT"
      },
      "execution_count": null,
      "outputs": []
    },
    {
      "cell_type": "code",
      "source": [
        "import matplotlib.pyplot as plt\n",
        "import numpy as np\n",
        "\n",
        "# Assuming group names are like G1, G2, G3, G4, and are indexed as such in 'group_means'\n",
        "group_labels = group_means.index  # Adjust based on your DataFrame index or manually define\n",
        "colors = ['blue', 'green', 'red', 'purple']  # Specify a color for each group\n",
        "\n",
        "# Define a dictionary to hold color mapping for better automation and clarity\n",
        "color_map = {group: color for group, color in zip(group_labels, colors)}\n",
        "\n",
        "# Now plot each group individually to control colors and labels\n",
        "for group, color in color_map.items():\n",
        "    plt.bar(group, group_means.loc[group, 'Overall Mean'], color=color, label=group)\n",
        "\n",
        "plt.title('Overall Average Score of Q1 to Q5 for Each Group')\n",
        "plt.xlabel('Group')\n",
        "plt.ylabel('Overall Average Score')\n",
        "plt.ylim(3,5)\n",
        "plt.xticks(np.arange(len(group_labels)), group_labels)  # Set group labels as x-tick labels\n",
        "\n",
        "# Place the legend outside of the plot\n",
        "plt.legend(title='Group', bbox_to_anchor=(1.05, 1), loc='upper left')\n",
        "\n",
        "plt.show()\n"
      ],
      "metadata": {
        "id": "SyZt2tkB4E55"
      },
      "execution_count": null,
      "outputs": []
    }
  ]
}