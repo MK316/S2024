{
  "nbformat": 4,
  "nbformat_minor": 0,
  "metadata": {
    "colab": {
      "private_outputs": true,
      "provenance": [],
      "authorship_tag": "ABX9TyN+IR/vsH5m3LTUlriNSyvr",
      "include_colab_link": true
    },
    "kernelspec": {
      "name": "python3",
      "display_name": "Python 3"
    },
    "language_info": {
      "name": "python"
    }
  },
  "cells": [
    {
      "cell_type": "markdown",
      "metadata": {
        "id": "view-in-github",
        "colab_type": "text"
      },
      "source": [
        "<a href=\"https://colab.research.google.com/github/MK316/Spring2024/blob/main/Corpus/RE01.ipynb\" target=\"_parent\"><img src=\"https://colab.research.google.com/assets/colab-badge.svg\" alt=\"Open In Colab\"/></a>"
      ]
    },
    {
      "cell_type": "markdown",
      "source": [
        "# Text Pre-processing using Regular Expression"
      ],
      "metadata": {
        "id": "lFc2MqtAEwYb"
      }
    },
    {
      "cell_type": "code",
      "source": [
        "# Original text\n",
        "text = \"\"\"\n",
        "@@17141 ERIC @!BURNS , FOX NEWS HOST : On this week 's \" FOX News Watch \" : The president and the hurricane : will he weather the storm ? The media helping victims to weather the storm . How did the media judge the judge ? How did audiences judge Martha on her return to TV ? And everybody has to go to the bathroom sometime . We will cover the coverage of these stories right after the headlines . @(NEWSBREAK) @!BURNS : You 've heard of slow times in the news business ? The past few weeks have been as fast as they get . So we had better get started . Here are Jim Pinkerton of \" Newsday \" , syndicated columnist Cal Thomas , Jane Hall of the American University , and media writer Neal Gabler . I 'm Eric Burns . \" FOX News Watch \" is coming right up . @(BEGIN-VIDEO-CLIP) @!GEORGE-W-BUSH-PRE : Americans have every right to expect a more effective response in a time of emergency . When the federal government fails to meet such an obligation , I as president am responsible for the problem . And for the solution . @ @ @ @ @ @ @ @ @ @ Katrina Thursday night . Jane , a lot of the criticism about the media politicizing this storm . But when the president of the United States apologizes himself , are the media thereby absolved from criticism about politicizing ? @!JANE-HALL-AMERICA :\n",
        "\"\"\""
      ],
      "metadata": {
        "id": "ljsl95ABE5fI"
      },
      "execution_count": null,
      "outputs": []
    },
    {
      "cell_type": "markdown",
      "source": [
        "## Explanation:\n",
        "\n",
        "+ Regex Pattern [^\\w\\s]: This pattern keeps word characters (letters, digits, and underscores) and spaces. It removes all other characters such as punctuation and special symbols.\n",
        "\n",
        "+ Handling Whitespaces: After removing symbols, you might end up with multiple spaces, so another regex (\\s+) condenses all sequences of whitespace into a single space and trims the leading or trailing spaces.\n",
        "\n",
        "+ Using Raw String: In Python, backslashes (\\) in standard strings are treated as escape characters. For example, \\n represents a newline, and \\t represents a tab. If you want to include an actual backslash in a string, you would normally need to escape it by using \\\\. This can become confusing and error-prone, especially in regular expressions which frequently use backslashes to denote special pattern sequences like \\s (for whitespace), \\d (for digits), and others.\n",
        "```\n",
        "r\"\\s+\"\n",
        "```\n",
        "\n",
        "Using raw strings is recommended for regex patterns in Python to make the patterns more manageable and to avoid common bugs related to escape character handling."
      ],
      "metadata": {
        "id": "fzfCIImTE-be"
      }
    },
    {
      "cell_type": "code",
      "execution_count": null,
      "metadata": {
        "id": "nHhdAK9HEv37"
      },
      "outputs": [],
      "source": [
        "import re\n",
        "\n",
        "# Remove all non-alphanumeric characters except spaces\n",
        "cleaned_text = re.sub(r\"[^\\w\\s]\", \"\", text)\n",
        "\n",
        "# Optionally, remove extra spaces caused by the removals above\n",
        "cleaned_text = re.sub(r\"\\s+\", \" \", cleaned_text).strip()\n",
        "\n",
        "print(cleaned_text)\n"
      ]
    }
  ]
}