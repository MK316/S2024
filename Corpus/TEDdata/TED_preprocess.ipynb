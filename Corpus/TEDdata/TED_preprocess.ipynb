{
  "nbformat": 4,
  "nbformat_minor": 0,
  "metadata": {
    "colab": {
      "private_outputs": true,
      "provenance": [],
      "authorship_tag": "ABX9TyNQnHV7trttJetoL4RSWReV",
      "include_colab_link": true
    },
    "kernelspec": {
      "name": "python3",
      "display_name": "Python 3"
    },
    "language_info": {
      "name": "python"
    }
  },
  "cells": [
    {
      "cell_type": "markdown",
      "metadata": {
        "id": "view-in-github",
        "colab_type": "text"
      },
      "source": [
        "<a href=\"https://colab.research.google.com/github/MK316/Spring2024/blob/main/Corpus/TEDdata/TED_preprocess.ipynb\" target=\"_parent\"><img src=\"https://colab.research.google.com/assets/colab-badge.svg\" alt=\"Open In Colab\"/></a>"
      ]
    },
    {
      "cell_type": "markdown",
      "source": [
        "# TED data Text pre-processing\n",
        "\n",
        "+ Last updated (6/4)"
      ],
      "metadata": {
        "id": "sCLdjk-vtG1_"
      }
    },
    {
      "cell_type": "markdown",
      "source": [
        "# 🍀Todo: Removing timestamp and parenthetical notes in the script"
      ],
      "metadata": {
        "id": "ykGQ_lCeumoU"
      }
    },
    {
      "cell_type": "code",
      "source": [
        "# Sample input text\n",
        "text = \"\"\"\n",
        "The human voice: It's the instrument we all play. It's the most powerful sound in the world, probably. It's the only one that can start a war or say \"I love you.\" And yet many people have the experience that when they speak, people don't listen to them. And why is that? How can we speak powerfully to make change in the world?\n",
        "\n",
        "00:24\n",
        "What I'd like to suggest, there are a number of habits that we need to move away from. I've assembled for your pleasure here seven deadly sins of speaking. I'm not pretending this is an exhaustive list, but these seven, I think, are pretty large habits that we can all fall into.\n",
        "\n",
        "00:40\n",
        "First, gossip. Speaking ill of somebody who's not present. Not a nice habit, and we know perfectly well the person gossiping, five minutes later, will be gossiping about us.\n",
        "\n",
        "00:53\n",
        "Second, judging. We know people who are like this in conversation, and it's very hard to listen to somebody if you know that you're being judged and found wanting at the same time.\n",
        "\n",
        "01:03\n",
        "Third, negativity. You can fall into this. My mother, in the last years of her life, became very negative, and it's hard to listen. I remember one day, I said to her, \"It's October 1 today,\" and she said, \"I know, isn't it dreadful?\"\n",
        "\n",
        "01:16\n",
        "(Laughter)\n",
        "\n",
        "01:18\n",
        "It's hard to listen when somebody's that negative.\n",
        "\n",
        "01:21\n",
        "(Laughter)\n",
        "\"\"\""
      ],
      "metadata": {
        "id": "BZ3ocObktTYt"
      },
      "execution_count": null,
      "outputs": []
    },
    {
      "cell_type": "markdown",
      "source": [
        "+ This script defines a function clean_text that takes in the raw text as input. It uses the re.sub function to substitute the patterns of timestamps and bracketed text with an empty string, effectively removing them from the text. After defining the function, you can pass any text to it to get the cleaned output.\n",
        "\n",
        "```\n",
        "re.sub(r'\\d{2}:\\d{2}\\n', '', text)\n",
        "```\n",
        "\n",
        "+ Pattern Explained:\n",
        "  + \\d{2}: This matches exactly two digits. The \\d denotes a digit (equivalent to [0-9]), and {2} specifies that exactly two instances of the preceding element (in this case, a digit) should be found.\n",
        "  + :: This matches the colon character exactly as it appears.\n",
        "  + \\d{2}: This again matches exactly two digits following the colon, corresponding to the minute format in a timestamp.\n",
        "  + \\n: This matches a newline character, ensuring that the pattern matches timestamps that are followed by a line break, which is typical when timestamps are used to label sections of text.\n",
        "+ Replacement: ' ' (an empty string) — this indicates that every match found by the pattern in the text should be replaced with nothing, effectively removing it.\n",
        "+ Application: This line of code will search through text for any sequence that matches a time stamp (e.g., \"01:21\") followed immediately by a newline, and removes those sequences."
      ],
      "metadata": {
        "id": "mfQhVPYxtbuA"
      }
    },
    {
      "cell_type": "code",
      "execution_count": null,
      "metadata": {
        "id": "LInrQ2WgtDUY"
      },
      "outputs": [],
      "source": [
        "import re\n",
        "\n",
        "def clean_text(text):\n",
        "    # Remove timestamps in the format \"00:00\"\n",
        "    text = re.sub(r'\\d{2}:\\d{2}\\n', '', text)\n",
        "    # Remove text within brackets\n",
        "    text = re.sub(r'\\(.*?\\)', '', text)\n",
        "    return text\n",
        "\n",
        "cleaned_text = clean_text(text)\n",
        "print(cleaned_text)\n"
      ]
    },
    {
      "cell_type": "markdown",
      "source": [
        "# 🍀Todo:"
      ],
      "metadata": {
        "id": "wSzsZ3XkvTCk"
      }
    },
    {
      "cell_type": "markdown",
      "source": [
        "---\n",
        "# Step by step to get a cleaned text for the text column in our csv file\n",
        "\n",
        "+ Read csv file as data (using Github link)\n",
        "+ Read Column 'Text' and remove time stamps and parenthetical notes, and write the cleaned text in a new column named 'Cleantext01'"
      ],
      "metadata": {
        "id": "LrXT2uSfvsnr"
      }
    },
    {
      "cell_type": "markdown",
      "source": [
        "## Split Speaker info\n",
        "\n",
        "+ [data sample](https://raw.githubusercontent.com/MK316/Spring2024/main/Corpus/TEDdata/sample1.csv)"
      ],
      "metadata": {
        "id": "m5MpEKHgyI2C"
      }
    },
    {
      "cell_type": "code",
      "source": [
        "#@markdown Read csv, add Speaker information in 'Speaker' column\n",
        "import pandas as pd\n",
        "import re\n",
        "\n",
        "# Load the CSV file\n",
        "url = \"https://raw.githubusercontent.com/MK316/Spring2024/main/Corpus/TEDdata/sample1.csv\"\n",
        "# file_path = '/content/sample1.csv'  # Adjust the file path after uploading your file to Colab\n",
        "data = pd.read_csv(url)\n",
        "\n",
        "# Function to extract speaker name using regex\n",
        "def extract_speaker(title):\n",
        "    # This regex looks for the pattern where the name is in all capitals at the end of the string\n",
        "    match = re.search(r'\\n([A-Z\\s]+)$', title)\n",
        "    if match:\n",
        "        return match.group(1).strip()  # Return the matched group, stripped of leading/trailing whitespace\n",
        "    return ''  # Return empty string if no speaker name is found\n",
        "\n",
        "# Apply the function to separate the 'Speaker' from 'Title'\n",
        "data['Speaker'] = data['Title'].apply(extract_speaker)\n",
        "\n",
        "# Remove the speaker name from the 'Title' column\n",
        "data['Title'] = data['Title'].apply(lambda x: re.sub(r'\\n[A-Z\\s]+$', '', x))\n",
        "\n",
        "# Insert the 'Speaker' column right after the 'Title' column\n",
        "speaker_col = data.pop('Speaker')  # Remove the 'Speaker' column temporarily\n",
        "data.insert(1, 'Speaker', speaker_col)  # Insert it right after 'Title' column\n",
        "\n",
        "# Save the updated DataFrame to a new CSV file\n",
        "output_file_path = '/content/sample1_speaker.csv'\n",
        "data.to_csv(output_file_path, index=False)\n",
        "\n",
        "print(\"Updated DataFrame:\")\n",
        "print(data.head())\n"
      ],
      "metadata": {
        "cellView": "form",
        "id": "7D6e5RNMxjk4"
      },
      "execution_count": null,
      "outputs": []
    },
    {
      "cell_type": "markdown",
      "source": [
        "## Text Clean-up [1]: removing timestamp and parenthetical notes, and add a new column\n",
        "\n",
        "```\n",
        "def clean_text(text):\n",
        "    # Remove timestamps in the format \"00:00\"\n",
        "    text = re.sub(r'\\d{2}:\\d{2}\\n', '', text)\n",
        "    # Remove text within brackets\n",
        "    text = re.sub(r'\\(.*?\\)', '', text)\n",
        "    return text\n",
        "```"
      ],
      "metadata": {
        "id": "LcGdTMZpy45c"
      }
    },
    {
      "cell_type": "code",
      "source": [
        "# data.head()\n",
        "\n",
        "import pandas as pd\n",
        "import re\n",
        "\n",
        "# Assuming 'data' is your original DataFrame\n",
        "df = data\n",
        "\n",
        "def clean_text(text):\n",
        "    # Remove timestamps in the format \"00:00\"\n",
        "    text = re.sub(r'\\d{2}:\\d{2}\\n', '', text)\n",
        "    # Remove text within brackets\n",
        "    text = re.sub(r'\\(.*?\\)', '', text)\n",
        "    return text\n",
        "\n",
        "# Apply the clean_text function to each element in the 'Text' column\n",
        "df['Cleanedtext01'] = df['Text'].apply(clean_text)\n",
        "\n",
        "# Comparing the first item of 'Text' and 'Cleanedtext01'\n",
        "original_text = df['Text'].iloc[0][0:1000]  # Access the first item in the 'Text' column\n",
        "cleaned_text = df['Cleanedtext01'].iloc[0][0:1000]  # Access the first item in the 'Cleanedtext01' column\n",
        "\n",
        "print(\"Original Text:\")\n",
        "print(original_text)\n",
        "print(\"=\"*50)\n",
        "print(\"\\nCleaned Text:\")\n",
        "print(cleaned_text)"
      ],
      "metadata": {
        "id": "Uj13_jpWy4ja"
      },
      "execution_count": null,
      "outputs": []
    },
    {
      "cell_type": "markdown",
      "source": [
        "### Checking whether the cleaning process is completed as planned\n",
        "\n",
        "1. find the timestamp expressions\n",
        "2. find parenthetical notes"
      ],
      "metadata": {
        "id": "9O-87Cka5nPq"
      }
    },
    {
      "cell_type": "code",
      "source": [
        "#@markdown 1. Check the first (timestamp) for both 'Text' and 'Cleanedtext01'\n",
        "import pandas as pd\n",
        "import re\n",
        "\n",
        "# Assuming 'df' is your DataFrame\n",
        "def remove_and_report_timestamps(text):\n",
        "    # Find all occurrences of the timestamp pattern\n",
        "    matches = re.findall(r'\\d{2}:\\d{2}\\n', text)\n",
        "    # Remove the timestamp pattern\n",
        "    cleaned_text = re.sub(r'\\d{2}:\\d{2}\\n', '', text)\n",
        "    return cleaned_text, matches\n",
        "\n",
        "# Apply the function and capture the cleaned text and the matches for 'Text'\n",
        "cleaned_text_original, timestamp_matches_original = remove_and_report_timestamps(df['Text'][0])\n",
        "\n",
        "# Print the number of occurrences and list each occurrence for 'Text'\n",
        "if timestamp_matches_original:\n",
        "    print(f\"Found {len(timestamp_matches_original)} occurrences of the timestamp pattern in original text:\")\n",
        "    for match in timestamp_matches_original:\n",
        "        print(match.strip())  # .strip() is used to remove any trailing newline for clean display\n",
        "else:\n",
        "    print(\"No timestamp pattern found in the original text.\")\n",
        "\n",
        "# Apply the same function and capture the cleaned text and the matches for 'Cleanedtext01'\n",
        "cleaned_text_cleaned, timestamp_matches_cleaned = remove_and_report_timestamps(df['Cleanedtext01'][0])\n",
        "\n",
        "# Print the number of occurrences and list each occurrence for 'Cleanedtext01'\n",
        "if timestamp_matches_cleaned:\n",
        "    print(f\"Found {len(timestamp_matches_cleaned)} occurrences of the timestamp pattern in cleaned text:\")\n",
        "    for match in timestamp_matches_cleaned:\n",
        "        print(match.strip())\n",
        "else:\n",
        "    print(\"No timestamp pattern found in the cleaned text.\")\n"
      ],
      "metadata": {
        "cellView": "form",
        "id": "1dAB6oeP4GAj"
      },
      "execution_count": null,
      "outputs": []
    },
    {
      "cell_type": "code",
      "source": [
        "#@markdown 2. Check the second (parenthetical notes) for both 'Text' and 'Cleanedtext01'\n",
        "import pandas as pd\n",
        "import re\n",
        "\n",
        "# Assuming 'df' is your DataFrame\n",
        "def remove_and_report_timestamps(text):\n",
        "    # Find all occurrences of the timestamp pattern\n",
        "    matches = re.findall(r'\\(.*?\\)', text)\n",
        "    # Remove the timestamp pattern\n",
        "    cleaned_text = re.sub(r'\\(.*?\\)', '', text)\n",
        "    return cleaned_text, matches\n",
        "\n",
        "# Apply the function and capture the cleaned text and the matches for 'Text'\n",
        "cleaned_text_original, timestamp_matches_original = remove_and_report_timestamps(df['Text'][0])\n",
        "\n",
        "# Print the number of occurrences and list each occurrence for 'Text'\n",
        "if timestamp_matches_original:\n",
        "    print(f\"Found {len(timestamp_matches_original)} occurrences of the timestamp pattern in original text:\")\n",
        "    for match in timestamp_matches_original:\n",
        "        print(match.strip())  # .strip() is used to remove any trailing newline for clean display\n",
        "else:\n",
        "    print(\"No timestamp pattern found in the original text.\")\n",
        "\n",
        "# Apply the same function and capture the cleaned text and the matches for 'Cleanedtext01'\n",
        "cleaned_text_cleaned, timestamp_matches_cleaned = remove_and_report_timestamps(df['Cleanedtext01'][0])\n",
        "\n",
        "# Print the number of occurrences and list each occurrence for 'Cleanedtext01'\n",
        "if timestamp_matches_cleaned:\n",
        "    print(f\"Found {len(timestamp_matches_cleaned)} occurrences of the timestamp pattern in cleaned text:\")\n",
        "    for match in timestamp_matches_cleaned:\n",
        "        print(match.strip())\n",
        "else:\n",
        "    print(\"No parenthetical pattern found in the cleaned text.\")\n"
      ],
      "metadata": {
        "cellView": "form",
        "id": "Nb6IvDXM64x8"
      },
      "execution_count": null,
      "outputs": []
    },
    {
      "cell_type": "markdown",
      "source": [
        "# Saving the processed file"
      ],
      "metadata": {
        "id": "sZJOJ_wH7Xm4"
      }
    },
    {
      "cell_type": "code",
      "source": [
        "print(df.head())\n",
        "df.to_csv(\"Cleanedtext01.csv\", encoding = \"utf-8\", index=False)"
      ],
      "metadata": {
        "id": "9KqbYw4Y7cMJ"
      },
      "execution_count": null,
      "outputs": []
    }
  ]
}