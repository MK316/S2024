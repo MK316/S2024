{
  "nbformat": 4,
  "nbformat_minor": 0,
  "metadata": {
    "colab": {
      "private_outputs": true,
      "provenance": [],
      "authorship_tag": "ABX9TyNWjWbDRJb+CU/0BvRjfygd",
      "include_colab_link": true
    },
    "kernelspec": {
      "name": "python3",
      "display_name": "Python 3"
    },
    "language_info": {
      "name": "python"
    }
  },
  "cells": [
    {
      "cell_type": "markdown",
      "metadata": {
        "id": "view-in-github",
        "colab_type": "text"
      },
      "source": [
        "<a href=\"https://colab.research.google.com/github/MK316/Spring2024/blob/main/Corpus/TEDdata/NLTK_example_spokenwritten.ipynb\" target=\"_parent\"><img src=\"https://colab.research.google.com/assets/colab-badge.svg\" alt=\"Open In Colab\"/></a>"
      ]
    },
    {
      "cell_type": "markdown",
      "source": [
        "# NLTK analysis example: spoken vs. written comparison (0605-updated)"
      ],
      "metadata": {
        "id": "taM6BlTkRraH"
      }
    },
    {
      "cell_type": "code",
      "source": [
        "!pip install nltk"
      ],
      "metadata": {
        "id": "HPiJhcTlhQXE"
      },
      "execution_count": null,
      "outputs": []
    },
    {
      "cell_type": "code",
      "execution_count": null,
      "metadata": {
        "id": "9CKTe6mJWa0E"
      },
      "outputs": [],
      "source": [
        "import nltk\n",
        "import pandas as pd\n",
        "from nltk.tokenize import word_tokenize, sent_tokenize\n",
        "import matplotlib.pyplot as plt\n",
        "\n",
        "# Download the necessary NLTK data\n",
        "nltk.download('punkt')\n",
        "\n",
        "# Sample data\n",
        "spoken_text = \"Well, um, you know, I think we should, uh, go to the park. Don't you agree?\"\n",
        "written_text = \"It is suggested that we should go to the park. What do you think?\"\n",
        "\n",
        "# Tokenize text\n",
        "spoken_words = word_tokenize(spoken_text)\n",
        "written_words = word_tokenize(written_text)\n",
        "\n",
        "# Count pronouns\n",
        "pronouns = set([\"I\", \"you\", \"he\", \"she\", \"it\", \"we\", \"they\", \"me\", \"him\", \"her\", \"us\", \"them\"])\n",
        "spoken_pronouns = sum(1 for word in spoken_words if word.lower() in pronouns)\n",
        "written_pronouns = sum(1 for word in written_words if word.lower() in pronouns)\n",
        "\n",
        "# Count contractions\n",
        "contractions = set([\"don't\", \"can't\", \"won't\", \"isn't\", \"aren't\", \"wasn't\", \"weren't\", \"hasn't\", \"haven't\", \"hadn't\", \"didn't\", \"doesn't\", \"wouldn't\", \"couldn't\", \"shouldn't\", \"mightn't\", \"mustn't\"])\n",
        "spoken_contractions = sum(1 for word in spoken_words if word.lower() in contractions)\n",
        "written_contractions = sum(1 for word in written_words if word.lower() in contractions)\n",
        "\n",
        "# Count fillers\n",
        "fillers = set([\"um\", \"uh\", \"you know\", \"well\"])\n",
        "spoken_fillers = sum(1 for word in spoken_words if word.lower() in fillers)\n",
        "written_fillers = sum(1 for word in written_words if word.lower() in fillers)\n",
        "\n",
        "# Count simple sentence structures\n",
        "spoken_sentences = sent_tokenize(spoken_text)\n",
        "written_sentences = sent_tokenize(written_text)\n",
        "spoken_simple_sentences = sum(1 for sentence in spoken_sentences if len(word_tokenize(sentence)) < 10)\n",
        "written_simple_sentences = sum(1 for sentence in written_sentences if len(word_tokenize(sentence)) < 10)\n",
        "\n",
        "# Results\n",
        "results = {\n",
        "    'Feature': ['Pronouns', 'Contractions', 'Fillers', 'Simple Sentences'],\n",
        "    'Spoken': [spoken_pronouns, spoken_contractions, spoken_fillers, spoken_simple_sentences],\n",
        "    'Written': [written_pronouns, written_contractions, written_fillers, written_simple_sentences]\n",
        "}\n",
        "\n",
        "df = pd.DataFrame(results)\n",
        "\n",
        "# Display the DataFrame\n",
        "print(df)\n",
        "\n",
        "# Plotting the results\n",
        "# Set positions and width for the bars\n",
        "pos = list(range(len(df['Spoken'])))\n",
        "width = 0.25\n",
        "\n",
        "# Plotting the bars\n",
        "fig, ax = plt.subplots(figsize=(10, 6))\n",
        "\n",
        "plt.bar(pos, df['Spoken'], width, alpha=0.5, color='b', label='Spoken')\n",
        "plt.bar([p + width for p in pos], df['Written'], width, alpha=0.5, color='r', label='Written')\n",
        "\n",
        "# Setting the y-axis label\n",
        "ax.set_ylabel('Counts')\n",
        "\n",
        "# Setting the x-axis labels\n",
        "ax.set_xticks([p + width / 2 for p in pos])\n",
        "ax.set_xticklabels(df['Feature'])\n",
        "\n",
        "# Setting the chart's title\n",
        "ax.set_title('Comparison of Spoken and Written Language Features')\n",
        "\n",
        "# Adding the legend and showing the plot\n",
        "plt.legend(['Spoken', 'Written'], loc='upper left')\n",
        "plt.grid()\n",
        "plt.show()\n"
      ]
    },
    {
      "cell_type": "markdown",
      "source": [
        "# POS tagging using nltk"
      ],
      "metadata": {
        "id": "XzrjujxNip34"
      }
    },
    {
      "cell_type": "code",
      "source": [
        "import nltk\n",
        "from nltk.tokenize import word_tokenize\n",
        "from nltk import pos_tag\n",
        "\n",
        "# Download the necessary NLTK data\n",
        "nltk.download('punkt')\n",
        "nltk.download('averaged_perceptron_tagger')\n",
        "\n",
        "# Sample text\n",
        "text = \"Well, um, you know, I think we should, uh, go to the park. Don't you agree?\"\n",
        "\n",
        "# Tokenize the text\n",
        "tokens = word_tokenize(text)\n",
        "\n",
        "# Tag the tokens\n",
        "tagged_tokens = pos_tag(tokens)\n",
        "\n",
        "# Display the tagged tokens\n",
        "print(tagged_tokens)\n"
      ],
      "metadata": {
        "id": "J4V1za-SirqG"
      },
      "execution_count": null,
      "outputs": []
    },
    {
      "cell_type": "code",
      "source": [
        "import pandas as pd\n",
        "import nltk\n",
        "from nltk.tokenize import word_tokenize\n",
        "from nltk import pos_tag\n",
        "from collections import Counter\n",
        "\n",
        "# Sample DataFrame for demonstration (replace this with your actual DataFrame)\n",
        "data = {\n",
        "    'Text': [\n",
        "        \"Well, um, you know, I think we should, uh, go to the park. Don't you agree?\",\n",
        "        \"It is suggested that we should go to the park. What do you think?\"\n",
        "    ]\n",
        "}\n",
        "df = pd.DataFrame(data)\n",
        "\n",
        "# Download the necessary NLTK data\n",
        "nltk.download('punkt')\n",
        "nltk.download('averaged_perceptron_tagger')\n",
        "\n",
        "# Function to tag text\n",
        "def tag_text(text):\n",
        "    tokens = word_tokenize(text)\n",
        "    tagged_tokens = pos_tag(tokens)\n",
        "    return tagged_tokens\n",
        "\n",
        "# Apply the tag_text function to each element in the 'Text' column\n",
        "df['Tagged'] = df['Text'].apply(tag_text)\n",
        "\n",
        "# Function to count specific tags\n",
        "def count_tags(tagged_text, tag_prefix):\n",
        "    tags = [tag for word, tag in tagged_text if tag.startswith(tag_prefix)]\n",
        "    return len(tags)\n",
        "\n",
        "# Count the number of nouns (NN) in each row\n",
        "df['Noun_Count'] = df['Tagged'].apply(lambda x: count_tags(x, 'NN'))\n",
        "\n",
        "# Count the number of verbs (VB) in each row\n",
        "df['Verb_Count'] = df['Tagged'].apply(lambda x: count_tags(x, 'VB'))\n",
        "\n",
        "# Display the DataFrame with tag counts\n",
        "print(df)\n"
      ],
      "metadata": {
        "id": "HuFNRHoyi1VB"
      },
      "execution_count": null,
      "outputs": []
    },
    {
      "cell_type": "markdown",
      "source": [
        "### Apply to a real data:\n",
        "\n",
        " + File to upload"
      ],
      "metadata": {
        "id": "LUDqRYbPuE-6"
      }
    },
    {
      "cell_type": "code",
      "source": [
        "from google.colab import files\n",
        "\n",
        "# This will prompt you to upload a file\n",
        "uploaded = files.upload()"
      ],
      "metadata": {
        "id": "wlfguWVyuIIX"
      },
      "execution_count": null,
      "outputs": []
    },
    {
      "cell_type": "code",
      "source": [
        "# Assuming the uploaded file is named 'example.txt'\n",
        "filename = 'sampleTED.txt'\n",
        "\n",
        "# Open and read the file\n",
        "with open(filename, 'r') as file:\n",
        "    file_contents = file.read()\n",
        "\n",
        "# Print the file contents\n",
        "print(file_contents[:100])\n"
      ],
      "metadata": {
        "id": "EZd0US3VuSZw"
      },
      "execution_count": null,
      "outputs": []
    },
    {
      "cell_type": "code",
      "source": [
        "import nltk\n",
        "from nltk.tokenize import word_tokenize\n",
        "from nltk import pos_tag\n",
        "\n",
        "# Download the necessary NLTK data\n",
        "nltk.download('punkt')\n",
        "nltk.download('averaged_perceptron_tagger')\n",
        "\n",
        "# Sample text\n",
        "text = file_contents\n",
        "\n",
        "# Tokenize the text\n",
        "tokens = word_tokenize(text)\n",
        "\n",
        "# Tag the tokens\n",
        "tagged_tokens = pos_tag(tokens)\n",
        "\n",
        "# Display the tagged tokens\n",
        "print(tagged_tokens[-100:])\n"
      ],
      "metadata": {
        "id": "myhnt9yDuewf"
      },
      "execution_count": null,
      "outputs": []
    },
    {
      "cell_type": "code",
      "source": [
        "# saving a list file as dataframe\n",
        "import pandas as pd\n",
        "\n",
        "df = pd.DataFrame(tagged_tokens, columns=['Word', 'Tagged'])\n",
        "\n",
        "# Save the DataFrame to a CSV file\n",
        "df.to_csv('tagged_tokens.csv', index=False)\n",
        "\n",
        "# Display the DataFrame to verify\n",
        "print(df)\n",
        "\n",
        "# Optional: Download the CSV file in Google Colab\n",
        "# from google.colab import files\n",
        "# files.download('tagged_tokens.csv')"
      ],
      "metadata": {
        "id": "R7Bp8XtYvZeJ"
      },
      "execution_count": null,
      "outputs": []
    },
    {
      "cell_type": "markdown",
      "source": [
        "## Past tense verb\n",
        "\n",
        "+ [tag documentation](https://www.ling.upenn.edu/courses/Fall_2003/ling001/penn_treebank_pos.html)\n",
        "\n",
        "+ Data should be a dataframe, having 'Text' column (or change the column name in the code below)"
      ],
      "metadata": {
        "id": "WxWGtOGnjK0l"
      }
    },
    {
      "cell_type": "code",
      "source": [
        "from google.colab import files\n",
        "uploaded = files.upload()"
      ],
      "metadata": {
        "id": "ebq-9xKFyEGx"
      },
      "execution_count": null,
      "outputs": []
    },
    {
      "cell_type": "code",
      "source": [
        "df = pd.read_csv(\"Cleanedtext01.csv\")"
      ],
      "metadata": {
        "id": "6FziQ4D9yjXz"
      },
      "execution_count": null,
      "outputs": []
    },
    {
      "cell_type": "code",
      "source": [
        "import pandas as pd\n",
        "import nltk\n",
        "from nltk.tokenize import word_tokenize\n",
        "from nltk import pos_tag\n",
        "from collections import Counter\n",
        "\n",
        "# Download the necessary NLTK data\n",
        "nltk.download('punkt')\n",
        "nltk.download('averaged_perceptron_tagger')\n",
        "\n",
        "# Function to tag text\n",
        "def tag_text(text):\n",
        "    if isinstance(text, str):\n",
        "        tokens = word_tokenize(text)\n",
        "        tagged_tokens = pos_tag(tokens)\n",
        "        return tagged_tokens\n",
        "    else:\n",
        "        # Handle the case where text is not a string or bytes-like object\n",
        "        return []\n",
        "\n",
        "\n",
        "\n",
        "# Apply the tag_text function to each element in the 'Cleanedtext01' column\n",
        "df['Tagged'] = df['Cleanedtext01'].apply(tag_text)\n",
        "\n",
        "# Function to count specific tags\n",
        "def count_tags(tagged_text, tag):\n",
        "    tags = [tag for word, tag in tagged_text if tag == tag]\n",
        "    return len(tags)\n",
        "\n",
        "# Count the number of past tense verbs (VBD) in each row\n",
        "df['Past_Tense_Verb_Count'] = df['Tagged'].apply(lambda x: count_tags(x, 'VBD'))\n",
        "\n",
        "# Display the DataFrame with tag counts\n",
        "df\n"
      ],
      "metadata": {
        "id": "QJ8wJwYiWhzj"
      },
      "execution_count": null,
      "outputs": []
    },
    {
      "cell_type": "markdown",
      "source": [
        "+ Past tense verb list as a separate file"
      ],
      "metadata": {
        "id": "knGemG7tzqo_"
      }
    },
    {
      "cell_type": "code",
      "source": [
        "import pandas as pd\n",
        "\n",
        "# Function to extract VBP tokens\n",
        "def extract_vbp_tokens(row):\n",
        "    tid = row['TID']\n",
        "    tagged_tokens = row['Tagged']\n",
        "    vbp_tokens = [(tid, word) for word, tag in tagged_tokens if tag == 'VBP']\n",
        "    return vbp_tokens\n",
        "\n",
        "# Extract VBP tokens for each row and flatten the list of lists\n",
        "vbp_list = [item for sublist in df.apply(extract_vbp_tokens, axis=1) for item in sublist]\n",
        "\n",
        "# Create a new DataFrame with TID and Word columns\n",
        "vbp_df = pd.DataFrame(vbp_list, columns=['TID', 'Word'])\n",
        "\n",
        "# Display the new DataFrame\n",
        "print(vbp_df)\n",
        "\n",
        "# Save the new DataFrame to a CSV file\n",
        "vbp_df.to_csv('vbp_tokens.csv', index=False)\n",
        "\n",
        "# Optional: Download the CSV file in Google Colab\n",
        "# from google.colab import files\n",
        "# files.download('vbp_tokens.csv')\n"
      ],
      "metadata": {
        "id": "K6Tai0cAze2y"
      },
      "execution_count": null,
      "outputs": []
    },
    {
      "cell_type": "code",
      "source": [
        "import nltk\n",
        "from nltk.corpus import wordnet as wn\n",
        "\n",
        "# Download the necessary NLTK data\n",
        "nltk.download('tagsets')\n",
        "nltk.download('wordnet')\n",
        "\n",
        "# Display the description of the Penn Treebank POS tagset\n",
        "nltk.help.upenn_tagset()\n",
        "\n",
        "# Get descriptions of specific POS tags\n",
        "tag_descriptions = {\n",
        "    'NN': wn.synset('noun.n.01').definition(),\n",
        "    'VB': wn.synset('verb.n.01').definition(),\n",
        "    'JJ': wn.synset('adjective.n.01').definition(),\n",
        "    'RB': wn.synset('adverb.n.01').definition()\n",
        "}\n",
        "\n",
        "print(tag_descriptions)\n"
      ],
      "metadata": {
        "id": "7gDPoMQljY3Z"
      },
      "execution_count": null,
      "outputs": []
    },
    {
      "cell_type": "markdown",
      "source": [
        "---\n",
        "The End"
      ],
      "metadata": {
        "id": "frSz-yLWYPst"
      }
    }
  ]
}