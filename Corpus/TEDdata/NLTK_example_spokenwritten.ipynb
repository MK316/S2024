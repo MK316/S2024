{
  "nbformat": 4,
  "nbformat_minor": 0,
  "metadata": {
    "colab": {
      "private_outputs": true,
      "provenance": [],
      "authorship_tag": "ABX9TyM4ZgSsownQiO3cl12f+b6u",
      "include_colab_link": true
    },
    "kernelspec": {
      "name": "python3",
      "display_name": "Python 3"
    },
    "language_info": {
      "name": "python"
    }
  },
  "cells": [
    {
      "cell_type": "markdown",
      "metadata": {
        "id": "view-in-github",
        "colab_type": "text"
      },
      "source": [
        "<a href=\"https://colab.research.google.com/github/MK316/Spring2024/blob/main/Corpus/TEDdata/NLTK_example_spokenwritten.ipynb\" target=\"_parent\"><img src=\"https://colab.research.google.com/assets/colab-badge.svg\" alt=\"Open In Colab\"/></a>"
      ]
    },
    {
      "cell_type": "code",
      "source": [
        "!pip install nltk"
      ],
      "metadata": {
        "id": "HPiJhcTlhQXE"
      },
      "execution_count": null,
      "outputs": []
    },
    {
      "cell_type": "code",
      "source": [
        "nltk.download('punkt')"
      ],
      "metadata": {
        "id": "BLEP1vW8hmbx"
      },
      "execution_count": null,
      "outputs": []
    },
    {
      "cell_type": "code",
      "execution_count": null,
      "metadata": {
        "id": "9CKTe6mJWa0E"
      },
      "outputs": [],
      "source": [
        "import nltk\n",
        "import pandas as pd\n",
        "from nltk.tokenize import word_tokenize, sent_tokenize\n",
        "import matplotlib.pyplot as plt\n",
        "\n",
        "# Download the necessary NLTK data\n",
        "nltk.download('punkt')\n",
        "\n",
        "# Sample data\n",
        "spoken_text = \"Well, um, you know, I think we should, uh, go to the park. Don't you agree?\"\n",
        "written_text = \"It is suggested that we should go to the park. What do you think?\"\n",
        "\n",
        "# Tokenize text\n",
        "spoken_words = word_tokenize(spoken_text)\n",
        "written_words = word_tokenize(written_text)\n",
        "\n",
        "# Count pronouns\n",
        "pronouns = set([\"I\", \"you\", \"he\", \"she\", \"it\", \"we\", \"they\", \"me\", \"him\", \"her\", \"us\", \"them\"])\n",
        "spoken_pronouns = sum(1 for word in spoken_words if word.lower() in pronouns)\n",
        "written_pronouns = sum(1 for word in written_words if word.lower() in pronouns)\n",
        "\n",
        "# Count contractions\n",
        "contractions = set([\"don't\", \"can't\", \"won't\", \"isn't\", \"aren't\", \"wasn't\", \"weren't\", \"hasn't\", \"haven't\", \"hadn't\", \"didn't\", \"doesn't\", \"wouldn't\", \"couldn't\", \"shouldn't\", \"mightn't\", \"mustn't\"])\n",
        "spoken_contractions = sum(1 for word in spoken_words if word.lower() in contractions)\n",
        "written_contractions = sum(1 for word in written_words if word.lower() in contractions)\n",
        "\n",
        "# Count fillers\n",
        "fillers = set([\"um\", \"uh\", \"you know\", \"well\"])\n",
        "spoken_fillers = sum(1 for word in spoken_words if word.lower() in fillers)\n",
        "written_fillers = sum(1 for word in written_words if word.lower() in fillers)\n",
        "\n",
        "# Count simple sentence structures\n",
        "spoken_sentences = sent_tokenize(spoken_text)\n",
        "written_sentences = sent_tokenize(written_text)\n",
        "spoken_simple_sentences = sum(1 for sentence in spoken_sentences if len(word_tokenize(sentence)) < 10)\n",
        "written_simple_sentences = sum(1 for sentence in written_sentences if len(word_tokenize(sentence)) < 10)\n",
        "\n",
        "# Results\n",
        "results = {\n",
        "    'Feature': ['Pronouns', 'Contractions', 'Fillers', 'Simple Sentences'],\n",
        "    'Spoken': [spoken_pronouns, spoken_contractions, spoken_fillers, spoken_simple_sentences],\n",
        "    'Written': [written_pronouns, written_contractions, written_fillers, written_simple_sentences]\n",
        "}\n",
        "\n",
        "df = pd.DataFrame(results)\n",
        "\n",
        "# Display the DataFrame\n",
        "print(df)\n",
        "\n",
        "# Plotting the results\n",
        "# Set positions and width for the bars\n",
        "pos = list(range(len(df['Spoken'])))\n",
        "width = 0.25\n",
        "\n",
        "# Plotting the bars\n",
        "fig, ax = plt.subplots(figsize=(10, 6))\n",
        "\n",
        "plt.bar(pos, df['Spoken'], width, alpha=0.5, color='b', label='Spoken')\n",
        "plt.bar([p + width for p in pos], df['Written'], width, alpha=0.5, color='r', label='Written')\n",
        "\n",
        "# Setting the y-axis label\n",
        "ax.set_ylabel('Counts')\n",
        "\n",
        "# Setting the x-axis labels\n",
        "ax.set_xticks([p + width / 2 for p in pos])\n",
        "ax.set_xticklabels(df['Feature'])\n",
        "\n",
        "# Setting the chart's title\n",
        "ax.set_title('Comparison of Spoken and Written Language Features')\n",
        "\n",
        "# Adding the legend and showing the plot\n",
        "plt.legend(['Spoken', 'Written'], loc='upper left')\n",
        "plt.grid()\n",
        "plt.show()\n"
      ]
    }
  ]
}