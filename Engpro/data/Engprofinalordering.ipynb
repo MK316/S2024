{
  "nbformat": 4,
  "nbformat_minor": 0,
  "metadata": {
    "colab": {
      "private_outputs": true,
      "provenance": [],
      "authorship_tag": "ABX9TyMI4bpouoHUhIGdAA5LMc+v",
      "include_colab_link": true
    },
    "kernelspec": {
      "name": "python3",
      "display_name": "Python 3"
    },
    "language_info": {
      "name": "python"
    }
  },
  "cells": [
    {
      "cell_type": "markdown",
      "metadata": {
        "id": "view-in-github",
        "colab_type": "text"
      },
      "source": [
        "<a href=\"https://colab.research.google.com/github/MK316/Spring2024/blob/main/Engpro/data/Engprofinalordering.ipynb\" target=\"_parent\"><img src=\"https://colab.research.google.com/assets/colab-badge.svg\" alt=\"Open In Colab\"/></a>"
      ]
    },
    {
      "cell_type": "code",
      "source": [
        "# URL of the CSV file on GitHub (make sure to use the raw version of the file)\n",
        "url = \"https://raw.githubusercontent.com/MK316/Spring2024/main/Engpro/data/Engpro_roster.csv\""
      ],
      "metadata": {
        "id": "MM1qlgY17XLZ"
      },
      "execution_count": null,
      "outputs": []
    },
    {
      "cell_type": "code",
      "source": [
        "#@markdown Randomize the presentation order and date\n",
        "import pandas as pd\n",
        "import requests\n",
        "import random\n",
        "from io import StringIO\n",
        "\n",
        "# Fetch the CSV file from GitHub\n",
        "response = requests.get(url)\n",
        "response.raise_for_status()  # Raises an HTTPError for bad responses\n",
        "\n",
        "# Read the CSV file into a pandas DataFrame\n",
        "df = pd.read_csv(StringIO(response.text))\n",
        "\n",
        "# Randomize the order of students\n",
        "randomized_list = df.sample(frac=1).reset_index(drop=True)\n",
        "\n",
        "# Add 'Date' column, setting 'Jun18' for the first 9, and 'Jun20' for the rest\n",
        "randomized_list['Date'] = ['Jun18' if i < 9 else 'Jun20' for i in range(len(randomized_list))]\n",
        "\n",
        "# Create a separate order for each group 'Jun18' and 'Jun20'\n",
        "# Reset the order count starting from 1 for each group\n",
        "order_jun18 = 1\n",
        "order_jun20 = 1\n",
        "orders = []\n",
        "\n",
        "for date in randomized_list['Date']:\n",
        "    if date == 'Jun18':\n",
        "        orders.append(order_jun18)\n",
        "        order_jun18 += 1\n",
        "    else:\n",
        "        orders.append(order_jun20)\n",
        "        order_jun20 += 1\n",
        "\n",
        "randomized_list['Order'] = orders\n",
        "\n",
        "# Save the randomized list to a new CSV file\n",
        "randomized_list.to_csv('/content/Engpro_finallist.csv', index=False)\n",
        "\n",
        "# Print the randomized list without index\n",
        "print(randomized_list.to_string(index=False))\n"
      ],
      "metadata": {
        "cellView": "form",
        "id": "Xf09HkPX6P-8"
      },
      "execution_count": null,
      "outputs": []
    }
  ]
}