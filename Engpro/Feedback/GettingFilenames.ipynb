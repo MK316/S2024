{
  "nbformat": 4,
  "nbformat_minor": 0,
  "metadata": {
    "colab": {
      "private_outputs": true,
      "provenance": [],
      "authorship_tag": "ABX9TyOewC9k/AVqLk9eQ5x+kElQ",
      "include_colab_link": true
    },
    "kernelspec": {
      "name": "python3",
      "display_name": "Python 3"
    },
    "language_info": {
      "name": "python"
    }
  },
  "cells": [
    {
      "cell_type": "markdown",
      "metadata": {
        "id": "view-in-github",
        "colab_type": "text"
      },
      "source": [
        "<a href=\"https://colab.research.google.com/github/MK316/Spring2024/blob/main/Engpro/Feedback/GettingFilenames.ipynb\" target=\"_parent\"><img src=\"https://colab.research.google.com/assets/colab-badge.svg\" alt=\"Open In Colab\"/></a>"
      ]
    },
    {
      "cell_type": "markdown",
      "source": [
        "# Upload a zip file and make a filename list as a dataframe"
      ],
      "metadata": {
        "id": "YSGwlDrUaHjL"
      }
    },
    {
      "cell_type": "code",
      "source": [
        "from google.colab import drive\n",
        "import os\n",
        "import pandas as pd\n",
        "\n",
        "# Mount Google Drive\n",
        "drive.mount('/content/drive')"
      ],
      "metadata": {
        "id": "bxK2OD9AcE4N"
      },
      "execution_count": null,
      "outputs": []
    },
    {
      "cell_type": "code",
      "source": [
        "# Function to list files in a directory and create DataFrame\n",
        "def create_dataframe_from_folder(folder_path):\n",
        "    file_paths = []  # List to store file paths\n",
        "    # Walk through the directory\n",
        "    for root, dirs, files in os.walk(folder_path):\n",
        "        for file in files:\n",
        "            # Append the full path of files to the list\n",
        "            file_paths.append(os.path.join(root, file))\n",
        "\n",
        "    # Create a DataFrame with these file paths\n",
        "    df = pd.DataFrame(file_paths, columns=['url'])\n",
        "    return df\n",
        "\n",
        "# Specify the path to the folder in Google Drive\n",
        "folder_path = '/content/drive/My Drive/Research/Engpro24data'  # Change 'YourFolderName' to your folder's name\n",
        "\n",
        "# Create the DataFrame from the folder\n",
        "df = create_dataframe_from_folder(folder_path)\n",
        "\n",
        "# Display the DataFrame\n",
        "df\n"
      ],
      "metadata": {
        "id": "3prEgkFNbfbW"
      },
      "execution_count": null,
      "outputs": []
    },
    {
      "cell_type": "code",
      "source": [
        "import pandas as pd\n",
        "from pathlib import Path\n",
        "\n",
        "# Extract the filename from the full path and split by '-'\n",
        "df['filename'] = df['url'].apply(lambda x: Path(x).name)\n",
        "df[['Name', 'SID']] = df['filename'].str.split('-', expand=True)\n",
        "\n",
        "# Remove the file extension from 'SID'\n",
        "df['SID'] = df['SID'].str.split('.', expand=True)[0]\n",
        "\n",
        "# Display the DataFrame to see the result\n",
        "df.to_csv(\"Engprologfile0604.csv\", index=False, encoding=\"utf-8-sig\")\n",
        "df"
      ],
      "metadata": {
        "id": "s9yo1sU3e5jV"
      },
      "execution_count": null,
      "outputs": []
    },
    {
      "cell_type": "code",
      "source": [
        "# Install openpyxl if not already installed\n",
        "# !pip install openpyxl\n",
        "\n",
        "df.to_excel(\"EngprologfileED04.xlsx\", index=False, engine='openpyxl')\n"
      ],
      "metadata": {
        "id": "ztzEhQ8ffwna"
      },
      "execution_count": null,
      "outputs": []
    },
    {
      "cell_type": "code",
      "source": [
        "import pandas as pd\n",
        "import os\n",
        "import requests\n",
        "from urllib.parse import urlparse\n",
        "from pathlib import Path\n",
        "\n",
        "# Example DataFrame with URL of files\n",
        "data = {\n",
        "    'url': [\n",
        "        'http://example.com/file1.txt',\n",
        "        'http://example.com/file2.txt'\n",
        "    ]\n",
        "}\n",
        "df = pd.DataFrame(data)\n",
        "\n",
        "# Add a new column with new filenames\n",
        "df['new_filename'] = df['url'].apply(lambda x: \"new_\" + Path(urlparse(x).path).name)\n",
        "\n",
        "# Function to download, rename, and save a file locally\n",
        "def download_rename_save_file(url, new_filename):\n",
        "    # Try to download the file\n",
        "    try:\n",
        "        response = requests.get(url, stream=True)\n",
        "        response.raise_for_status()  # Check for request errors\n",
        "\n",
        "        # Save the downloaded file with the new filename\n",
        "        with open(f'/content/{new_filename}', 'wb') as f:\n",
        "            for chunk in response.iter_content(chunk_size=8192):\n",
        "                f.write(chunk)\n",
        "        print(f\"File saved as {new_filename} in Colab.\")\n",
        "    except requests.RequestException as e:\n",
        "        print(f\"Failed to download {url}. Reason: {e}\")\n",
        "\n",
        "# Iterate over the DataFrame and process each file\n",
        "for index, row in df.iterrows():\n",
        "    download_rename_save_file(row['url'], row['new_filename'])\n"
      ],
      "metadata": {
        "id": "G8O-s7n_eCJj"
      },
      "execution_count": null,
      "outputs": []
    },
    {
      "cell_type": "code",
      "source": [
        "from google.colab import drive\n",
        "import os\n",
        "import shutil  # To copy files\n",
        "\n",
        "# Mount Google Drive\n",
        "drive.mount('/content/drive')\n",
        "\n",
        "# Function to copy and rename files\n",
        "def copy_and_rename_files(source_folder, target_folder):\n",
        "    # Check if the target folder exists, if not, create it\n",
        "    if not os.path.exists(target_folder):\n",
        "        os.makedirs(target_folder)\n",
        "\n",
        "    # List all files in the source directory\n",
        "    file_list = os.listdir(source_folder)\n",
        "    for file_name in file_list:\n",
        "        # Construct full file path\n",
        "        source_file_path = os.path.join(source_folder, file_name)\n",
        "        # Define a new file name (example adds '_new' suffix)\n",
        "        new_file_name = file_name.replace(\".\", \"_new.\") if \".\" in file_name else file_name + \"_new\"\n",
        "        target_file_path = os.path.join(target_folder, new_file_name)\n",
        "\n",
        "        # Copy and rename the file to the new directory\n",
        "        shutil.copy2(source_file_path, target_file_path)\n",
        "        print(f\"Copied and renamed file to {target_file_path}\")\n",
        "\n",
        "# Specify the source folder (Google Drive) and target folder (local Colab storage)\n",
        "source_folder = '/content/drive/My Drive/Research/Engpro24data'  # Change 'YourFolderName' to your actual folder name\n",
        "target_folder = '/content/renamed_files'\n",
        "\n",
        "# Copy and rename the files\n",
        "copy_and_rename_files(source_folder, target_folder)\n"
      ],
      "metadata": {
        "id": "gz8PszPXdFga"
      },
      "execution_count": null,
      "outputs": []
    },
    {
      "cell_type": "code",
      "source": [
        "from google.colab import drive\n",
        "\n",
        "# Unmount Google Drive\n",
        "drive.unmount()"
      ],
      "metadata": {
        "id": "FQEOtb5OccvV"
      },
      "execution_count": null,
      "outputs": []
    }
  ]
}