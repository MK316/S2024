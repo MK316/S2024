{
  "nbformat": 4,
  "nbformat_minor": 0,
  "metadata": {
    "colab": {
      "private_outputs": true,
      "provenance": [],
      "authorship_tag": "ABX9TyP7xMsyhnAiAaFmbijxklMd",
      "include_colab_link": true
    },
    "kernelspec": {
      "name": "python3",
      "display_name": "Python 3"
    },
    "language_info": {
      "name": "python"
    }
  },
  "cells": [
    {
      "cell_type": "markdown",
      "metadata": {
        "id": "view-in-github",
        "colab_type": "text"
      },
      "source": [
        "<a href=\"https://colab.research.google.com/github/MK316/Spring2024/blob/main/Engpro/Gradecheck_Engpro.ipynb\" target=\"_parent\"><img src=\"https://colab.research.google.com/assets/colab-badge.svg\" alt=\"Open In Colab\"/></a>"
      ]
    },
    {
      "cell_type": "code",
      "source": [
        "%%capture\n",
        "!pip install gradio"
      ],
      "metadata": {
        "id": "-1uVh2gfe4DL"
      },
      "execution_count": null,
      "outputs": []
    },
    {
      "cell_type": "code",
      "source": [
        "from google.colab import drive\n",
        "drive.mount('/content/drive')"
      ],
      "metadata": {
        "id": "e8d36nV6zI9i"
      },
      "execution_count": null,
      "outputs": []
    },
    {
      "cell_type": "code",
      "source": [
        "import pandas as pd\n",
        "\n",
        "# Replace 'path_to_your_csv_file.csv' with the actual path to your CSV file\n",
        "file_path = '/content/drive/My Drive/EngproS24/Engpro0613.csv'\n",
        "df = pd.read_csv(file_path, encoding=\"utf-8-sig\")"
      ],
      "metadata": {
        "id": "HpX-82mtzLc8"
      },
      "execution_count": null,
      "outputs": []
    },
    {
      "cell_type": "code",
      "execution_count": null,
      "metadata": {
        "id": "yV14x_njew98"
      },
      "outputs": [],
      "source": [
        "import gradio as gr\n",
        "import pandas as pd\n",
        "\n",
        "# Load your CSV file\n",
        "# df = pd.read_csv('path_to_your_csv_file.csv')\n",
        "\n",
        "# Convert 'SID' to string and strip any whitespace\n",
        "df['SID'] = df['SID'].astype(str).str.strip()\n",
        "\n",
        "def show_data(sid):\n",
        "    # Ensure input SID is treated as a string and strip whitespace\n",
        "    sid = str(sid).strip()\n",
        "\n",
        "    # Check if the SID exists in the DataFrame\n",
        "    if sid in df['SID'].values:\n",
        "        # Retrieve the row that matches the SID\n",
        "        data = df[df['SID'] == sid].iloc[0]\n",
        "        # Prepare data to display, excluding the SID column\n",
        "        results = data.drop('SID')\n",
        "        # Return each column data as separate output\n",
        "        return tuple(results)\n",
        "    else:\n",
        "        # If SID not found, provide an appropriate message for each column\n",
        "        return tuple([\"SID not found. Please enter a valid SID.\"] * len(results))\n",
        "\n",
        "# Define each output component for the Gradio interface with custom labels from DataFrame columns\n",
        "outputs = [gr.Textbox(label=col) for col in df.columns if col != 'SID']\n",
        "\n",
        "# Create a Gradio interface\n",
        "iface = gr.Interface(\n",
        "    fn=show_data,\n",
        "    inputs=gr.Textbox(label=\"Enter SID\"),\n",
        "    outputs=outputs,\n",
        "    title=\"Student Data Lookup\",\n",
        "    description=\"Enter a Student ID (SID) to fetch the corresponding data. Each data field is displayed in a separate textbox labeled by its respective column name.\"\n",
        ")\n",
        "\n",
        "iface.launch()\n"
      ]
    }
  ]
}