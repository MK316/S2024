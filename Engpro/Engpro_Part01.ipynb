{
  "nbformat": 4,
  "nbformat_minor": 0,
  "metadata": {
    "colab": {
      "private_outputs": true,
      "provenance": [],
      "authorship_tag": "ABX9TyOc1/IX1cT+IIXkTxzahlKI",
      "include_colab_link": true
    },
    "kernelspec": {
      "name": "python3",
      "display_name": "Python 3"
    },
    "language_info": {
      "name": "python"
    }
  },
  "cells": [
    {
      "cell_type": "markdown",
      "metadata": {
        "id": "view-in-github",
        "colab_type": "text"
      },
      "source": [
        "<a href=\"https://colab.research.google.com/github/MK316/Spring2024/blob/main/Engpro/Engpro_Part01.ipynb\" target=\"_parent\"><img src=\"https://colab.research.google.com/assets/colab-badge.svg\" alt=\"Open In Colab\"/></a>"
      ]
    },
    {
      "cell_type": "markdown",
      "source": [
        "# 📒 **Part I. Introduction (pp.12~22)**\n",
        "\n",
        "Table of contents\n",
        "\n",
        "+ **Basics 1. English sounds**\n",
        "+ **Basics 2. IPA Symbols to represent English vowels**\n",
        "+ **Basics 3. IPA Symbols to represent English consonants**\n",
        "+ **Basics 4. Dictionaries for pronunciation**"
      ],
      "metadata": {
        "id": "jCiRnGNII7IQ"
      }
    },
    {
      "cell_type": "markdown",
      "source": [
        "# **[0] Setting**"
      ],
      "metadata": {
        "id": "di-HDKgxJzaT"
      }
    },
    {
      "cell_type": "code",
      "source": [
        "%%capture\n",
        "!pip install gTTS pydub\n",
        "import pandas as pd\n",
        "from IPython.display import YouTubeVideo, display, Audio, Image\n",
        "!apt-get install -y ffmpeg\n",
        "\n",
        "\n",
        "#@markdown 🔄 Making functions: etts('text'), ktts('text')\n",
        "#!pip install gTTS\n",
        "from gtts import gTTS\n",
        "from IPython.display import Audio\n",
        "\n",
        "def etts(text):\n",
        "  text_to_say = text\n",
        "\n",
        "  gtts_object = gTTS(text = text_to_say,\n",
        "                     lang = \"en\", tld = \"us\",\n",
        "                    slow = False)\n",
        "\n",
        "  gtts_object.save(\"E-audio.mp3\")\n",
        "  return Audio(\"E-audio.mp3\")\n",
        "\n",
        "def ktts(text):\n",
        "  text_to_say = text\n",
        "\n",
        "  gtts_object = gTTS(text = text_to_say,\n",
        "                     lang = \"ko\",\n",
        "                    slow = False)\n",
        "\n",
        "  gtts_object.save(\"K-audio.mp3\")\n",
        "  return Audio(\"K-audio.mp3\")"
      ],
      "metadata": {
        "id": "h_mrClnPK0kl",
        "cellView": "form"
      },
      "execution_count": null,
      "outputs": []
    },
    {
      "cell_type": "code",
      "execution_count": null,
      "metadata": {
        "cellView": "form",
        "id": "QZL-snUCIxi_"
      },
      "outputs": [],
      "source": [
        "#@markdown 🎧 Instruction: 1. Every language utilizes its unique set of sounds.\n",
        "text = \"Every language utilizes its unique set of sounds. The initial step in learning a second language involves distinguishing which sounds are similar to those in our native language and which are not. This understanding allows us to concentrate on mastering new sounds by practicing the required articulatory gestures.\"\n",
        "etts(text)\n",
        "\n",
        "print(\"Instruction\")\n",
        "Audio(\"E-audio.mp3\", autoplay=False)"
      ]
    },
    {
      "cell_type": "markdown",
      "source": [
        "# **Basics [1] English sounds**"
      ],
      "metadata": {
        "id": "mtZtNcIiR5YO"
      }
    },
    {
      "cell_type": "code",
      "source": [
        "#@markdown 🎧 For example: bin, pin, spin\n",
        "text1 = \"빈, 핀, 스삔\"\n",
        "text2 = \"bin, pin, spin\"\n",
        "ktts(text1)\n",
        "etts(text2)\n",
        "\n",
        "print(\"For example: Korean words\")\n",
        "display(Audio(\"K-audio.mp3\"))\n",
        "\n",
        "print(\"For example: English words\")\n",
        "display(Audio(\"E-audio.mp3\"))"
      ],
      "metadata": {
        "cellView": "form",
        "id": "r76D7llOLqlk"
      },
      "execution_count": null,
      "outputs": []
    },
    {
      "cell_type": "code",
      "source": [
        "#@markdown 🎧 For example: \b살/쌀 sale, slow, miss\n",
        "text1 = \"살, 쌀\"\n",
        "text2 = \"sale, slow, miss\"\n",
        "ktts(text1)\n",
        "etts(text2)\n",
        "\n",
        "print(\"For example: Korean words\")\n",
        "display(Audio(\"K-audio.mp3\"))\n",
        "\n",
        "print(\"For example: English words\")\n",
        "display(Audio(\"E-audio.mp3\"))"
      ],
      "metadata": {
        "cellView": "form",
        "id": "Ar4Ap2WPL2ba"
      },
      "execution_count": null,
      "outputs": []
    },
    {
      "cell_type": "code",
      "source": [
        "#@markdown **You may notice some similarities...** [p.13]\n",
        "# n = \"3\" #@param = [1,2,3,4]\n",
        "\n",
        "# id = int(n) -1\n",
        "\n",
        "tlist = [\"You may notice some similarities between the sounds in the English examples and those in Korean. However, they are not identical; phonetic differences may exist between two sounds:\",\n",
        "        \"Non-native speakers often show similar patterns in trying to match English sounds with those from their native language, for instance, ‘zero’, ‘measure’, ‘magic’.\",\n",
        "        \"The sound system and learner's native phonology significantly influence the perception of new sounds. This is especially true for adult language learners. For example, ‘beat vs. bit’, and ‘cinema’.\",\n",
        "        \"Acquiring individual sound details comes with experience and linguistic knowledge as we gain more exposure to English. To become proficient in English, it is crucial to understand and practice distinguishing different sounds, paying particular attention to articulation. That is, how to produce a sound using our articulators, such as the tongue, lips, jaw, etc.\" ]\n",
        "text1 = tlist[0]\n",
        "etts(text1)\n",
        "print(\"arrow 1\")\n",
        "display(Audio(\"E-audio.mp3\"))\n",
        "\n",
        "text2 = tlist[1]\n",
        "etts(text2)\n",
        "print(\"arrow 2\")\n",
        "display(Audio(\"E-audio.mp3\"))\n",
        "\n",
        "text3 = tlist[2]\n",
        "etts(text3)\n",
        "print(\"arrow 3\")\n",
        "display(Audio(\"E-audio.mp3\"))\n",
        "\n",
        "text4 = tlist[3]\n",
        "etts(text4)\n",
        "print(\"arrow 4\")\n",
        "display(Audio(\"E-audio.mp3\"))\n"
      ],
      "metadata": {
        "cellView": "form",
        "id": "6SmIlQ9RNfE_"
      },
      "execution_count": null,
      "outputs": []
    },
    {
      "cell_type": "markdown",
      "source": [
        "Textbook (13-14)\n",
        "+ \"Point 2. Small changes in the mouth, or articulatory gestures, can significantly affect the quality of sounds and their perception. These changes might alter the meaning of a word, influence the perception of speech (such as in the case of a foreign accent), or have no effect on sound perception (though they may still influence paralinguistic aspects of speech).\"\n",
        "+ \"For example: How might native English speakers pronounce the following Korean words when learning Korean?\",\n",
        "+ \"Let me say Korean words: dari, nary, ouhoo. This subtle difference in pronunciation is associated with what is known as a 'foreign accent'.\",\n",
        "+ \"Point 3. Our course will focus on learning how to produce individual English sounds using articulatory information and practice, connecting sounds to form words, and manipulating our speaking tones to communicate effectively with other English speakers.\",\n",
        "+ \"Point 4. Should we need to learn IPA symbols? Isn’t it enough to know how to spell words? English spellings are notoriously opaque and don't provide much insight into how to pronounce words.\"]\n"
      ],
      "metadata": {
        "id": "QMEyhg4oReeN"
      }
    },
    {
      "cell_type": "code",
      "source": [
        "#@markdown **[p.13-14] Small changes in the mouth can significantly affect the quality of sounds and their perception.**\n",
        "# n = \"3\" #@param = [1,2,3,4,5]\n",
        "\n",
        "# id = int(n) -1\n",
        "\n",
        "tlist = [\"Point 2. Small changes in the mouth, or articulatory gestures, can significantly affect the quality of sounds and their perception. These changes might alter the meaning of a word, influence the perception of speech (such as in the case of a foreign accent), or have no effect on sound perception (though they may still influence paralinguistic aspects of speech).\",\n",
        "        \"For example: How might native English speakers pronounce the following Korean words when learning Korean?\",\n",
        "        \"Let me say Korean words: dari, nary, ouhoo. This subtle difference in pronunciation is associated with what is known as a 'foreign accent'.\",\n",
        "        \"Point 3. Our course will focus on learning how to produce individual English sounds using articulatory information and practice, connecting sounds to form words, and manipulating our speaking tones to communicate effectively with other English speakers.\",\n",
        "        \"Point 4. Should we need to learn IPA symbols? Isn’t it enough to know how to spell words? English spellings are notoriously opaque and don't provide much insight into how to pronounce words.\"]\n",
        "text1 = tlist[0]\n",
        "etts(text1)\n",
        "print(\"Small changes\")\n",
        "display(Audio(\"E-audio.mp3\"))\n",
        "\n",
        "text2 = tlist[1]\n",
        "etts(text2)\n",
        "print(\"Example: How might...\")\n",
        "display(Audio(\"E-audio.mp3\"))\n",
        "\n",
        "text3 = tlist[2]\n",
        "etts(text3)\n",
        "print(\"Korean words: 다리, 나리, 오후\")\n",
        "display(Audio(\"E-audio.mp3\"))\n",
        "\n",
        "text4 = tlist[3]\n",
        "etts(text4)\n",
        "print(\"point 3: our course focuses on...\")\n",
        "display(Audio(\"E-audio.mp3\"))\n",
        "\n",
        "text5 = tlist[4]\n",
        "etts(text5)\n",
        "print(\"point 4: learn IPA?\")\n",
        "display(Audio(\"E-audio.mp3\"))"
      ],
      "metadata": {
        "id": "KCZGtQ_cQQuL",
        "cellView": "form"
      },
      "execution_count": null,
      "outputs": []
    },
    {
      "cell_type": "markdown",
      "source": [
        "# **Basics [2] Symbols (IPA) to present English vowels**\n",
        "\n",
        "Fundamental distinctions in the vowels of English:\n",
        "\n",
        "[List of symbol names](https://martinweisser.org/courses/phonetics/tools/symbolnames.html)"
      ],
      "metadata": {
        "id": "NyNowOpoJ33M"
      }
    },
    {
      "cell_type": "code",
      "source": [
        "#@markdown Install pdf2image\n",
        "# %%capture\n",
        "!apt-get install poppler-utils\n",
        "!pip install pdf2image\n",
        "!pip install pyqrcode\n",
        "\n",
        "\n",
        "#@markdown Read the syllabus\n",
        "# %%capture\n",
        "!wget https://github.com/MK316/Engpro/raw/main/data/EVowels.pdf"
      ],
      "metadata": {
        "id": "iq9pyFsAUcll",
        "cellView": "form"
      },
      "execution_count": null,
      "outputs": []
    },
    {
      "cell_type": "code",
      "source": [
        "#@markdown Read English vowel list (pdf)\n",
        "from pdf2image import convert_from_path, convert_from_bytes\n",
        "from IPython.display import display, Image\n",
        "\n",
        "images = convert_from_bytes(open('EVowels.pdf', 'rb').read(), size=1080)\n",
        "display(images[0])"
      ],
      "metadata": {
        "cellView": "form",
        "id": "PSwbQhQuU9eH"
      },
      "execution_count": null,
      "outputs": []
    },
    {
      "cell_type": "markdown",
      "source": [
        "## Audio to play introducing English vowels"
      ],
      "metadata": {
        "id": "RBIMGFtRV4Kr"
      }
    },
    {
      "cell_type": "code",
      "source": [
        "# Make sure you have ffmpeg installed\n",
        "!apt install ffmpeg"
      ],
      "metadata": {
        "id": "SAglQR8Mhc3Y"
      },
      "execution_count": null,
      "outputs": []
    },
    {
      "cell_type": "code",
      "source": [
        "# Import the libraries.\n",
        "from IPython.display import Audio\n",
        "from gtts import gTTS\n",
        "from pydub import AudioSegment\n",
        "import io\n",
        "\n",
        "Vowels = \"3. [\\u025B]\" #@param = [\"1. [i]\", \"2. [ɪ]\", \"3. [ɛ]\", \"4. [æ]\", \"5. [ɑ]\", \"6. [u]\", \"7. [ʊ]\", \"8. [ʌ]\", \"9. [ɔ]\", \"10. [ə]\"]\n",
        "n = Vowels.split(\".\")[0]\n",
        "id = int(n) - 1\n",
        "\n",
        "# The text for the introduction and word lists.\n",
        "intro = [\n",
        "\"Number 1. The symbol is a lower case 'Eye'. And you can call this 'tense ee'. \",\n",
        "\"Number 2. This symbol is a capital 'Eye'. And you can call this 'lax ee'.\",\n",
        "\"Number 3. This symbol is called 'epsilon'.\",\n",
        "\"Number 4. This symbol is called 'ash'.\",\n",
        "\"Number 5. This is a big A and pronounced as 'ah'.\",\n",
        "\"Number 6. This symbol is a lower case 'woo', and you can call this 'tense woo'.\",\n",
        "\"Number 7. This symbol looks like a capital 'U' and is called 'upsilon'. We will call this 'lax woo'.\",\n",
        "\"Number 8. This symbol looks like a turned 'v'. It is called 'wedge', 'caret', or turned 'v'. \",\n",
        "\"Number 9. This symbol has an open side on the left. We will call this 'open o'.\",\n",
        "\"Number 10. This is a special and important vowel in English. It is called 'schwa' or 'schwa vowel'. It's a weak and short vowel because there is no stress in this vowel.\"\n",
        "]\n",
        "\n",
        "wlist = [\n",
        "\"seat, beat, heat, need, believe, leave, and scene.\",\n",
        "\"sit, hit, bit, it, bin, begin, give, and live\",\n",
        "\"pet, met, set, pending, send, any, and many\",\n",
        "\"pat, mat, sat, pan, sand, apple, cat, and land\",\n",
        "\"cod, cop, pop, mop, father, option, and olive\",\n",
        "\"pool, fool, noon, moon, cool, food, and news\",\n",
        "\"pull, full, would, should, could, wood, and wool\",\n",
        "\"cut, but, come, love, sun, son, and number\",\n",
        "\"caught, bought, taught, law, straw, off, and saw\",\n",
        "\"ago, again, condition, occur, reason, and happen\"\n",
        "]\n",
        "\n",
        "\n",
        "# Function to create an audio file with silence between texts.\n",
        "def generate_audio_with_silence(text_list, silence_duration=1000):\n",
        "    combined_audio = AudioSegment.silent(duration=0)  # start with an empty AudioSegment\n",
        "\n",
        "    for text in text_list:\n",
        "        # Generate speech\n",
        "        tts = gTTS(text=text, lang='en')\n",
        "        fp = io.BytesIO()\n",
        "        tts.write_to_fp(fp)\n",
        "        # Move to the start of the BytesIO object\n",
        "        fp.seek(0)\n",
        "        audio = AudioSegment.from_file(fp, format=\"mp3\")\n",
        "\n",
        "        # Add audio and silence to the combined audio\n",
        "        combined_audio += audio + AudioSegment.silent(duration=silence_duration)\n",
        "\n",
        "    # Export combined audio\n",
        "    combined_audio.export(\"/content/combined_audio.mp3\", format=\"mp3\")\n",
        "    return Audio(\"/content/combined_audio.mp3\", autoplay=False)\n",
        "\n",
        "# Example usage of the function.\n",
        "text1 = intro[id]\n",
        "text2 = \"Here's an example word list for this vowel.\"\n",
        "text3 = wlist[id]\n",
        "generate_audio_with_silence([text1, text2, text3])\n"
      ],
      "metadata": {
        "cellView": "form",
        "id": "FDPqYe2hj7hJ"
      },
      "execution_count": null,
      "outputs": []
    },
    {
      "cell_type": "code",
      "source": [
        "#@markdown **Different pronunciation** between AmE and BrE\n",
        "from gtts import gTTS\n",
        "from IPython.display import Audio\n",
        "\n",
        "Words = \"1. daughter\" #@param = [\"1. daughter\",\"2. coffee\",\"3. law\",\"4. house\", \"5. Carribean\"]\n",
        "words = Words.split(\".\")\n",
        "text = words[1]\n",
        "\n",
        "# Function to synthesize text to speech in both American and British dialects\n",
        "def synthesize_dialects(text):\n",
        "    # Synthesize American English\n",
        "    tts_us = gTTS(text=text, lang='en', tld='us')\n",
        "    tts_us.save(\"/content/caribbean_us.mp3\")\n",
        "\n",
        "    # Synthesize British English\n",
        "    tts_uk = gTTS(text=text, lang='en', tld='co.uk')\n",
        "    tts_uk.save(\"/content/caribbean_uk.mp3\")\n",
        "\n",
        "    return Audio(\"/content/caribbean_us.mp3\"), Audio(\"/content/caribbean_uk.mp3\")\n",
        "\n",
        "# Generate the word 'caribbean' in both American and British English\n",
        "american_audio, british_audio = synthesize_dialects(text)\n",
        "\n",
        "# Display audio players for both dialects\n",
        "print(\"American accent\")\n",
        "display(american_audio)\n",
        "print(\"British accent\")\n",
        "display(british_audio)\n"
      ],
      "metadata": {
        "cellView": "form",
        "id": "hpGWzVProKMH"
      },
      "execution_count": null,
      "outputs": []
    },
    {
      "cell_type": "markdown",
      "source": [
        "# **Basics [3] IPA for English consonants**"
      ],
      "metadata": {
        "id": "PZmCfOQljtR8"
      }
    },
    {
      "cell_type": "code",
      "source": [
        "#@markdown Read English Consonant list (pdf)\n",
        "from pdf2image import convert_from_path, convert_from_bytes\n",
        "from IPython.display import display, Image\n",
        "!wget https://github.com/MK316/Engpro/raw/main/data/EConsonants.pdf\n",
        "\n",
        "images = convert_from_bytes(open('EConsonants.pdf', 'rb').read(), size=1080)\n",
        "display(images[0])"
      ],
      "metadata": {
        "cellView": "form",
        "id": "rmXkD8-SVGI9"
      },
      "execution_count": null,
      "outputs": []
    },
    {
      "cell_type": "code",
      "source": [
        "# Import the libraries.\n",
        "from IPython.display import Audio\n",
        "from gtts import gTTS\n",
        "from pydub import AudioSegment\n",
        "import io\n",
        "\n",
        "Consonants = \"14. [\\u0294]\" #@param = [\"1. [s]\", \"2. [z]\", \"3. [ʃ]\", \"4. [ʒ]\", \"5. [tʃ]\", \"6. [dʒ]\", \"7. [f]\", \"8. [v]\", \"9. [θ]\", \"10. [ð]\",\"11. [r]\", \"12. [l]\", \"13. [ɾ]\", \"14. [ʔ]\"]\n",
        "n = Consonants.split(\".\")[0]\n",
        "\n",
        "id = int(n) - 1\n",
        "\n",
        "# The text for the introduction and word lists.\n",
        "intro = [\"Number 1. This sound is made with tongue tip close to the alveolar ridge.\",\n",
        "\"Number 2. This sound is made with tongue tip close to the alveolar ridge. There is voicing in the vocal folds.\",\n",
        "\"Number 3. This symbol can be called 'long S'.\",\n",
        "\"Number 4. The name of this letter is 'jogh'. There is voicing in the vocal folds.\",\n",
        "\"Number 5. This is an affricate and pronounced as one sound.\",\n",
        "\"Number 6. This is an affricate and pronounced as one sound. There is voicing in the vocal folds.\",\n",
        "\"Number 7. This is a voiceless sound.\",\n",
        "\"Number 8. There is voicing in the vocal folds while making this sound.\",\n",
        "\"Number 9. This symbol is named 'theta', which is a Greek letter. \",\n",
        "\"Number 10. This symbol is named 'eth', which is a Greek letter. There is voicing in the vocal folds.\",\n",
        "\"Number 11. \",\n",
        "\"Number 12. \",\n",
        "\"Number 13. This is called tap or flap. There is voicing in the vocal folds.\",\n",
        "\"Number 14. This is a glottal stop. This sound is found in fast speech or conversational speech.\"\n",
        "]\n",
        "\n",
        "print(intro[id])\n",
        "\n",
        "wlist =[\n",
        "    \"sit, basket, kiss, base, cease, basic, boss, fakes, and spokesman\",\n",
        "    \"zoo, busy, buzz, phase, amaze, zero, rose, and salesman\",\n",
        "    \"shoe, nation, wish, fish, cash, and finish\",\n",
        "    \"rouge, vision, measure, pleasure, leisure, and asia\",\n",
        "    \"chair, witch, which, catch, match, children, and China\",\n",
        "    \"jaw, magic, age, badge, message, judge, and Jane\",\n",
        "    \"fun, fine, office, leaf, if, and half\",\n",
        "    \"van, vine, very, leave, have, and of\",\n",
        "    \"think, thing, bathtub, mouth, month, health, and wealth\",\n",
        "    \"the, father, smooth, bathe, clothe, there, and worthy\",\n",
        "    \"right, rate, rice, already, word, park, car, bar, here, girl, and word\",\n",
        "    \"light, late, lice, alright, feel, cool, tall, mall, milk, film, and world\",\n",
        "    \"better, cutter, butter, water, writer, rider, leader, and meter\",\n",
        "    \"A tap is pronounced instead of a glottal stop in the following words because this is careful speech. Notice a tap: kitten, bitten, beaten, mountain, captain, Manhattan, and Jordan. When a word starts with a vowel, you find this glottal stop. For example, east, easy, apple, and ask\",\n",
        "]\n",
        "\n",
        "print(wlist[id])\n",
        "# Function to create an audio file with silence between texts.\n",
        "def generate_audio_with_silence(text_list, silence_duration=1000):\n",
        "    combined_audio = AudioSegment.silent(duration=0)  # start with an empty AudioSegment\n",
        "\n",
        "    for text in text_list:\n",
        "        # Generate speech\n",
        "        tts = gTTS(text=text, lang='en')\n",
        "        fp = io.BytesIO()\n",
        "        tts.write_to_fp(fp)\n",
        "        # Move to the start of the BytesIO object\n",
        "        fp.seek(0)\n",
        "        audio = AudioSegment.from_file(fp, format=\"mp3\")\n",
        "\n",
        "        # Add audio and silence to the combined audio\n",
        "        combined_audio += audio + AudioSegment.silent(duration=silence_duration)\n",
        "\n",
        "    # Export combined audio\n",
        "    combined_audio.export(\"/content/C_audio.mp3\", format=\"mp3\")\n",
        "    return Audio(\"/content/C_audio.mp3\", autoplay=False)\n",
        "\n",
        "# Example usage of the function.\n",
        "text1 = intro[id]\n",
        "text2 = \"Here's a list of example words for this consonant.\"\n",
        "text3 = wlist[id]\n",
        "generate_audio_with_silence([text1, text2, text3])\n"
      ],
      "metadata": {
        "cellView": "form",
        "id": "0r16zKYFt6v-"
      },
      "execution_count": null,
      "outputs": []
    },
    {
      "cell_type": "markdown",
      "source": [
        "# **Basics [4]. Dictionaries for pronunciation**"
      ],
      "metadata": {
        "id": "7S3SaV2O_ti2"
      }
    },
    {
      "cell_type": "markdown",
      "source": [
        "+ \"If you don't have someone who can help you with English word pronunciation in person, you’ll need a reference. Most dictionaries include some basic information on how to pronounce words. However, dictionary pronunciations may not always reflect the actual pronunciation you hear in everyday life. This discrepancy occurs because sound sequences are often influenced by neighboring sounds and the phonological contexts. It's important to understand the pronunciation guide in a dictionary is just a guide, based on certain assumptions:\",\n",
        "+ \"Number 1. The symbols in a dictionary represent one possible pronunciation when words are pronounced in isolation (also known as the citation form or emphasized form). For this reason, some dictionaries may present more than one pronunciation form, including variations that account for dialectal differences.\",\n",
        "+ \"The indefinite article can be pronounced as 'A' when you speak it alone. But it is pronounced weakly as in 'a book'. Or, 'The man is my uncle.' \",\n",
        "+ \"Number 2. You will learn when and how individual sounds are subject to change according to the English sound rules. For example, the 't' in 'water' and 'button' can be transcribed with 't' for both. But they can be pronounced as a tap or a glottal stop in fast speech. \",\n",
        "+ \"For example, /t/ may be become a different sound in AE when /t/ is located between two vowels, the second of which is unstressed. butter, cutter, heater, beater, Peter, meter, better, letter, creator, and waitor\""
      ],
      "metadata": {
        "id": "TECANdQW8Mpl"
      }
    },
    {
      "cell_type": "code",
      "source": [
        "#@markdown Basics 4 [p.19]\n",
        "\n",
        "Description = \"1\" #@param = [1, 2, 3, 4, 5]\n",
        "id = int(Description) - 1\n",
        "\n",
        "desc = [\n",
        "\"If you don't have someone who can help you with English word pronunciation in person, you’ll need a reference. Most dictionaries include some basic information on how to pronounce words. However, dictionary pronunciations may not always reflect the actual pronunciation you hear in everyday life. This discrepancy occurs because sound sequences are often influenced by neighboring sounds and the phonological contexts. It's important to understand the pronunciation guide in a dictionary is just a guide, based on certain assumptions:\",\n",
        "\"Number 1. The symbols in a dictionary represent one possible pronunciation when words are pronounced in isolation (also known as the citation form or emphasized form). For this reason, some dictionaries may present more than one pronunciation form, including variations that account for dialectal differences.\",\n",
        "\"The indefinite article can be pronounced as 'A' when you speak it alone. But it is pronounced weakly as in 'a book'. Or, 'The man is my uncle.' \",\n",
        "\"Number 2. You will learn when and how individual sounds are subject to change according to the English sound rules. For example, the 't' in 'water' and 'button' can be transcribed with 't' for both. But they can be pronounced as a tap or a glottal stop in fast speech. \",\n",
        "\"For example, /t/ may be become a different sound in AE when /t/ is located between two vowels, the second of which is unstressed. butter, cutter, heater, beater, Peter, meter, better, letter, creator, and waitor\"\n",
        "]\n",
        "\n",
        "text = desc[id]\n",
        "etts(text)\n",
        "print(text)\n",
        "print(\"*\"*30)\n",
        "Audio('E-audio.mp3')\n"
      ],
      "metadata": {
        "cellView": "form",
        "id": "wiVI5CQat6g7"
      },
      "execution_count": null,
      "outputs": []
    },
    {
      "cell_type": "markdown",
      "source": [
        "# ⛳ **Exercise [p.20] More examples of dictionary pronunciation**"
      ],
      "metadata": {
        "id": "RS_KVhXaJ7Kd"
      }
    },
    {
      "cell_type": "code",
      "source": [
        "# Guess the word from the given sound symbols\n",
        "n = \"17\" #@param = [1,2,3,4,5,6,7,8,9,10,11,12,13,14,15, 16, 17, 18]\n",
        "id = int(n) - 1\n",
        "wlist = [\"variety\", \"advantage\",\"shadow\",\"perfectionism\",\"K-pop\",\"monitor\",\"gigantic\",\"perjury\", \"plagiarism\",\"electronic\",\"manufacture\",\"bronze\",\"philosophy\",\"rational\",\"congratulation\", \"button\",\"Poseidon\",\"theatre\"]\n",
        "\n",
        "text = wlist[id]\n",
        "\n",
        "# Function to create an audio file with silence between texts.\n",
        "def generate_audio_with_silence(text_list, silence_duration=1000):\n",
        "    combined_audio = AudioSegment.silent(duration=0)  # start with an empty AudioSegment\n",
        "\n",
        "    for text in text_list:\n",
        "        # Generate speech\n",
        "        tts = gTTS(text=text, lang='en')\n",
        "        fp = io.BytesIO()\n",
        "        tts.write_to_fp(fp)\n",
        "        # Move to the start of the BytesIO object\n",
        "        fp.seek(0)\n",
        "        audio = AudioSegment.from_file(fp, format=\"mp3\")\n",
        "\n",
        "        # Add audio and silence to the combined audio\n",
        "        combined_audio += audio + AudioSegment.silent(duration=silence_duration)\n",
        "\n",
        "    # Export combined audio\n",
        "    combined_audio.export(\"/content/C_audio.mp3\", format=\"mp3\")\n",
        "    return Audio(\"/content/C_audio.mp3\", autoplay=False)\n",
        "\n",
        "# Example usage of the function.\n",
        "text1 = text\n",
        "text2 = text\n",
        "text3 = text\n",
        "generate_audio_with_silence([text1, text2, text3])"
      ],
      "metadata": {
        "cellView": "form",
        "id": "haSXfJOGD5N2"
      },
      "execution_count": null,
      "outputs": []
    },
    {
      "cell_type": "markdown",
      "source": [
        "---\n",
        "This is the end of Part I. (p.20)"
      ],
      "metadata": {
        "id": "gy6-8j-uHFaM"
      }
    }
  ]
}