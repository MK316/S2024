{
  "nbformat": 4,
  "nbformat_minor": 0,
  "metadata": {
    "colab": {
      "private_outputs": true,
      "provenance": [],
      "authorship_tag": "ABX9TyNkI2jlnKbA9R+D7KLzive6",
      "include_colab_link": true
    },
    "kernelspec": {
      "name": "python3",
      "display_name": "Python 3"
    },
    "language_info": {
      "name": "python"
    }
  },
  "cells": [
    {
      "cell_type": "markdown",
      "metadata": {
        "id": "view-in-github",
        "colab_type": "text"
      },
      "source": [
        "<a href=\"https://colab.research.google.com/github/MK316/Spring2024/blob/main/Engpro/S24-Engpro-Midterm.ipynb\" target=\"_parent\"><img src=\"https://colab.research.google.com/assets/colab-badge.svg\" alt=\"Open In Colab\"/></a>"
      ]
    },
    {
      "cell_type": "markdown",
      "source": [
        "# 💦 S24 Engpro Midterm grade check [0507]"
      ],
      "metadata": {
        "id": "A1VTXsJBBLqU"
      }
    },
    {
      "cell_type": "code",
      "source": [
        "# Step 1: Mount Google Drive\n",
        "from google.colab import drive\n",
        "drive.mount('/content/drive')"
      ],
      "metadata": {
        "id": "fgSCje2O93lP"
      },
      "execution_count": null,
      "outputs": []
    },
    {
      "cell_type": "code",
      "source": [
        "%%capture\n",
        "!pip install gradio\n",
        "# !pip uninstall spacy weasel -y"
      ],
      "metadata": {
        "id": "JT_p7lHl-J46"
      },
      "execution_count": null,
      "outputs": []
    },
    {
      "cell_type": "code",
      "execution_count": null,
      "metadata": {
        "id": "_Y2FEWxb91rf"
      },
      "outputs": [],
      "source": [
        "# Step 2: Read the CSV file\n",
        "import pandas as pd\n",
        "\n",
        "# Update the path below to the location of your CSV file on Google Drive\n",
        "file_path = '/content/drive/My Drive/EngproS24/Engpro24-midterm.csv'\n",
        "data = pd.read_csv(file_path)\n",
        "\n",
        "# Convert SID to string and strip any whitespace\n",
        "data['SID'] = data['SID'].astype(str).str.strip()\n",
        "\n",
        "# Step 3: Create a Gradio app\n",
        "import gradio as gr\n",
        "\n",
        "def check_sid(sid):\n",
        "    if sid in data['SID'].values:\n",
        "        student_data = data[data['SID'] == sid]\n",
        "        namecheck = student_data['Name'].values[0]\n",
        "        student_id = student_data['SID'].values[0]\n",
        "        total = student_data['Score'].values[0]\n",
        "        return namecheck, student_id, total\n",
        "    else:\n",
        "        return \"Not found\", \"Not found\", \"Not found\"\n",
        "\n",
        "iface = gr.Interface(fn=check_sid,\n",
        "                     inputs=gr.Textbox(label=\"Enter Student ID (SID)\"),\n",
        "                     outputs=[gr.Textbox(label=\"Name\"),\n",
        "                              gr.Textbox(label=\"Student ID to confirm\"),\n",
        "                              gr.Textbox(label=\"Total (out of 210); Average = 138\")],\n",
        "                     title=\"Engpro S24 Midterm Performance Lookup\")\n",
        "\n",
        "iface.launch()\n"
      ]
    }
  ]
}