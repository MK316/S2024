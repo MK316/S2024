{
  "nbformat": 4,
  "nbformat_minor": 0,
  "metadata": {
    "colab": {
      "private_outputs": true,
      "provenance": [],
      "authorship_tag": "ABX9TyNZOhk5ARF7GnTuYfGY8pCf",
      "include_colab_link": true
    },
    "kernelspec": {
      "name": "python3",
      "display_name": "Python 3"
    },
    "language_info": {
      "name": "python"
    }
  },
  "cells": [
    {
      "cell_type": "markdown",
      "metadata": {
        "id": "view-in-github",
        "colab_type": "text"
      },
      "source": [
        "<a href=\"https://colab.research.google.com/github/MK316/Spring2024/blob/main/Engpro/Engpro_comments.ipynb\" target=\"_parent\"><img src=\"https://colab.research.google.com/assets/colab-badge.svg\" alt=\"Open In Colab\"/></a>"
      ]
    },
    {
      "cell_type": "markdown",
      "source": [
        "# Engpro comments review"
      ],
      "metadata": {
        "id": "qw-UJVCnUEPE"
      }
    },
    {
      "cell_type": "code",
      "source": [
        "!pip install matplotlib wordcloud"
      ],
      "metadata": {
        "id": "LL02lyFuUDmp"
      },
      "execution_count": null,
      "outputs": []
    },
    {
      "cell_type": "code",
      "execution_count": null,
      "metadata": {
        "id": "xJCE2VF_VsLV"
      },
      "outputs": [],
      "source": [
        "import pandas as pd\n",
        "url = \"https://raw.githubusercontent.com/MK316/Spring2024/main/Engpro/data/Inclass_comments.csv\"\n",
        "df = pd.read_csv(url, encoding=\"utf-8-sig\")\n",
        "df.head()"
      ]
    },
    {
      "cell_type": "code",
      "source": [
        "import numpy as np\n",
        "\n",
        "# Assuming 'df' is your dataframe\n",
        "df.fillna('Nothing', inplace=True)\n",
        "df.head()"
      ],
      "metadata": {
        "id": "ovOvNyakWMFw"
      },
      "execution_count": null,
      "outputs": []
    },
    {
      "cell_type": "code",
      "source": [
        "# Melt the DataFrame to long format\n",
        "df_long = df.melt(id_vars=['Timestamp'], value_vars=['G1', 'G2', 'G3', 'G4', 'G5', 'G6'], var_name='Group', value_name='Comment')\n",
        "\n",
        "# Filter out 'Nothing'\n",
        "df_filtered = df_long[df_long['Comment'] != 'Nothing']\n",
        "\n",
        "# Group by 'Timestamp' and 'Group', and collect 'Comment'\n",
        "grouped_comments = df_filtered.groupby(['Timestamp', 'Group'])['Comment'].apply(list).reset_index()\n",
        "\n",
        "# Print results\n",
        "print(grouped_comments)\n",
        "grouped_comments.to_csv(\"allcomments.csv\", encoding=\"utf-8-sig\")"
      ],
      "metadata": {
        "id": "LxbDa69WW3q0"
      },
      "execution_count": null,
      "outputs": []
    },
    {
      "cell_type": "code",
      "source": [
        "# Print the result\n",
        "g1_comments.dtypes()"
      ],
      "metadata": {
        "id": "aziCTHbjVih_"
      },
      "execution_count": null,
      "outputs": []
    },
    {
      "cell_type": "code",
      "source": [
        "# Assuming 'grouped_comments' is already defined from the previous code\n",
        "\n",
        "# Filter for group 'G1' only\n",
        "group = input()\n",
        "g1_comments = grouped_comments[grouped_comments['Group'] == group]\n",
        "\n",
        "# Print the result\n",
        "g1_comments.to_csv(\"comments.csv\", encoding='utf-8-sig')\n",
        "\n",
        "import pandas as pd\n",
        "\n",
        "# Assuming you have already loaded your DataFrame as 'df'\n",
        "\n",
        "# Set the option to display all rows\n",
        "pd.set_option('display.max_rows', None)\n",
        "\n",
        "# Print the DataFrame\n",
        "g1_comments['Comment']\n"
      ],
      "metadata": {
        "id": "0GGlDGYJXIvN"
      },
      "execution_count": null,
      "outputs": []
    },
    {
      "cell_type": "code",
      "source": [],
      "metadata": {
        "id": "t9qWOOrAV3XH"
      },
      "execution_count": null,
      "outputs": []
    },
    {
      "cell_type": "code",
      "source": [],
      "metadata": {
        "id": "Y6etWanYV3BQ"
      },
      "execution_count": null,
      "outputs": []
    },
    {
      "cell_type": "code",
      "source": [],
      "metadata": {
        "id": "a80aeGDGVOMQ"
      },
      "execution_count": null,
      "outputs": []
    },
    {
      "cell_type": "code",
      "source": [
        "!pip install matplotlib wordcloud"
      ],
      "metadata": {
        "id": "6fRTylW2XZlR"
      },
      "execution_count": null,
      "outputs": []
    },
    {
      "cell_type": "code",
      "source": [
        "df_filtered['Comment']\n",
        "df_filtered.dtypes\n",
        "# Check first few entries of the comments to see what's in there\n",
        "df_filtered['Comment'].head()\n"
      ],
      "metadata": {
        "id": "0wkoGQvkpvX-"
      },
      "execution_count": null,
      "outputs": []
    },
    {
      "cell_type": "code",
      "source": [
        "import pandas as pd\n",
        "from wordcloud import WordCloud\n",
        "import matplotlib.pyplot as plt\n",
        "\n",
        "# Assuming df_filtered is your DataFrame and already loaded\n",
        "\n",
        "# Combine all comments into a single string, checking for enough content\n",
        "all_comments = \" \".join(comment for comment in df_filtered['Comment'] if isinstance(comment, str))\n",
        "print(\"Combined comments content (sample):\", all_comments[:100])  # Print first 100 characters to check\n",
        "\n",
        "# Function to generate a word cloud\n",
        "def generate_wordcloud(text, title):\n",
        "    if text.strip():  # Check if the text is not just whitespace\n",
        "        # Path to a font that supports Korean characters\n",
        "        font_path = '/usr/share/fonts/truetype/nanum/NanumBarunGothic.ttf'  # Adjust based on your system\n",
        "        wordcloud = WordCloud(width=800, height=400, background_color='white', font_path=font_path, regexp=r\"[\\w']+\").generate(text)\n",
        "        plt.figure(figsize=(10, 5))\n",
        "        plt.imshow(wordcloud, interpolation='bilinear')\n",
        "        plt.axis('off')\n",
        "        plt.title(title)\n",
        "        plt.show()\n",
        "    else:\n",
        "        print(f\"No valid words to generate word cloud for: {title}\")\n",
        "\n",
        "# Generate word cloud for all comments\n",
        "generate_wordcloud(all_comments, 'Word Cloud for All Comments')\n"
      ],
      "metadata": {
        "id": "wQSi3wmQpO7G"
      },
      "execution_count": null,
      "outputs": []
    }
  ]
}