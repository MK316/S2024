{
  "nbformat": 4,
  "nbformat_minor": 0,
  "metadata": {
    "colab": {
      "private_outputs": true,
      "provenance": [],
      "authorship_tag": "ABX9TyNgMAItn1kGYArLI9HEmqU+",
      "include_colab_link": true
    },
    "kernelspec": {
      "name": "python3",
      "display_name": "Python 3"
    },
    "language_info": {
      "name": "python"
    }
  },
  "cells": [
    {
      "cell_type": "markdown",
      "metadata": {
        "id": "view-in-github",
        "colab_type": "text"
      },
      "source": [
        "<a href=\"https://colab.research.google.com/github/MK316/Spring2024/blob/main/Engpro/Engpro24_Mid2nd.ipynb\" target=\"_parent\"><img src=\"https://colab.research.google.com/assets/colab-badge.svg\" alt=\"Open In Colab\"/></a>"
      ]
    },
    {
      "cell_type": "code",
      "execution_count": null,
      "metadata": {
        "id": "1XgXLInSCH7q"
      },
      "outputs": [],
      "source": [
        "%%capture\n",
        "!pip install gradio matplotlib"
      ]
    },
    {
      "cell_type": "code",
      "source": [
        "import pandas as pd"
      ],
      "metadata": {
        "id": "Gkp7-YwdD08l"
      },
      "execution_count": null,
      "outputs": []
    },
    {
      "cell_type": "code",
      "source": [
        "from google.colab import drive\n",
        "drive.mount('/content/drive')\n"
      ],
      "metadata": {
        "id": "fwsrMsuLD4tb"
      },
      "execution_count": null,
      "outputs": []
    },
    {
      "cell_type": "code",
      "source": [
        "df = pd.read_csv('/content/drive/My Drive/EngproS24/Engpro24MT.csv', encoding=\"utf-8-sig\")\n",
        "df.head()"
      ],
      "metadata": {
        "id": "_UYa7N_iEXpL"
      },
      "execution_count": null,
      "outputs": []
    },
    {
      "cell_type": "code",
      "source": [
        "print(df.columns)"
      ],
      "metadata": {
        "id": "44sOSVitEtm3"
      },
      "execution_count": null,
      "outputs": []
    },
    {
      "cell_type": "code",
      "source": [
        "# Pivot the table\n",
        "pivot_df = df.pivot_table(index='Email', columns='Test', values='Score')\n",
        "print(pivot_df.head())\n"
      ],
      "metadata": {
        "id": "ZO6vpqrkFwSa"
      },
      "execution_count": null,
      "outputs": []
    },
    {
      "cell_type": "code",
      "source": [
        "# Score Mean (1st vs. 2nd)\n",
        "df.groupby('Test')['Score'].mean()"
      ],
      "metadata": {
        "id": "KFqhTicbGC9g"
      },
      "execution_count": null,
      "outputs": []
    },
    {
      "cell_type": "markdown",
      "source": [
        "Boxplots: 1st vs. 2nd"
      ],
      "metadata": {
        "id": "tkyi8c3NGe3j"
      }
    },
    {
      "cell_type": "code",
      "source": [
        "import matplotlib.pyplot as plt\n",
        "\n",
        "# Creating a boxplot of scores grouped by the 'Test' category\n",
        "df.boxplot(by='Test', column='Score', grid=True)\n",
        "\n",
        "# Adding titles and labels\n",
        "plt.title('Boxplot of Scores by Test Type')\n",
        "plt.suptitle('')  # Suppress the default title to clean up the plot\n",
        "plt.xlabel('Test')\n",
        "plt.ylabel('Score')\n",
        "\n",
        "# Show the plot\n",
        "plt.show()\n"
      ],
      "metadata": {
        "id": "_cichvFRGK0I"
      },
      "execution_count": null,
      "outputs": []
    },
    {
      "cell_type": "code",
      "source": [
        "import pandas as pd\n",
        "import matplotlib.pyplot as plt\n",
        "\n",
        "\n",
        "# Step 1: Select rows by 'Test' and create two separate dataframes\n",
        "df1 = df[df['Test'] == '1st']\n",
        "df2 = df[df['Test'] == '2nd']\n",
        "\n",
        "# Step 2: Sort df1 by 'Score' in decreasing order\n",
        "df1_sorted = df1.sort_values(by='Score', ascending=False)\n",
        "\n",
        "# Step 3: Get the name order from the sorted df1\n",
        "name_order = df1_sorted['Name'].tolist()\n",
        "\n",
        "# Step 4: Reorder df2 to match the name order of df1\n",
        "df2_ordered = df2.set_index('Name').loc[name_order].reset_index()\n",
        "\n",
        "# Plotting\n",
        "plt.figure(figsize=(10, 6))\n",
        "\n",
        "# Step 5: Plot df1 scores\n",
        "plt.scatter(df1_sorted['Name'], df1_sorted['Score'], color='blue', label='1st Test')\n",
        "\n",
        "# Step 6: Plot df2 scores using the same order\n",
        "plt.scatter(df2_ordered['Name'], df2_ordered['Score'], color='red', label='2nd Test')\n",
        "\n",
        "# Formatting the plot\n",
        "plt.xlabel('Name')\n",
        "plt.ylabel('Score')\n",
        "plt.title('Scores by Name and Test')\n",
        "plt.ylim(0,210)\n",
        "plt.xticks(rotation=45)  # Rotate the x-axis labels for better readability\n",
        "plt.grid(True)\n",
        "plt.legend()\n",
        "\n",
        "plt.show()\n"
      ],
      "metadata": {
        "id": "p8-GpTzKHLkk"
      },
      "execution_count": null,
      "outputs": []
    },
    {
      "cell_type": "markdown",
      "source": [
        "# Score to check"
      ],
      "metadata": {
        "id": "iYAhQZBDJ98b"
      }
    },
    {
      "cell_type": "code",
      "source": [
        "# Create a pivot table to organize scores\n",
        "pivot_df = df.pivot(index='Email', columns='Test', values='Score').reset_index()\n",
        "pivot_df.columns.name = None  # remove the categorization name\n",
        "\n",
        "# Merge this pivot table with the main df to add SID and Name (assuming SID and Name are constant per Email)\n",
        "info_df = df[['Email', 'SID', 'Name']].drop_duplicates()\n",
        "final_df = pd.merge(info_df, pivot_df, on='Email')\n",
        "\n",
        "import gradio as gr\n",
        "\n",
        "def check_scores(email):\n",
        "    if email in final_df['Email'].values:\n",
        "        user_data = final_df[final_df['Email'] == email].iloc[0]\n",
        "        return str(user_data['SID']), user_data['Name'], str(user_data['1st']), str(user_data['2nd'])\n",
        "    else:\n",
        "        return \"No SID found\", \"No name found\", \"No score for 1st Test\", \"No score for 2nd Test\"\n",
        "\n",
        "iface = gr.Interface(\n",
        "    fn=check_scores,\n",
        "    inputs=gr.Textbox(label=\"Enter Your Email\"),\n",
        "    outputs=[\n",
        "        gr.Textbox(label=\"SID\"),\n",
        "        gr.Textbox(label=\"Name\"),\n",
        "        gr.Textbox(label=\"1st Test Score\"),\n",
        "        gr.Textbox(label=\"2nd Test Score\")\n",
        "    ],\n",
        "    title=\"Check Your Test Scores\",\n",
        "    description=\"Enter your email to retrieve your SID, Name, and Test Scores for the 1st and 2nd tests.\"\n",
        ")\n",
        "\n",
        "iface.launch(debug=True)\n"
      ],
      "metadata": {
        "id": "oTDwQpP0KjFt"
      },
      "execution_count": null,
      "outputs": []
    }
  ]
}