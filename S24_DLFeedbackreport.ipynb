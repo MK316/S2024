{
  "nbformat": 4,
  "nbformat_minor": 0,
  "metadata": {
    "colab": {
      "private_outputs": true,
      "provenance": [],
      "authorship_tag": "ABX9TyOOfdqCa96ZxculCjDMOUdG",
      "include_colab_link": true
    },
    "kernelspec": {
      "name": "python3",
      "display_name": "Python 3"
    },
    "language_info": {
      "name": "python"
    }
  },
  "cells": [
    {
      "cell_type": "markdown",
      "metadata": {
        "id": "view-in-github",
        "colab_type": "text"
      },
      "source": [
        "<a href=\"https://colab.research.google.com/github/MK316/Spring2024/blob/main/S24_DLFeedbackreport.ipynb\" target=\"_parent\"><img src=\"https://colab.research.google.com/assets/colab-badge.svg\" alt=\"Open In Colab\"/></a>"
      ]
    },
    {
      "cell_type": "markdown",
      "source": [
        "# Final project feedback (Spring 24l 0619~0620)"
      ],
      "metadata": {
        "id": "Gkyk8gwxf1Ij"
      }
    },
    {
      "cell_type": "code",
      "execution_count": null,
      "metadata": {
        "id": "vbVOPp5Y8lcP"
      },
      "outputs": [],
      "source": [
        "url = \"https://raw.githubusercontent.com/MK316/Spring2024/main/DLTESOL/project/S24-TESOL-PEV.csv\""
      ]
    },
    {
      "cell_type": "code",
      "source": [
        "import pandas as pd\n",
        "import matplotlib.pyplot as plt\n",
        "import numpy as np\n",
        "\n",
        "# Load data from a URL\n",
        "data = pd.read_csv(url)\n",
        "\n",
        "# Display column names\n",
        "print(\"Column Names:\", data.columns.tolist())\n",
        "\n",
        "# Calculate the mean and standard deviation for each group for each question\n",
        "grouped_data = data.groupby('Group')[['Q1_Alignment', 'Q2_Integration', 'Q3_Engagement', 'Q4_Stimulation',\n",
        "                                      'Q5_Support', 'Q6_Accessibility', 'Q7_Integration', 'Q8_Autonomy',\n",
        "                                      'Q9_Adaptability', 'Q10_Presentation']].agg(['mean', 'std'])\n",
        "\n",
        "# Display the calculated mean and standard deviation\n",
        "print(grouped_data)\n",
        "\n",
        "# Generate bar plots for Q1 to Q10\n",
        "questions = ['Q1_Alignment', 'Q2_Integration', 'Q3_Engagement', 'Q4_Stimulation',\n",
        "             'Q5_Support', 'Q6_Accessibility', 'Q7_Integration', 'Q8_Autonomy',\n",
        "             'Q9_Adaptability', 'Q10_Presentation']\n",
        "\n",
        "# for question in questions:\n",
        "#     plt.figure(figsize=(10, 5))\n",
        "#     means = grouped_data[question]['mean']\n",
        "#     stds = grouped_data[question]['std']\n",
        "#     means.plot(kind='bar', yerr=stds, capsize=4)\n",
        "#     plt.title(f'Mean Scores with SD for {question}')\n",
        "#     plt.xlabel('Group')\n",
        "#     plt.ylabel('Mean Score')\n",
        "#     plt.xticks(rotation=45)  # Rotate labels for better visibility if needed\n",
        "#     plt.tight_layout()\n",
        "#     plt.show()"
      ],
      "metadata": {
        "id": "6cyNa44s9DbB"
      },
      "execution_count": null,
      "outputs": []
    },
    {
      "cell_type": "markdown",
      "source": [
        "# Mean across the questions"
      ],
      "metadata": {
        "id": "90cd6BFLK3cN"
      }
    },
    {
      "cell_type": "code",
      "source": [
        "import pandas as pd\n",
        "import matplotlib.pyplot as plt\n",
        "import numpy as np\n",
        "\n",
        "# Load data from a URL\n",
        "url = \"https://raw.githubusercontent.com/MK316/Spring2024/main/DLTESOL/project/S24-TESOL-PEV.csv\"\n",
        "data = pd.read_csv(url)\n",
        "# Calculate the average score across the 10 questions for each row\n",
        "questions = ['Q1_Alignment', 'Q2_Integration', 'Q3_Engagement', 'Q4_Stimulation',\n",
        "             'Q5_Support', 'Q6_Accessibility', 'Q7_Integration', 'Q8_Autonomy',\n",
        "             'Q9_Adaptability', 'Q10_Presentation']\n",
        "data['Average_Score'] = data[questions].mean(axis=1)\n",
        "\n",
        "# Group by 'Group' and calculate the overall mean and standard deviation of the average scores\n",
        "group_stats = data.groupby('Group')['Average_Score'].agg(['mean', 'std'])\n",
        "\n",
        "# Display the results\n",
        "print(group_stats)"
      ],
      "metadata": {
        "id": "Tk4InfpPKTMn"
      },
      "execution_count": null,
      "outputs": []
    },
    {
      "cell_type": "code",
      "source": [
        "import pandas as pd\n",
        "import matplotlib.pyplot as plt\n",
        "import numpy as np\n",
        "\n",
        "# Load data from a URL\n",
        "url = \"https://raw.githubusercontent.com/MK316/Spring2024/main/DLTESOL/project/S24-TESOL-PEV.csv\"\n",
        "data = pd.read_csv(url)\n",
        "\n",
        "# Calculate the mean and standard deviation for each group for each question\n",
        "grouped_data = data.groupby('Group')[['Q1_Alignment', 'Q2_Integration', 'Q3_Engagement', 'Q4_Stimulation',\n",
        "                                      'Q5_Support', 'Q6_Accessibility', 'Q7_Integration', 'Q8_Autonomy',\n",
        "                                      'Q9_Adaptability', 'Q10_Presentation']].agg(['mean', 'std'])\n",
        "\n",
        "# Plot settings\n",
        "questions = ['Q1_Alignment', 'Q2_Integration', 'Q3_Engagement', 'Q4_Stimulation',\n",
        "             'Q5_Support', 'Q6_Accessibility', 'Q7_Integration', 'Q8_Autonomy',\n",
        "             'Q9_Adaptability', 'Q10_Presentation']\n",
        "\n",
        "# Generate a bar plot for each group\n",
        "groups = grouped_data.index\n",
        "for group in groups:\n",
        "    plt.figure(figsize=(12, 6))\n",
        "    # Accessing the mean and std values directly for plotting\n",
        "    means = grouped_data.loc[group][slice(None), 'mean'].values\n",
        "    stds = grouped_data.loc[group][slice(None), 'std'].values\n",
        "\n",
        "    plt.bar(questions, means, yerr=stds, capsize=4, color='skyblue')\n",
        "    plt.title(f'Group {group} - Mean Scores with SD for Q1 to Q10')\n",
        "    plt.xlabel('Questions')\n",
        "    plt.ylabel('Mean Score')\n",
        "    plt.xticks(rotation=45)  # Rotate labels for better visibility\n",
        "    plt.tight_layout()\n",
        "    plt.show()\n"
      ],
      "metadata": {
        "id": "04wytsCh-qSQ"
      },
      "execution_count": null,
      "outputs": []
    },
    {
      "cell_type": "markdown",
      "source": [
        "# Q1~Q10 by groups"
      ],
      "metadata": {
        "id": "ICGZ-q4TAJSM"
      }
    },
    {
      "cell_type": "code",
      "source": [
        "import pandas as pd\n",
        "import matplotlib.pyplot as plt\n",
        "import numpy as np\n",
        "\n",
        "# Load data from a URL\n",
        "url = \"https://raw.githubusercontent.com/MK316/Spring2024/main/DLTESOL/project/S24-TESOL-PEV.csv\"\n",
        "data = pd.read_csv(url)\n",
        "\n",
        "# Calculate the mean and standard deviation for each group for each question\n",
        "grouped_data = data.groupby('Group')[['Q1_Alignment', 'Q2_Integration', 'Q3_Engagement', 'Q4_Stimulation',\n",
        "                                      'Q5_Support', 'Q6_Accessibility', 'Q7_Integration', 'Q8_Autonomy',\n",
        "                                      'Q9_Adaptability', 'Q10_Presentation']].agg(['mean', 'std'])\n",
        "\n",
        "# Plot settings\n",
        "questions = ['Q1_Alignment', 'Q2_Integration', 'Q3_Engagement', 'Q4_Stimulation',\n",
        "             'Q5_Support', 'Q6_Accessibility', 'Q7_Integration', 'Q8_Autonomy',\n",
        "             'Q9_Adaptability', 'Q10_Presentation']\n",
        "\n",
        "# Generate a bar plot for each group\n",
        "groups = grouped_data.index\n",
        "for group in groups:\n",
        "    plt.figure(figsize=(12, 6))\n",
        "    # Accessing the mean and std values directly for plotting\n",
        "    means = grouped_data.loc[group][slice(None), 'mean'].values\n",
        "    stds = grouped_data.loc[group][slice(None), 'std'].values\n",
        "\n",
        "    # Determine the top three scores\n",
        "    top_three_indices = np.argsort(means)[-3:]  # Get the indices of the top 3 scores\n",
        "\n",
        "    # Define colors; 'skyblue' for most, 'orange' for top three\n",
        "    colors = ['skyblue' if i not in top_three_indices else 'orange' for i in range(len(means))]\n",
        "\n",
        "    plt.bar(questions, means, yerr=stds, capsize=4, color=colors)\n",
        "    plt.title(f'Summary of {group} - Mean Scores with SD for Q1 to Q10')\n",
        "    plt.xlabel('Questions')\n",
        "    plt.ylabel('Mean Score')\n",
        "    plt.xticks(rotation=45)  # Rotate labels for better visibility\n",
        "    plt.tight_layout()\n",
        "    plt.show()\n"
      ],
      "metadata": {
        "id": "hywlXbdYALYC"
      },
      "execution_count": null,
      "outputs": []
    }
  ]
}