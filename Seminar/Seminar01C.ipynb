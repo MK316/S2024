{
  "nbformat": 4,
  "nbformat_minor": 0,
  "metadata": {
    "colab": {
      "private_outputs": true,
      "provenance": [],
      "authorship_tag": "ABX9TyPLUMlCVxx/qqE8l+LAIuZt",
      "include_colab_link": true
    },
    "kernelspec": {
      "name": "python3",
      "display_name": "Python 3"
    },
    "language_info": {
      "name": "python"
    }
  },
  "cells": [
    {
      "cell_type": "markdown",
      "metadata": {
        "id": "view-in-github",
        "colab_type": "text"
      },
      "source": [
        "<a href=\"https://colab.research.google.com/github/MK316/Spring2024/blob/main/Seminar/Seminar01C.ipynb\" target=\"_parent\"><img src=\"https://colab.research.google.com/assets/colab-badge.svg\" alt=\"Open In Colab\"/></a>"
      ]
    },
    {
      "cell_type": "markdown",
      "source": [
        "##😘 **2.3 Real data for practice**"
      ],
      "metadata": {
        "id": "9YO-WyLwDe0G"
      }
    },
    {
      "cell_type": "markdown",
      "source": [
        "* import packages: this is not a complete list, so you need to install and/or import packages when additional packages are used in later codes.\n",
        "* Instruction: for each task, datasets are given. You can run the code and get the data.\n",
        "* Follow 💙 for tasks to do"
      ],
      "metadata": {
        "id": "O6GkmJjsqrPV"
      }
    },
    {
      "cell_type": "code",
      "source": [
        "import numpy as np\n",
        "import pandas as pd\n",
        "from scipy import stats\n",
        "import matplotlib.pyplot as plt"
      ],
      "metadata": {
        "id": "wJy_4auKqeUe"
      },
      "execution_count": null,
      "outputs": []
    },
    {
      "cell_type": "markdown",
      "source": [
        "### 1. Histogram, Density Graph, Normality Test"
      ],
      "metadata": {
        "id": "v5krM29RoJGK"
      }
    },
    {
      "cell_type": "code",
      "execution_count": null,
      "metadata": {
        "id": "g_CbuagVCI4H"
      },
      "outputs": [],
      "source": [
        "import numpy as np\n",
        "\n",
        "# Generate normally distributed heights of 500 individuals\n",
        "heights = np.random.normal(170, 10, 500)  # mean=170cm, std=10cm\n",
        "heights = np.round(heights)\n",
        "\n",
        "data = heights\n",
        "print(data)\n"
      ]
    },
    {
      "cell_type": "markdown",
      "source": [
        "### 💙 With the given data, generate histogram and density graph, and conduct a normality test"
      ],
      "metadata": {
        "id": "vA9M2aWj-paJ"
      }
    },
    {
      "cell_type": "code",
      "source": [],
      "metadata": {
        "id": "7XuKE2sh--KO"
      },
      "execution_count": null,
      "outputs": []
    },
    {
      "cell_type": "markdown",
      "source": [
        "### 2. Box Plot"
      ],
      "metadata": {
        "id": "kovLqFvgoQKs"
      }
    },
    {
      "cell_type": "code",
      "source": [
        "import numpy as np\n",
        "\n",
        "# Exam scores in 4 different subjects for 50 students\n",
        "scores_math = np.random.randint(50, 100, 50)\n",
        "scores_science = np.random.randint(55, 100, 50)\n",
        "scores_history = np.random.randint(40, 100, 50)\n",
        "scores_english = np.random.randint(60, 100, 50)\n",
        "\n",
        "df = pd.DataFrame({\n",
        "    'Math': scores_math,\n",
        "    'Science': scores_science,\n",
        "    'History': scores_history,\n",
        "    'English': scores_english\n",
        "})\n",
        "\n",
        "# Display the DataFrame\n",
        "print(df)"
      ],
      "metadata": {
        "id": "eL1kO-uSoSSV"
      },
      "execution_count": null,
      "outputs": []
    },
    {
      "cell_type": "markdown",
      "source": [
        "### 💙 Generate box plots for each subject, and all together for comparison"
      ],
      "metadata": {
        "id": "ay3qj-i4_nYc"
      }
    },
    {
      "cell_type": "code",
      "source": [],
      "metadata": {
        "id": "zyw1RDNi_w6Q"
      },
      "execution_count": null,
      "outputs": []
    },
    {
      "cell_type": "markdown",
      "source": [
        "### 3. Scatter Plot"
      ],
      "metadata": {
        "id": "-8DkG4xWoUF3"
      }
    },
    {
      "cell_type": "code",
      "source": [
        "import numpy as np\n",
        "\n",
        "# Height and Weight of 100 individuals\n",
        "height = np.random.normal(170, 10, 100)  # Height in cm\n",
        "weight = height * 0.5 + np.random.normal(0, 5, 100)  # Weight in kg\n"
      ],
      "metadata": {
        "id": "Jy0SRMYeoYFk"
      },
      "execution_count": null,
      "outputs": []
    },
    {
      "cell_type": "markdown",
      "source": [
        "### 💙 With the given variables, generate a dataframe 'df' and generate a scatter plot for each."
      ],
      "metadata": {
        "id": "ed5Ez8XJ_yvr"
      }
    },
    {
      "cell_type": "code",
      "source": [],
      "metadata": {
        "id": "owk9WdI5_8Ae"
      },
      "execution_count": null,
      "outputs": []
    },
    {
      "cell_type": "markdown",
      "source": [
        "### 💙 With the given variables, generate a single scatter plot with x = height and y = weight."
      ],
      "metadata": {
        "id": "bfLqkGLG_8bv"
      }
    },
    {
      "cell_type": "code",
      "source": [],
      "metadata": {
        "id": "z7HdNIbzAIeL"
      },
      "execution_count": null,
      "outputs": []
    },
    {
      "cell_type": "markdown",
      "source": [
        "### 4. Bar Plot"
      ],
      "metadata": {
        "id": "fC3e2JkmoZMx"
      }
    },
    {
      "cell_type": "code",
      "source": [
        "import numpy as np\n",
        "\n",
        "# Average monthly sales data for a year\n",
        "months = ['Jan', 'Feb', 'Mar', 'Apr', 'May', 'Jun', 'Jul', 'Aug', 'Sep', 'Oct', 'Nov', 'Dec']\n",
        "sales = np.random.randint(1000, 5000, 12)  # Sales in units\n",
        "\n",
        "# Create a DataFrame with months as the index and sales as the column\n",
        "df1 = pd.DataFrame({\n",
        "    'Sales': sales\n",
        "}, index=months)\n",
        "\n",
        "# Display the DataFrame\n",
        "print(df1)"
      ],
      "metadata": {
        "id": "O81rsFq6obEq"
      },
      "execution_count": null,
      "outputs": []
    },
    {
      "cell_type": "markdown",
      "source": [
        "## 5. Pie Chart"
      ],
      "metadata": {
        "id": "wgDYbYt9ocBG"
      }
    },
    {
      "cell_type": "code",
      "source": [
        "import numpy as np\n",
        "\n",
        "# Market share of 5 companies\n",
        "companies = ['Company A', 'Company B', 'Company C', 'Company D', 'Company E']\n",
        "market_share = np.random.rand(5)\n",
        "market_share /= market_share.sum()\n",
        "\n",
        "# Create a DataFrame with companies as the index and market share as the column\n",
        "df2 = pd.DataFrame({\n",
        "    'Share': market_share\n",
        "}, index=companies)\n",
        "\n",
        "# Display the DataFrame\n",
        "print(df2)\n"
      ],
      "metadata": {
        "id": "b50SLEyQodEC"
      },
      "execution_count": null,
      "outputs": []
    },
    {
      "cell_type": "markdown",
      "source": [
        "### 💙 With the given data (df2), generate a pie chart of the company shares"
      ],
      "metadata": {
        "id": "rXkeizX9BGOj"
      }
    },
    {
      "cell_type": "markdown",
      "source": [
        "In the code below, 'autopct='%1.1f%%' string tells matplotlib to format the numbers as floating point values with one digit after the decimal point. The %% at the end is how you escape a percent sign in a format string, resulting in a literal '%' appearing after the number."
      ],
      "metadata": {
        "id": "1nH31XQYDhGO"
      }
    },
    {
      "cell_type": "code",
      "source": [
        "# Generate a pie chart\n",
        "plt.figure(figsize=(8, 8))  # Set the figure size as needed\n",
        "plt.pie(df2['Share'], labels=df2.index, autopct='%1.1f%%', startangle=90)\n",
        "plt.title('Market Share of Companies')\n",
        "plt.show()"
      ],
      "metadata": {
        "id": "MDvxoAnQBZ7L"
      },
      "execution_count": null,
      "outputs": []
    },
    {
      "cell_type": "markdown",
      "source": [
        "### 6. Line Graph"
      ],
      "metadata": {
        "id": "Qp3_KjQfoeTo"
      }
    },
    {
      "cell_type": "code",
      "source": [
        "import numpy as np\n",
        "\n",
        "# Yearly average temperature for 10 years\n",
        "years = np.arange(2010, 2020)\n",
        "temperature = np.random.uniform(14, 20, len(years))  # Temperature in Celsius\n"
      ],
      "metadata": {
        "id": "17Pgy_Uvog5_"
      },
      "execution_count": null,
      "outputs": []
    },
    {
      "cell_type": "markdown",
      "source": [
        "### 💙 With the variables in the above, generate df2 dataframe, and then generate a line gragh"
      ],
      "metadata": {
        "id": "jQLIKfZ3DDlM"
      }
    },
    {
      "cell_type": "code",
      "source": [],
      "metadata": {
        "id": "jAPJC9bKDQ5a"
      },
      "execution_count": null,
      "outputs": []
    },
    {
      "cell_type": "markdown",
      "source": [
        "### 7. Radar Chart"
      ],
      "metadata": {
        "id": "Z6-mYXekoh4p"
      }
    },
    {
      "cell_type": "code",
      "source": [
        "import numpy as np\n",
        "\n",
        "# Performance metrics for 3 employees in 5 areas\n",
        "labels=np.array(['Efficiency', 'Quality', 'Commitment', 'Responsibility', 'Teamwork'])\n",
        "performance_A = np.random.randint(1, 5, 5)\n",
        "performance_B = np.random.randint(1, 5, 5)\n",
        "performance_C = np.random.randint(1, 5, 5)\n",
        "\n",
        "# Create a DataFrame\n",
        "df3 = pd.DataFrame({\n",
        "    'Metric': labels,\n",
        "    'Employee A': performance_A,\n",
        "    'Employee B': performance_B,\n",
        "    'Employee C': performance_C\n",
        "})\n",
        "\n",
        "# Set 'Metric' as the index\n",
        "df3.set_index('Metric', inplace=True)\n",
        "\n",
        "# Display the DataFrame\n",
        "print(df3)"
      ],
      "metadata": {
        "id": "T_UGYfO_okMA"
      },
      "execution_count": null,
      "outputs": []
    },
    {
      "cell_type": "markdown",
      "source": [
        "### 💙 With the given data (df3), generate a radar chart"
      ],
      "metadata": {
        "id": "n1xw_aU_DJvy"
      }
    },
    {
      "cell_type": "code",
      "source": [],
      "metadata": {
        "id": "r_REBVy7DP-S"
      },
      "execution_count": null,
      "outputs": []
    },
    {
      "cell_type": "markdown",
      "source": [
        "### 8. Pareto Plot"
      ],
      "metadata": {
        "id": "EDjS20_gorJS"
      }
    },
    {
      "cell_type": "code",
      "source": [
        "import numpy as np\n",
        "\n",
        "# Complaint types and their frequencies\n",
        "complaint_types = ['Type A', 'Type B', 'Type C', 'Type D', 'Type E']\n",
        "frequencies = np.random.randint(10, 100, len(complaint_types))\n",
        "\n",
        "# Create a DataFrame\n",
        "df4 = pd.DataFrame({\n",
        "    'Complaint Type': complaint_types,\n",
        "    'Frequency': frequencies\n",
        "})\n",
        "\n",
        "# Set 'Complaint Type' as the index\n",
        "df4.set_index('Complaint Type', inplace=True)\n",
        "\n",
        "# Display the DataFrame\n",
        "print(df4)"
      ],
      "metadata": {
        "id": "dOlXKZriotKT"
      },
      "execution_count": null,
      "outputs": []
    },
    {
      "cell_type": "markdown",
      "source": [
        "### 💙 With the given data (df4), generate a Pareto plot"
      ],
      "metadata": {
        "id": "fHCCS72RDBJp"
      }
    },
    {
      "cell_type": "code",
      "source": [],
      "metadata": {
        "id": "0UzrtorsDPJq"
      },
      "execution_count": null,
      "outputs": []
    },
    {
      "cell_type": "markdown",
      "source": [
        "#The END"
      ],
      "metadata": {
        "id": "woHB9-3uo3lD"
      }
    }
  ]
}