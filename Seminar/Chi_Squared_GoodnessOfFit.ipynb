{
  "nbformat": 4,
  "nbformat_minor": 0,
  "metadata": {
    "colab": {
      "private_outputs": true,
      "provenance": [],
      "authorship_tag": "ABX9TyP+VEXRuoa3B3NrE9UZ0uZ+",
      "include_colab_link": true
    },
    "kernelspec": {
      "name": "python3",
      "display_name": "Python 3"
    },
    "language_info": {
      "name": "python"
    }
  },
  "cells": [
    {
      "cell_type": "markdown",
      "metadata": {
        "id": "view-in-github",
        "colab_type": "text"
      },
      "source": [
        "<a href=\"https://colab.research.google.com/github/MK316/Spring2024/blob/main/Seminar/Chi_Squared_GoodnessOfFit.ipynb\" target=\"_parent\"><img src=\"https://colab.research.google.com/assets/colab-badge.svg\" alt=\"Open In Colab\"/></a>"
      ]
    },
    {
      "cell_type": "markdown",
      "source": [
        "# 📙**Part 2. Chi-Squared Test of Goodness-of-fit**\n",
        "\n",
        "### The Chi-squared goodness of fit test is used to determine whether observed categorical data fits a certain distribution or pattern that is expected based on theoretical considerations or prior knowledge.\n",
        "\n",
        "+ Note: There are 3 datasets for you to practice. Complete them by 6/22 (save this file to your Github repository)"
      ],
      "metadata": {
        "id": "PIoVovQR6GB8"
      }
    },
    {
      "cell_type": "markdown",
      "source": [
        "# 🌀 Sample data analysis (Kim MR)"
      ],
      "metadata": {
        "id": "v4R-bmLgTHoC"
      }
    },
    {
      "cell_type": "markdown",
      "source": [
        "## 0.1 Example: Color Preferences in a Population\n",
        "\n",
        "+ Description: This dataset represents a survey conducted to understand color preferences in a population. Participants (N=1000) were asked to choose their favorite color from a list of five options: 'Green', 'Yellow', 'Purple', 'Blue', 'Red'\n",
        "\n",
        "+ 🔎 Null Hypothesis (H<sub>0</sub>): The distribution of color preferences in the population is uniform, with each color being equally favored.\n",
        "+ 🔎 Alternative Hypothesis (H<sub>A</sub>): There is a difference in color preferences among the population.\n",
        "\n",
        "### 0.2 Data: Contingency table\n",
        "\n",
        "|Red| Blue| Green| Yellow|Purple|Total|\n",
        "|--|--|--|--|--|--|\n",
        "|200|250|150|200|200|1000|\n",
        "\n",
        "\n",
        "### Dataset preview\n",
        "\n",
        "|Responses|Color|\n",
        "|--|--|\n",
        "|1|Red|\n",
        "|2|Green|\n",
        "|3|Yellow|\n",
        "|4|Purple|\n",
        "|...|...|\n"
      ],
      "metadata": {
        "id": "AwZyNcyJ-SdJ"
      }
    },
    {
      "cell_type": "markdown",
      "source": [
        "## 🌱 Step [1] Run the code to generate contingency table of the data\n",
        "\n",
        "Assume that we counted occurrences and have the result"
      ],
      "metadata": {
        "id": "HcZq0R7UsgvR"
      }
    },
    {
      "cell_type": "code",
      "source": [
        "import numpy as np\n",
        "\n",
        "# Generate data\n",
        "np.random.seed(0)\n",
        "sample_size = 1000\n",
        "\n",
        "observed_frequencies = [200, 250, 150, 200, 200]  # Observed frequencies for each color\n",
        "expected = int(sample_size / len(observed_frequencies))\n",
        "\n",
        "expected_frequency = [expected]*5\n",
        "\n",
        "print(observed_frequencies)\n",
        "print(expected_frequency)"
      ],
      "metadata": {
        "id": "D2r4zvszZLhX"
      },
      "execution_count": null,
      "outputs": []
    },
    {
      "cell_type": "markdown",
      "source": [
        "## 🌱Step [2]: Perform the test"
      ],
      "metadata": {
        "id": "ioLii4NstPSZ"
      }
    },
    {
      "cell_type": "code",
      "source": [
        "# Perform chi-squared test\n",
        "from scipy.stats import chisquare\n",
        "chi2_stat, p_value = chisquare(observed_frequencies)\n",
        "\n",
        "print(\"Chi-squared Statistic:\", chi2_stat)\n",
        "print(\"P-value:\", p_value)"
      ],
      "metadata": {
        "id": "4AuJdro1ZcEZ"
      },
      "execution_count": null,
      "outputs": []
    },
    {
      "cell_type": "markdown",
      "source": [
        "'e' is scientific notation. To convert it use the code below"
      ],
      "metadata": {
        "id": "NnHoV3sAeDd5"
      }
    },
    {
      "cell_type": "code",
      "source": [
        "print(\"P-value:\", '{:.20f}'.format(p_value))"
      ],
      "metadata": {
        "id": "zmr5PSHzd-H7"
      },
      "execution_count": null,
      "outputs": []
    },
    {
      "cell_type": "markdown",
      "source": [
        "## 🌱Step [3]: Calculate standardized Residuals"
      ],
      "metadata": {
        "id": "JPpY_dePtUtl"
      }
    },
    {
      "cell_type": "markdown",
      "source": [
        "### Standardized Residuals\n",
        "\n",
        "To analyze which color is significantly different from the expected distribution in a goodness of fit test, you can calculate the standardized residuals for each category. Standardized residuals measure the difference between the observed and expected frequencies in terms of standard deviations.\n",
        "\n",
        "+ Calculate the expected frequencies for each color based on the expected distribution (uniform distribution in this case).\n",
        "\n",
        "+ Calculate the Chi-squared statistic and P-value for the goodness of fit test.\n",
        "\n",
        "+ Calculate the standardized residuals for each color using the formula:\n",
        "\n",
        "> Standardized Residual = (Observed Frequency - Expected Frequency) / sqrt(Expected Frequency)\n",
        "\n",
        "+ Determine the **critical value** for statistical significance (e.g., ±1.96 for a significance level of 0.05).\n",
        "\n",
        "+ Identify colors with standardized residuals that exceed the critical value in absolute terms. These colors are significantly different from the expected distribution."
      ],
      "metadata": {
        "id": "isKtl0Ryfy74"
      }
    },
    {
      "cell_type": "code",
      "source": [
        "import numpy as np\n",
        "from scipy.stats import chisquare\n",
        "\n",
        "# Labels for the colors\n",
        "labels = ['Green', 'Yellow', 'Purple', 'Blue', 'Red']\n",
        "\n",
        "# Observed frequencies for each color\n",
        "observed_frequencies = [200, 250, 150, 200, 200]\n",
        "\n",
        "# Calculate expected frequency (uniform distribution)\n",
        "sample_size = sum(observed_frequencies)\n",
        "expected_frequency = sample_size / len(observed_frequencies)\n",
        "expected_frequencies = [expected_frequency] * len(observed_frequencies)\n",
        "\n",
        "# Perform Chi-squared test\n",
        "chi2_stat, p_value = chisquare(observed_frequencies, expected_frequencies)\n",
        "\n",
        "# Calculate standardized residuals\n",
        "standardized_residuals = [(observed - expected) / np.sqrt(expected) for observed, expected in zip(observed_frequencies, expected_frequencies)]\n",
        "\n",
        "# Determine critical value for statistical significance (e.g., ±1.96 for 95% confidence)\n",
        "critical_value = 1.96\n",
        "\n",
        "# Identify colors significantly different from expected\n",
        "significant_colors = [labels[i] for i, residual in enumerate(standardized_residuals) if abs(residual) > critical_value]\n",
        "\n",
        "# Print results\n",
        "print(\"Chi-squared Statistic:\", chi2_stat)\n",
        "print(\"P-value:\", p_value)\n",
        "print(\"Standardized Residuals:\", dict(zip(labels, standardized_residuals)))\n",
        "print(\"Significantly different colors:\", significant_colors)\n"
      ],
      "metadata": {
        "id": "4N--cdA-f3Jj"
      },
      "execution_count": null,
      "outputs": []
    },
    {
      "cell_type": "markdown",
      "source": [
        "## Reporting format:\n",
        "\n",
        "+ This analysis examines the relationship between X and Y using a Chi-squared test of independence. The dataset consists of [brief description of dataset].\n",
        "\n",
        "+ (Methodology): A Chi-squared test of independence was conducted with a significance level of 0.05.\n",
        "\n",
        "+ Results:\n",
        "\n",
        "  + Chi-squared Statistic: 25.0\n",
        "  + Degrees of Freedom: (5-1) = 4\n",
        "  + Standardized Residuals: [0.0, 3.536, -3.536, 0.0, 0.0]\n",
        "  + P-value: 5.0309817823062075e-05\n",
        "\n",
        "+ Interpretation:\n",
        "  + 1) The Chi-squared statistic of 25.0 with a P-value of 5.03e-05 suggests that there is a significant association between X and Y at the 0.05 significance level. Therefore, we reject the null hypothesis and conclude that there is evidence of a significant relationship between the variables.\n",
        "  + 2) Standardized residuals help identify which specific categories (colors) contribute most to the overall Chi-squared statistic. The standardized residuals are:\n",
        "\n",
        ">||Green|Yellow|Purple|Blue|Red|\n",
        ">|--|--|--|--|--|--|\n",
        ">|S.Residuals|0.0|3.536|-3.536|0.0|0.0|\n",
        "\n",
        "  + A standardized residual value indicates how many standard deviations the observed frequency is from the expected frequency. Typically, a standardized residual greater than ±1.96 indicates a significant deviation at the 0.05 significance level.\n",
        "  + Based on the standardized residuals: Colors 2 (Yellow) and 3 (Purple) have standardized residuals of approximately ±3.54, which are much higher than ±1.96. This means that these colors ( significantly deviate from the expected frequencies."
      ],
      "metadata": {
        "id": "KU_iYP4rejec"
      }
    },
    {
      "cell_type": "markdown",
      "source": [
        "## 🌱 Residual Plot"
      ],
      "metadata": {
        "id": "sGkqheQRsQg8"
      }
    },
    {
      "cell_type": "code",
      "source": [
        "import numpy as np\n",
        "import matplotlib.pyplot as plt\n",
        "from scipy.stats import chisquare\n",
        "\n",
        "# Labels for the colors\n",
        "labels = ['Green', 'Yellow', 'Purple', 'Blue', 'Red']\n",
        "\n",
        "# Observed frequencies for each color\n",
        "observed_frequencies = [200, 250, 150, 200, 200]\n",
        "\n",
        "# Calculate expected frequency (uniform distribution)\n",
        "sample_size = sum(observed_frequencies)\n",
        "expected_frequency = sample_size / len(observed_frequencies)\n",
        "expected_frequencies = [expected_frequency] * len(observed_frequencies)\n",
        "\n",
        "# Perform Chi-squared test\n",
        "chi2_stat, p_value = chisquare(observed_frequencies, expected_frequencies)\n",
        "\n",
        "# Calculate standardized residuals\n",
        "standardized_residuals = [(observed - expected) / np.sqrt(expected) for observed, expected in zip(observed_frequencies, expected_frequencies)]\n",
        "\n",
        "# Plot standardized residuals\n",
        "plt.figure(figsize=(10, 6))\n",
        "bars = plt.bar(labels, standardized_residuals, color=['Green', 'Yellow', 'Purple', 'Blue', 'Red'])\n",
        "\n",
        "# Add a horizontal line at y=0 for reference\n",
        "plt.axhline(0, color='black', linewidth=0.8)\n",
        "\n",
        "# Add a horizontal line at y=±1.96 to indicate the significance threshold\n",
        "plt.axhline(1.96, color='grey', linestyle='--', linewidth=1)\n",
        "plt.axhline(-1.96, color='grey', linestyle='--', linewidth=1)\n",
        "\n",
        "# Add labels and title\n",
        "plt.xlabel('Colors')\n",
        "plt.ylabel('Standardized Residuals')\n",
        "plt.title('Standardized Residuals for Color Preferences')\n",
        "plt.xticks(rotation=45)\n",
        "\n",
        "# Annotate bars that are significantly different\n",
        "for bar in bars:\n",
        "    height = bar.get_height()\n",
        "    if abs(height) > 1.96:\n",
        "        plt.annotate(f'{height:.2f}',\n",
        "                     xy=(bar.get_x() + bar.get_width() / 2, height),\n",
        "                     xytext=(0, 3),  # 3 points vertical offset\n",
        "                     textcoords=\"offset points\",\n",
        "                     ha='center', va='bottom')\n",
        "\n",
        "# Show the plot\n",
        "plt.tight_layout()\n",
        "plt.show()\n"
      ],
      "metadata": {
        "id": "beatURPHfteH"
      },
      "execution_count": null,
      "outputs": []
    },
    {
      "cell_type": "markdown",
      "source": [
        "## Step 🌱[4]: Calculate Contributions"
      ],
      "metadata": {
        "id": "03ezmsWPtoRE"
      }
    },
    {
      "cell_type": "markdown",
      "source": [
        "### **Calculating contributions**\n",
        "\n",
        "Reporting contributions to the Chi-squared statistic can provide additional insights into which categories (colors, in this case) contribute most to the observed differences from the expected distribution. This can help in understanding the nature of the deviation more precisely.\n",
        "\n",
        "+ The contribution of each cell to the Chi-squared statistic is given by:\n",
        "> Contribution_ij = ( (Observed_ij - Expected_ij)^2 ) / Expected_ij\n",
        "\n",
        "||Green|Yellow|Purple|Blue|Red|\n",
        "|--|--|--|--|--|--|\n",
        "|Contributions|0.0|12.5|12.5|0.0|0.0|\n"
      ],
      "metadata": {
        "id": "0exym1nYmtg7"
      }
    },
    {
      "cell_type": "code",
      "source": [
        "import numpy as np\n",
        "from scipy.stats import chisquare\n",
        "\n",
        "# Labels for the colors\n",
        "labels = ['Green', 'Yellow', 'Purple', 'Blue', 'Red']\n",
        "\n",
        "# Observed frequencies for each color\n",
        "observed_frequencies = [200, 250, 150, 200, 200]\n",
        "\n",
        "# Calculate expected frequency (uniform distribution)\n",
        "sample_size = sum(observed_frequencies)\n",
        "expected_frequency = sample_size / len(observed_frequencies)\n",
        "expected_frequencies = [expected_frequency] * len(observed_frequencies)\n",
        "\n",
        "# Perform Chi-squared test\n",
        "chi2_stat, p_value = chisquare(observed_frequencies, expected_frequencies)\n",
        "\n",
        "# Calculate contributions to the Chi-squared statistic\n",
        "contributions = [(observed - expected) ** 2 / expected for observed, expected in zip(observed_frequencies, expected_frequencies)]\n",
        "\n",
        "# Print contributions to Chi-squared statistic\n",
        "contribution_dict = dict(zip(labels, contributions))\n",
        "print(\"Contributions to Chi-squared Statistic:\", contribution_dict)\n"
      ],
      "metadata": {
        "id": "DaVZ5v12ttqa"
      },
      "execution_count": null,
      "outputs": []
    },
    {
      "cell_type": "markdown",
      "source": [
        "## Step [5]: Interpretation of the result and conclusion\n",
        "\n",
        "\n",
        "+ The Chi-squared test results indicate a significant difference between the observed and expected distributions of color preferences. The standardized residuals show that the colors Yellow and Purple significantly deviate from the expected frequencies.\n",
        "+ Specifically, **Yellow is more preferred than expected, and Purple is less preferred than expected.** The contributions to the Chi-squared statistic indicate that the deviations in Yellow and Purple are the primary drivers of the significant result, each contributing 12.5 to the total Chi-squared statistic of 25.0."
      ],
      "metadata": {
        "id": "CMt1Ry2EuOjr"
      }
    },
    {
      "cell_type": "markdown",
      "source": [
        "---\n",
        "# ⏰ Data set 1 (Jung WC)\n",
        "\n",
        "## 1.1 Data: Preference for Social Media Platforms\n",
        "Description: This dataset explores the preference for different social media platforms among internet users. The options include Facebook, Instagram, Twitter, Snapchat, and LinkedIn.\n",
        "\n",
        "+ Null Hypothesis: The distribution of social media platform preferences among internet users follows a specific expected distribution.\n",
        "\n",
        "+ Alternative Hypothesis: There is a significant difference in the preferences for social media platforms among internet users.\n",
        "\n",
        "## 1.2 Data contingency table\n",
        "\n",
        "|Facebook|Instagram|Twitter|Snapchat|LinkedIn|\n",
        "|--|--|--|--|--|\n",
        "|200|150|100|250|100|"
      ],
      "metadata": {
        "id": "o0XBDWZU7DlD"
      }
    },
    {
      "cell_type": "markdown",
      "source": [
        "## Step [1] Get the data and contingency table"
      ],
      "metadata": {
        "id": "ulyMX1BpLAbT"
      }
    },
    {
      "cell_type": "code",
      "execution_count": null,
      "metadata": {
        "id": "KllZydVO-FJU"
      },
      "outputs": [],
      "source": [
        "import numpy as np\n",
        "\n",
        "# Generate data\n",
        "np.random.seed(0)\n",
        "sample_size = 800\n",
        "observed_frequencies = [200, 150, 100, 250, 100]  # Observed frequencies for each platform\n",
        "expected = sample_size / len(observed_frequencies)\n",
        "\n",
        "expected_frequency = [expected]*5\n",
        "\n",
        "print(observed_frequencies)\n",
        "print(expected_frequency)"
      ]
    },
    {
      "cell_type": "markdown",
      "source": [
        "## Step [2] Perform Chi-squared test of Goodness of fit"
      ],
      "metadata": {
        "id": "xUNJWE9fqMyE"
      }
    },
    {
      "cell_type": "code",
      "source": [
        "# Perform chi-squared test\n",
        "from scipy.stats import chisquare\n",
        "\n"
      ],
      "metadata": {
        "collapsed": true,
        "id": "8evQV05TqMM0"
      },
      "execution_count": null,
      "outputs": []
    },
    {
      "cell_type": "markdown",
      "source": [
        "## Step [3] Calculate Standardized Residuals"
      ],
      "metadata": {
        "id": "MPUDxm7wLEAR"
      }
    },
    {
      "cell_type": "code",
      "source": [],
      "metadata": {
        "id": "YthB09JQLE_t"
      },
      "execution_count": null,
      "outputs": []
    },
    {
      "cell_type": "markdown",
      "source": [
        "## 🔎 Generate Residual Plot"
      ],
      "metadata": {
        "id": "cuJe4idJqpcB"
      }
    },
    {
      "cell_type": "code",
      "source": [],
      "metadata": {
        "id": "IjY8CCrBrLbd"
      },
      "execution_count": null,
      "outputs": []
    },
    {
      "cell_type": "markdown",
      "source": [
        "## Step [4] Calculate Contributions"
      ],
      "metadata": {
        "id": "WvbfhEg8LFkz"
      }
    },
    {
      "cell_type": "code",
      "source": [],
      "metadata": {
        "id": "MzS43DCwrMbO"
      },
      "execution_count": null,
      "outputs": []
    },
    {
      "cell_type": "markdown",
      "source": [
        "## Step [5] Interpretation of the result and make a conclusion\n",
        "\n",
        "🔎 Write here your interpretation based on the result"
      ],
      "metadata": {
        "id": "5tCxeDm5LHsG"
      }
    },
    {
      "cell_type": "markdown",
      "source": [
        "---\n",
        "# ⏰ Data set 2 (Sohn HS)\n",
        "\n",
        "## 2.1 Description:\n",
        "\n",
        "This dataset investigates the preference for different music genres among a group of listeners. The genres include Pop, Rock, Hip-Hop, Jazz, and Classical.\n",
        "\n",
        "+ Null Hypothesis: The distribution of music genre preferences among listeners is consistent with a specific expected distribution.\n",
        "+ Alternative Hypothesis: There is a notable difference in music genre preferences among listeners.\n",
        "\n",
        "## 2.2 Data contingency table\n",
        "\n",
        "|Pop|Rock|Hip-Hop|Jazz|Classical|\n",
        "|--|--|--|--|--|\n",
        "|250|200|150|300|300|"
      ],
      "metadata": {
        "id": "0_J_cma6JtLY"
      }
    },
    {
      "cell_type": "markdown",
      "source": [
        "## Step [1] Run the code below to get the data, observed frequency (e.g., contingency table)"
      ],
      "metadata": {
        "id": "p9Nz9CpmLQS0"
      }
    },
    {
      "cell_type": "code",
      "execution_count": null,
      "metadata": {
        "id": "SnE3CwNQLQS0"
      },
      "outputs": [],
      "source": [
        "import numpy as np\n",
        "\n",
        "# Generate data\n",
        "np.random.seed(0)\n",
        "sample_size = 1200\n",
        "observed_frequencies = [250, 200, 150, 300, 300]  # Observed frequencies for each genre\n",
        "expected = sample_size / len(observed_frequencies)\n",
        "\n",
        "expected_frequency = [expected]*5\n",
        "\n",
        "print(observed_frequencies)\n",
        "print(expected_frequency)\n"
      ]
    },
    {
      "cell_type": "markdown",
      "source": [
        "## Step [2] Perform Chi-squared test of Goodness of fit"
      ],
      "metadata": {
        "id": "hDZBAae1LQS0"
      }
    },
    {
      "cell_type": "code",
      "source": [],
      "metadata": {
        "id": "CgPBdNbMLQS0"
      },
      "execution_count": null,
      "outputs": []
    },
    {
      "cell_type": "markdown",
      "source": [
        "## Step [3] Calculate Standardized Residuals"
      ],
      "metadata": {
        "id": "72BwiuwCLQS1"
      }
    },
    {
      "cell_type": "code",
      "source": [],
      "metadata": {
        "id": "OKrUMiGcLQS1"
      },
      "execution_count": null,
      "outputs": []
    },
    {
      "cell_type": "markdown",
      "source": [
        "## Step [4] Calculate Contributions"
      ],
      "metadata": {
        "id": "JGi3PzX3LQS1"
      }
    },
    {
      "cell_type": "markdown",
      "source": [
        "## Step [5] Interpretation of the result and make a conclusion\n",
        "\n",
        "🔎 Write here your interpretation based on the result"
      ],
      "metadata": {
        "id": "r3rFtkk8LQS1"
      }
    },
    {
      "cell_type": "markdown",
      "source": [
        "---\n",
        "# ⏰ Data set 3 (Choi JM)\n",
        "\n",
        "## 3.1 Smartphone Brand Preferences\n",
        "Description: This dataset examines the preference for different smartphone brands among consumers. The brands include Apple, Samsung, Huawei, Xiaomi, and OnePlus.\n",
        "\n",
        "+ Null Hypothesis: The distribution of smartphone brand preferences among consumers conforms to a specific expected distribution.\n",
        "+ Alternative Hypothesis: There exists a significant difference in smartphone brand preferences among consumers.\n",
        "\n",
        "## 3.2 Data contingency table\n",
        "\n",
        "|Apple|Samsung|Huawei|Xiaomi|OnePlus|\n",
        "|--|--|--|--|--|\n",
        "|350|250|200|400|300|"
      ],
      "metadata": {
        "id": "nkDausRgJxqN"
      }
    },
    {
      "cell_type": "markdown",
      "source": [
        "## Step [1] Run the code below to get the data, observed frequency (e.g., contingency table)"
      ],
      "metadata": {
        "id": "7e6915ezLTxu"
      }
    },
    {
      "cell_type": "code",
      "execution_count": null,
      "metadata": {
        "id": "iOFqaCyXLTxu"
      },
      "outputs": [],
      "source": [
        "import numpy as np\n",
        "\n",
        "# Generate data\n",
        "np.random.seed(0)\n",
        "sample_size = 1500\n",
        "observed_frequencies = [350, 250, 200, 400, 300]  # Observed frequencies for each brand\n",
        "expected_frequency = sample_size / len(observed_frequencies)\n",
        "\n",
        "# Perform chi-squared test\n",
        "from scipy.stats import chisquare\n",
        "chi2_stat, p_value = chisquare(observed_frequencies)\n",
        "\n",
        "print(\"Chi-squared Statistic:\", chi2_stat)\n",
        "print(\"P-value:\", p_value)\n"
      ]
    },
    {
      "cell_type": "markdown",
      "source": [
        "## Step [2] Perform Chi-squared test of Goodness of fit"
      ],
      "metadata": {
        "id": "wXNnzKQ2LTxu"
      }
    },
    {
      "cell_type": "code",
      "source": [],
      "metadata": {
        "id": "RKev4i5eLTxv"
      },
      "execution_count": null,
      "outputs": []
    },
    {
      "cell_type": "markdown",
      "source": [
        "## Step [3] Calculate Standardized Residuals"
      ],
      "metadata": {
        "id": "wkn8cxBfLTxv"
      }
    },
    {
      "cell_type": "code",
      "source": [],
      "metadata": {
        "id": "DFKtWcFNLTxv"
      },
      "execution_count": null,
      "outputs": []
    },
    {
      "cell_type": "markdown",
      "source": [
        "## Step [4] Calculate Contributions"
      ],
      "metadata": {
        "id": "syYOuUWULTxv"
      }
    },
    {
      "cell_type": "markdown",
      "source": [
        "## Step [5] Interpretation of the result and make a conclusion\n",
        "\n",
        "🔎 Write here your interpretation based on the result"
      ],
      "metadata": {
        "id": "uNjTiU34LTxv"
      }
    },
    {
      "cell_type": "markdown",
      "source": [
        "---\n",
        "The End"
      ],
      "metadata": {
        "id": "F3y29jFtPqox"
      }
    }
  ]
}